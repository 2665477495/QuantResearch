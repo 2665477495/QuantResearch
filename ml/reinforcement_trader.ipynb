{
  "nbformat": 4,
  "nbformat_minor": 0,
  "metadata": {
    "colab": {
      "name": "trading_env",
      "provenance": [],
      "collapsed_sections": [],
      "toc_visible": true,
      "authorship_tag": "ABX9TyP8EHlKmhZ0QzJ5HIHyJlE4",
      "include_colab_link": true
    },
    "kernelspec": {
      "name": "python3",
      "display_name": "Python 3"
    },
    "language_info": {
      "name": "python"
    }
  },
  "cells": [
    {
      "cell_type": "markdown",
      "metadata": {
        "id": "view-in-github",
        "colab_type": "text"
      },
      "source": [
        "<a href=\"https://colab.research.google.com/github/letianzj/QuantResearch/blob/master/ml/reinforcement_trader.ipynb\" target=\"_parent\"><img src=\"https://colab.research.google.com/assets/colab-badge.svg\" alt=\"Open In Colab\"/></a>"
      ]
    },
    {
      "cell_type": "markdown",
      "source": [
        "(Use Open in Colab button above to see trading vidoes)\n",
        "\n",
        "## Introduction\n",
        "\n",
        "From reinforcement gamer to reinforcement trader\n",
        "\n",
        "As illustrated in the figure below, investing bears a clear resemblance to game playing. In fact, some good poke players, such as Edward Thorp, also stand out in the stock markets.\n",
        "\n",
        "\n",
        "![From Game Player to Stock Trader](https://files.gitbook.com/v0/b/gitbook-x-prod.appspot.com/o/spaces%2F-MSGPuOMqasmUECLHyXj%2Fuploads%2Fgit-blob-87626e4bd747bdb40439277c09abce3e5aeb822d%2Fch5_rl_stock_trading.PNG?alt=media)\n",
        "\n",
        "source: [Chapter Machine Learning](https://letianzj.gitbook.io/systematic-investing/products_and_methodologies/machine_learning)"
      ],
      "metadata": {
        "id": "escS5QYOGuOO"
      }
    },
    {
      "cell_type": "markdown",
      "source": [
        "Reinforcement learning has been applied to stock trading and portfolio management. Xiong, Zhuoran, et al (2018) explore the stock market and Zhang, et al (2020) trade the futures market. Nan, et al (2020) add news headline sentiments into the training. Spooner, Thomas, et al (2018) study the market makers who face inventory risk. Fischer, T. G. (2018) provides a survey of current reinforcement learning status in financial markets.\n",
        "\n",
        "This notebook focuses on the trading part. It trains a reinforcement trader to buy and sell stocks. The objective is to achieve higher end dollar profits. Of course, other risk adjusted objectives such as Sharpe ratio are also viable.\n",
        "\n",
        "The next notebook will focus on the portfolio management part, by training a reinforcement portfolio management to perform strategic allocation among stocks or asset classes."
      ],
      "metadata": {
        "id": "Q39719xvSNFh"
      }
    },
    {
      "cell_type": "markdown",
      "source": [
        "## Setup"
      ],
      "metadata": {
        "id": "DaRVWdDAxe4j"
      }
    },
    {
      "cell_type": "markdown",
      "source": [
        "Uncomment to execute once"
      ],
      "metadata": {
        "id": "FuQbinnVg0ts"
      }
    },
    {
      "cell_type": "code",
      "source": [
        "# !sudo apt-get update\n",
        "# !pip install yfinance\n",
        "# !pip install ta\n",
        "# !pip install -U gym==0.21.0\n",
        "# !pip install -U quanttrader==0.5.5\n",
        "# !pip install -U pyfolio==0.9.2\n",
        "\n",
        "# !sudo apt-get install -y xvfb ffmpeg freeglut3-dev\n",
        "# !pip install 'imageio==2.4.0'\n",
        "# !pip install pyvirtualdisplay\n",
        "# !pip install tf-agents[reverb]\n",
        "# !pip install pyglet\n",
        "# !pip install -U PyYaml==3.13"
      ],
      "metadata": {
        "id": "_ZBIKqpQGwDo"
      },
      "execution_count": 11,
      "outputs": []
    },
    {
      "cell_type": "markdown",
      "source": [
        "Restart the runtime to take PyYaml==3.13 into effect. Otherwise pyfolio will complain on yaml.load error. \n",
        "\n",
        "It might needs to run twice."
      ],
      "metadata": {
        "id": "VfL0ASnxg4Ir"
      }
    },
    {
      "cell_type": "code",
      "source": [
        "import os\n",
        "import io\n",
        "import tempfile\n",
        "import shutil\n",
        "import zipfile\n",
        "from google.colab import files\n",
        "\n",
        "from datetime import datetime\n",
        "import matplotlib.pyplot as plt\n",
        "import numpy as np\n",
        "import pandas as pd\n",
        "import yfinance as yf\n",
        "import gym\n",
        "from quanttrader import TradingEnv\n",
        "import pyfolio as pf\n",
        "\n",
        "import tensorflow as tf\n",
        "from tf_agents.agents.dqn import dqn_agent\n",
        "from tf_agents.drivers import py_driver\n",
        "from tf_agents.drivers.dynamic_step_driver import DynamicStepDriver\n",
        "from tf_agents.environments import tf_py_environment\n",
        "from tf_agents.environments import suite_gym\n",
        "from tf_agents.eval import metric_utils\n",
        "from tf_agents.metrics import tf_metrics\n",
        "from tf_agents.networks import sequential, q_network, network\n",
        "from tf_agents.policies import py_tf_eager_policy\n",
        "from tf_agents.policies import random_tf_policy\n",
        "from tf_agents.policies import policy_saver\n",
        "from tf_agents.replay_buffers import TFUniformReplayBuffer\n",
        "from tf_agents.trajectories import trajectory\n",
        "from tf_agents.specs import tensor_spec\n",
        "from tf_agents.utils import common\n",
        "\n",
        "import base64\n",
        "import imageio\n",
        "import IPython\n",
        "import matplotlib\n",
        "import matplotlib.pyplot as plt\n",
        "import numpy as np\n",
        "import PIL.Image\n",
        "import pyvirtualdisplay\n",
        "import reverb"
      ],
      "metadata": {
        "id": "ER_W-4TKMo4k"
      },
      "execution_count": 6,
      "outputs": []
    },
    {
      "cell_type": "code",
      "source": [
        "gym.__version__, qt.__version__, pf.__version__"
      ],
      "metadata": {
        "colab": {
          "base_uri": "https://localhost:8080/"
        },
        "id": "sT2DoLgqTK-U",
        "outputId": "750f821a-957e-43c4-b548-dd61e40af664"
      },
      "execution_count": 4,
      "outputs": [
        {
          "output_type": "execute_result",
          "data": {
            "text/plain": [
              "('0.21.0', '0.5.5', '0.9.2')"
            ]
          },
          "metadata": {},
          "execution_count": 4
        }
      ]
    },
    {
      "cell_type": "code",
      "source": [
        "def load_data():\n",
        "    from datetime import timedelta\n",
        "    import ta\n",
        "\n",
        "    start_date = datetime(2010, 1, 1)\n",
        "    end_date = datetime(2020, 12, 31)\n",
        "    syms = ['SPY']\n",
        "    max_price_scaler = 5_000.0\n",
        "    max_volume_scaler = 1.5e10\n",
        "    df_obs = pd.DataFrame()             # observation\n",
        "    df_exch = pd.DataFrame()            # exchange; for order match\n",
        "\n",
        "    for sym in syms:\n",
        "        df = yf.download(sym, start=start_date, end=end_date)\n",
        "        df.index = pd.to_datetime(df.index) + timedelta(hours=15, minutes=59, seconds=59)\n",
        "\n",
        "        df_exch = pd.concat([df_exch, df['Close'].rename(sym)], axis=1)\n",
        "\n",
        "        df['Open'] = df['Adj Close'] / df['Close'] * df['Open'] / max_price_scaler\n",
        "        df['High'] = df['Adj Close'] / df['Close'] * df['High'] / max_price_scaler\n",
        "        df['Low'] = df['Adj Close'] / df['Close'] * df['Low'] / max_price_scaler\n",
        "        df['Volume'] = df['Adj Close'] / df['Close'] * df['Volume'] / max_volume_scaler\n",
        "        df['Close'] = df['Adj Close'] / max_price_scaler\n",
        "        df = df[['Open', 'High', 'Low', 'Close', 'Volume']]\n",
        "        df.columns = [f'{sym}:{c.lower()}' for c in df.columns]\n",
        "\n",
        "        macd = ta.trend.MACD(close=df[f'{sym}:close'])\n",
        "        df[f'{sym}:macd'] = macd.macd()\n",
        "        df[f'{sym}:macd_diff'] = macd.macd_diff()\n",
        "        df[f'{sym}:macd_signal'] = macd.macd_signal()\n",
        "\n",
        "        rsi = ta.momentum.RSIIndicator(close=df[f'{sym}:close'])\n",
        "        df[f'{sym}:rsi'] = rsi.rsi()\n",
        "\n",
        "        bb = ta.volatility.BollingerBands(close=df[f'{sym}:close'], window=20, window_dev=2)\n",
        "        df[f'{sym}:bb_bbm'] = bb.bollinger_mavg()\n",
        "        df[f'{sym}:bb_bbh'] = bb.bollinger_hband()\n",
        "        df[f'{sym}:bb_bbl'] = bb.bollinger_lband()\n",
        "\n",
        "        atr = ta.volatility.AverageTrueRange(high=df[f'{sym}:high'], low=df[f'{sym}:low'], close=df[f'{sym}:close'])\n",
        "        df[f'{sym}:atr'] = atr.average_true_range()\n",
        "\n",
        "        df_obs = pd.concat([df_obs, df], axis=1)\n",
        "\n",
        "    return df_obs, df_exch"
      ],
      "metadata": {
        "id": "5fSV1DwxRVeK"
      },
      "execution_count": 8,
      "outputs": []
    },
    {
      "cell_type": "code",
      "source": [
        "df_obs, df_exch = load_data()"
      ],
      "metadata": {
        "colab": {
          "base_uri": "https://localhost:8080/"
        },
        "id": "q2t0L_4sM_O7",
        "outputId": "da7d7604-5f77-405b-d7e7-ab57d0f2c012"
      },
      "execution_count": 9,
      "outputs": [
        {
          "output_type": "stream",
          "name": "stdout",
          "text": [
            "\r[*********************100%***********************]  1 of 1 completed\n"
          ]
        }
      ]
    },
    {
      "cell_type": "markdown",
      "source": [
        "## Trading Environment"
      ],
      "metadata": {
        "id": "opp8zTMeBOLE"
      }
    },
    {
      "cell_type": "code",
      "source": [
        "look_back = 10\n",
        "cash = 100_000.0\n",
        "max_nav_scaler = cash\n",
        "\n",
        "train_qt_env = TradingEnv(2, df_obs, df_exch)\n",
        "train_qt_env.set_cash(cash)\n",
        "train_qt_env.set_commission(0.0001)\n",
        "train_qt_env.set_steps(n_lookback=10, n_warmup=50, n_maxsteps=250)\n",
        "train_qt_env.set_feature_scaling(max_nav_scaler)\n",
        "\n",
        "eval_qt_env = TradingEnv(2, df_obs, df_exch)\n",
        "eval_qt_env.set_cash(cash)\n",
        "eval_qt_env.set_commission(0.0001)\n",
        "eval_qt_env.set_steps(n_lookback=10, n_warmup=50, n_maxsteps=2500, n_init_step=504)         # index 504 is 2012-01-03\n",
        "eval_qt_env.set_feature_scaling(max_nav_scaler)"
      ],
      "metadata": {
        "id": "WCv1oFGgNArj"
      },
      "execution_count": 10,
      "outputs": []
    },
    {
      "cell_type": "code",
      "source": [
        "o1 = train_qt_env.reset()\n",
        "train_qt_env._init_step"
      ],
      "metadata": {
        "colab": {
          "base_uri": "https://localhost:8080/"
        },
        "id": "eJHYzMHayE_8",
        "outputId": "dd6ff944-4b30-420a-d7b6-b95832059112"
      },
      "execution_count": 11,
      "outputs": [
        {
          "output_type": "execute_result",
          "data": {
            "text/plain": [
              "584"
            ]
          },
          "metadata": {},
          "execution_count": 11
        }
      ]
    },
    {
      "cell_type": "code",
      "source": [
        "o1 = train_qt_env.reset()\n",
        "total_reward = 0.0\n",
        "while True:\n",
        "    action = train_qt_env.action_space.sample()\n",
        "    o2, reward, done, info = train_qt_env.step(action)\n",
        "    total_reward += reward\n",
        "    #print(action, reward * max_nav_scaler, info)\n",
        "    if done:\n",
        "        break"
      ],
      "metadata": {
        "id": "HuQnPoBISRQ0"
      },
      "execution_count": 12,
      "outputs": []
    },
    {
      "cell_type": "code",
      "source": [
        "o1.shape, o2.shape"
      ],
      "metadata": {
        "colab": {
          "base_uri": "https://localhost:8080/"
        },
        "id": "wtILA27tNH2e",
        "outputId": "d2d6b7ba-940b-4c79-d5ad-fd6cb37588aa"
      },
      "execution_count": 13,
      "outputs": [
        {
          "output_type": "execute_result",
          "data": {
            "text/plain": [
              "((10, 14), (10, 14))"
            ]
          },
          "metadata": {},
          "execution_count": 13
        }
      ]
    },
    {
      "cell_type": "code",
      "source": [
        "x_left = train_qt_env._init_step\n",
        "x_right = min(train_qt_env._df_exch.shape[0], train_qt_env._init_step+train_qt_env._maxsteps+1)\n",
        "df_price = train_qt_env._df_exch[x_left:x_right]\n",
        "df_nav = train_qt_env._df_positions['NAV'][x_left:x_right]\n",
        "df_both = pd.concat([df_nav, df_price], axis=1)\n",
        "df_both = df_both.iloc[1:]\n",
        "df_both.columns = ['tf-agent', 'benchmark']\n",
        "df_ret = df_both / df_both.shift(1) - 1\n",
        "df_ret = df_ret[1:]\n",
        "agent_perf_stats = pf.timeseries.perf_stats(df_ret['tf-agent'])\n",
        "benchmark_perf_stats = pf.timeseries.perf_stats(df_ret['benchmark'])\n",
        "perf_stats = pd.concat([agent_perf_stats, benchmark_perf_stats], axis=1)\n",
        "perf_stats.columns = ['tf-agent', 'benchmark']\n",
        "perf_stats"
      ],
      "metadata": {
        "colab": {
          "base_uri": "https://localhost:8080/",
          "height": 457
        },
        "id": "OjIaNctDTRnE",
        "outputId": "04068bb9-9c0f-4c45-b354-45ebee5ac2f8"
      },
      "execution_count": 14,
      "outputs": [
        {
          "output_type": "execute_result",
          "data": {
            "text/html": [
              "\n",
              "  <div id=\"df-023a51cb-3fbd-4636-8b05-103d52ff4a0e\">\n",
              "    <div class=\"colab-df-container\">\n",
              "      <div>\n",
              "<style scoped>\n",
              "    .dataframe tbody tr th:only-of-type {\n",
              "        vertical-align: middle;\n",
              "    }\n",
              "\n",
              "    .dataframe tbody tr th {\n",
              "        vertical-align: top;\n",
              "    }\n",
              "\n",
              "    .dataframe thead th {\n",
              "        text-align: right;\n",
              "    }\n",
              "</style>\n",
              "<table border=\"1\" class=\"dataframe\">\n",
              "  <thead>\n",
              "    <tr style=\"text-align: right;\">\n",
              "      <th></th>\n",
              "      <th>tf-agent</th>\n",
              "      <th>benchmark</th>\n",
              "    </tr>\n",
              "  </thead>\n",
              "  <tbody>\n",
              "    <tr>\n",
              "      <th>Annual return</th>\n",
              "      <td>-0.023693</td>\n",
              "      <td>0.014375</td>\n",
              "    </tr>\n",
              "    <tr>\n",
              "      <th>Cumulative returns</th>\n",
              "      <td>-0.023414</td>\n",
              "      <td>0.014203</td>\n",
              "    </tr>\n",
              "    <tr>\n",
              "      <th>Annual volatility</th>\n",
              "      <td>0.109128</td>\n",
              "      <td>0.168052</td>\n",
              "    </tr>\n",
              "    <tr>\n",
              "      <th>Sharpe ratio</th>\n",
              "      <td>-0.165274</td>\n",
              "      <td>0.168778</td>\n",
              "    </tr>\n",
              "    <tr>\n",
              "      <th>Calmar ratio</th>\n",
              "      <td>-0.204940</td>\n",
              "      <td>0.102233</td>\n",
              "    </tr>\n",
              "    <tr>\n",
              "      <th>Stability</th>\n",
              "      <td>0.523998</td>\n",
              "      <td>0.005548</td>\n",
              "    </tr>\n",
              "    <tr>\n",
              "      <th>Max drawdown</th>\n",
              "      <td>-0.115608</td>\n",
              "      <td>-0.140615</td>\n",
              "    </tr>\n",
              "    <tr>\n",
              "      <th>Omega ratio</th>\n",
              "      <td>0.958061</td>\n",
              "      <td>1.029755</td>\n",
              "    </tr>\n",
              "    <tr>\n",
              "      <th>Sortino ratio</th>\n",
              "      <td>-0.227923</td>\n",
              "      <td>0.234327</td>\n",
              "    </tr>\n",
              "    <tr>\n",
              "      <th>Skew</th>\n",
              "      <td>-0.320142</td>\n",
              "      <td>-0.247590</td>\n",
              "    </tr>\n",
              "    <tr>\n",
              "      <th>Kurtosis</th>\n",
              "      <td>5.537001</td>\n",
              "      <td>1.447413</td>\n",
              "    </tr>\n",
              "    <tr>\n",
              "      <th>Tail ratio</th>\n",
              "      <td>0.978170</td>\n",
              "      <td>0.895635</td>\n",
              "    </tr>\n",
              "    <tr>\n",
              "      <th>Daily value at risk</th>\n",
              "      <td>-0.013820</td>\n",
              "      <td>-0.021060</td>\n",
              "    </tr>\n",
              "  </tbody>\n",
              "</table>\n",
              "</div>\n",
              "      <button class=\"colab-df-convert\" onclick=\"convertToInteractive('df-023a51cb-3fbd-4636-8b05-103d52ff4a0e')\"\n",
              "              title=\"Convert this dataframe to an interactive table.\"\n",
              "              style=\"display:none;\">\n",
              "        \n",
              "  <svg xmlns=\"http://www.w3.org/2000/svg\" height=\"24px\"viewBox=\"0 0 24 24\"\n",
              "       width=\"24px\">\n",
              "    <path d=\"M0 0h24v24H0V0z\" fill=\"none\"/>\n",
              "    <path d=\"M18.56 5.44l.94 2.06.94-2.06 2.06-.94-2.06-.94-.94-2.06-.94 2.06-2.06.94zm-11 1L8.5 8.5l.94-2.06 2.06-.94-2.06-.94L8.5 2.5l-.94 2.06-2.06.94zm10 10l.94 2.06.94-2.06 2.06-.94-2.06-.94-.94-2.06-.94 2.06-2.06.94z\"/><path d=\"M17.41 7.96l-1.37-1.37c-.4-.4-.92-.59-1.43-.59-.52 0-1.04.2-1.43.59L10.3 9.45l-7.72 7.72c-.78.78-.78 2.05 0 2.83L4 21.41c.39.39.9.59 1.41.59.51 0 1.02-.2 1.41-.59l7.78-7.78 2.81-2.81c.8-.78.8-2.07 0-2.86zM5.41 20L4 18.59l7.72-7.72 1.47 1.35L5.41 20z\"/>\n",
              "  </svg>\n",
              "      </button>\n",
              "      \n",
              "  <style>\n",
              "    .colab-df-container {\n",
              "      display:flex;\n",
              "      flex-wrap:wrap;\n",
              "      gap: 12px;\n",
              "    }\n",
              "\n",
              "    .colab-df-convert {\n",
              "      background-color: #E8F0FE;\n",
              "      border: none;\n",
              "      border-radius: 50%;\n",
              "      cursor: pointer;\n",
              "      display: none;\n",
              "      fill: #1967D2;\n",
              "      height: 32px;\n",
              "      padding: 0 0 0 0;\n",
              "      width: 32px;\n",
              "    }\n",
              "\n",
              "    .colab-df-convert:hover {\n",
              "      background-color: #E2EBFA;\n",
              "      box-shadow: 0px 1px 2px rgba(60, 64, 67, 0.3), 0px 1px 3px 1px rgba(60, 64, 67, 0.15);\n",
              "      fill: #174EA6;\n",
              "    }\n",
              "\n",
              "    [theme=dark] .colab-df-convert {\n",
              "      background-color: #3B4455;\n",
              "      fill: #D2E3FC;\n",
              "    }\n",
              "\n",
              "    [theme=dark] .colab-df-convert:hover {\n",
              "      background-color: #434B5C;\n",
              "      box-shadow: 0px 1px 3px 1px rgba(0, 0, 0, 0.15);\n",
              "      filter: drop-shadow(0px 1px 2px rgba(0, 0, 0, 0.3));\n",
              "      fill: #FFFFFF;\n",
              "    }\n",
              "  </style>\n",
              "\n",
              "      <script>\n",
              "        const buttonEl =\n",
              "          document.querySelector('#df-023a51cb-3fbd-4636-8b05-103d52ff4a0e button.colab-df-convert');\n",
              "        buttonEl.style.display =\n",
              "          google.colab.kernel.accessAllowed ? 'block' : 'none';\n",
              "\n",
              "        async function convertToInteractive(key) {\n",
              "          const element = document.querySelector('#df-023a51cb-3fbd-4636-8b05-103d52ff4a0e');\n",
              "          const dataTable =\n",
              "            await google.colab.kernel.invokeFunction('convertToInteractive',\n",
              "                                                     [key], {});\n",
              "          if (!dataTable) return;\n",
              "\n",
              "          const docLinkHtml = 'Like what you see? Visit the ' +\n",
              "            '<a target=\"_blank\" href=https://colab.research.google.com/notebooks/data_table.ipynb>data table notebook</a>'\n",
              "            + ' to learn more about interactive tables.';\n",
              "          element.innerHTML = '';\n",
              "          dataTable['output_type'] = 'display_data';\n",
              "          await google.colab.output.renderOutput(dataTable, element);\n",
              "          const docLink = document.createElement('div');\n",
              "          docLink.innerHTML = docLinkHtml;\n",
              "          element.appendChild(docLink);\n",
              "        }\n",
              "      </script>\n",
              "    </div>\n",
              "  </div>\n",
              "  "
            ],
            "text/plain": [
              "                     tf-agent  benchmark\n",
              "Annual return       -0.023693   0.014375\n",
              "Cumulative returns  -0.023414   0.014203\n",
              "Annual volatility    0.109128   0.168052\n",
              "Sharpe ratio        -0.165274   0.168778\n",
              "Calmar ratio        -0.204940   0.102233\n",
              "Stability            0.523998   0.005548\n",
              "Max drawdown        -0.115608  -0.140615\n",
              "Omega ratio          0.958061   1.029755\n",
              "Sortino ratio       -0.227923   0.234327\n",
              "Skew                -0.320142  -0.247590\n",
              "Kurtosis             5.537001   1.447413\n",
              "Tail ratio           0.978170   0.895635\n",
              "Daily value at risk -0.013820  -0.021060"
            ]
          },
          "metadata": {},
          "execution_count": 14
        }
      ]
    },
    {
      "cell_type": "code",
      "source": [
        "print(df_nav[0], total_reward, df_nav[-1])\n",
        "np.testing.assert_almost_equal(df_nav[0] + total_reward, df_nav[-1], decimal=5)       # should be equal"
      ],
      "metadata": {
        "colab": {
          "base_uri": "https://localhost:8080/"
        },
        "id": "LYWNucykFDKu",
        "outputId": "adc97b89-c37b-4c64-c029-333900c0a85c"
      },
      "execution_count": 15,
      "outputs": [
        {
          "output_type": "stream",
          "name": "stdout",
          "text": [
            "100000.0 -2769.5254657608093 97230.47453423917\n"
          ]
        }
      ]
    },
    {
      "cell_type": "code",
      "source": [
        "train_qt_env = gym.wrappers.FlattenObservation(train_qt_env)\n",
        "train_py_env = suite_gym.wrap_env(train_qt_env)\n",
        "train_env = tf_py_environment.TFPyEnvironment(train_py_env)\n",
        "\n",
        "eval_qt_env = gym.wrappers.FlattenObservation(eval_qt_env)\n",
        "eval_py_env = suite_gym.wrap_env(eval_qt_env)\n",
        "eval_env = tf_py_environment.TFPyEnvironment(eval_py_env)"
      ],
      "metadata": {
        "id": "1upn2Q1GHs6k"
      },
      "execution_count": 16,
      "outputs": []
    },
    {
      "cell_type": "code",
      "source": [
        "train_env.action_spec()"
      ],
      "metadata": {
        "colab": {
          "base_uri": "https://localhost:8080/"
        },
        "id": "Bb4vRZ0h20Nf",
        "outputId": "6650d090-0db0-4bac-c926-b665320d29d9"
      },
      "execution_count": 17,
      "outputs": [
        {
          "output_type": "execute_result",
          "data": {
            "text/plain": [
              "BoundedTensorSpec(shape=(), dtype=tf.int64, name='action', minimum=array(0), maximum=array(1))"
            ]
          },
          "metadata": {},
          "execution_count": 17
        }
      ]
    },
    {
      "cell_type": "code",
      "source": [
        "train_env.time_step_spec()"
      ],
      "metadata": {
        "colab": {
          "base_uri": "https://localhost:8080/"
        },
        "id": "lhtK_lt3H_WM",
        "outputId": "6803a656-b952-40ef-e61d-9d7457fe6263"
      },
      "execution_count": 18,
      "outputs": [
        {
          "output_type": "execute_result",
          "data": {
            "text/plain": [
              "TimeStep(\n",
              "{'discount': BoundedTensorSpec(shape=(), dtype=tf.float32, name='discount', minimum=array(0., dtype=float32), maximum=array(1., dtype=float32)),\n",
              " 'observation': BoundedTensorSpec(shape=(140,), dtype=tf.float32, name='observation', minimum=array(-3.4028235e+38, dtype=float32), maximum=array(3.4028235e+38, dtype=float32)),\n",
              " 'reward': TensorSpec(shape=(), dtype=tf.float32, name='reward'),\n",
              " 'step_type': TensorSpec(shape=(), dtype=tf.int32, name='step_type')})"
            ]
          },
          "metadata": {},
          "execution_count": 18
        }
      ]
    },
    {
      "cell_type": "markdown",
      "source": [
        "Some helper functions"
      ],
      "metadata": {
        "id": "IcOJcG2JDNV1"
      }
    },
    {
      "cell_type": "code",
      "source": [
        "def embed_mp4(filename):\n",
        "  \"\"\"Embeds an mp4 file in the notebook.\"\"\"\n",
        "  video = open(filename,'rb').read()\n",
        "  b64 = base64.b64encode(video)\n",
        "  tag = '''\n",
        "  <video width=\"640\" height=\"480\" controls>\n",
        "    <source src=\"data:video/mp4;base64,{0}\" type=\"video/mp4\">\n",
        "  Your browser does not support the video tag.\n",
        "  </video>'''.format(b64.decode())\n",
        "\n",
        "  return IPython.display.HTML(tag)\n",
        "\n",
        "def create_policy_eval_video(env, policy, filename, num_episodes=5, fps=30):\n",
        "  filename = filename + \".mp4\"\n",
        "  with imageio.get_writer(filename, fps=fps) as video:\n",
        "    for _ in range(num_episodes):\n",
        "      time_step = env.reset()\n",
        "      video.append_data(env.pyenv.envs[0].render())\n",
        "\n",
        "      while not time_step.is_last():\n",
        "        action_step = policy.action(time_step)\n",
        "        time_step = env.step(action_step.action)\n",
        "        video.append_data(env.pyenv.envs[0].render())\n",
        "\n",
        "  return embed_mp4(filename)"
      ],
      "metadata": {
        "id": "4IWSBdyGDO-u"
      },
      "execution_count": 19,
      "outputs": []
    },
    {
      "cell_type": "markdown",
      "source": [
        "## Spontaneous Trader"
      ],
      "metadata": {
        "id": "DeAYErGcCxUU"
      }
    },
    {
      "cell_type": "code",
      "source": [
        "random_policy = random_tf_policy.RandomTFPolicy(train_env.time_step_spec(), train_env.action_spec())"
      ],
      "metadata": {
        "id": "Mwwcc4gizi3A"
      },
      "execution_count": 20,
      "outputs": []
    },
    {
      "cell_type": "code",
      "source": [
        "time_step = train_py_env.reset()"
      ],
      "metadata": {
        "id": "E2HAttsa17t4"
      },
      "execution_count": 21,
      "outputs": []
    },
    {
      "cell_type": "code",
      "source": [
        "random_policy.action_spec"
      ],
      "metadata": {
        "colab": {
          "base_uri": "https://localhost:8080/"
        },
        "id": "4FZTW40I2axQ",
        "outputId": "ce3ce93c-cddc-424b-90e4-5232be355e8e"
      },
      "execution_count": 22,
      "outputs": [
        {
          "output_type": "execute_result",
          "data": {
            "text/plain": [
              "BoundedTensorSpec(shape=(), dtype=tf.int64, name='action', minimum=array(0), maximum=array(1))"
            ]
          },
          "metadata": {},
          "execution_count": 22
        }
      ]
    },
    {
      "cell_type": "code",
      "source": [
        "time_step = train_env.reset()\n",
        "action_step = random_policy.action(time_step)"
      ],
      "metadata": {
        "id": "Bmh-cYuE2EXn"
      },
      "execution_count": 23,
      "outputs": []
    },
    {
      "cell_type": "markdown",
      "source": [
        "Below shows spontaneous trader's random trading behavior.\n",
        "\n",
        "The upper half is SPY price curve along with red buy and green sell marks. The lower half is NAV or total asset value.\n",
        "\n",
        "Due to random trading window and random trading actions, re-run below code each time will generate slightly different video."
      ],
      "metadata": {
        "id": "u-iWKiHPRNA7"
      }
    },
    {
      "cell_type": "code",
      "source": [
        "create_policy_eval_video(train_env, random_policy, \"random-agent\", num_episodes=1)"
      ],
      "metadata": {
        "colab": {
          "base_uri": "https://localhost:8080/",
          "height": 501
        },
        "id": "LLY13m9nzj0_",
        "outputId": "388a61cd-4732-48e6-b6b0-dc03c1e65d29"
      },
      "execution_count": 24,
      "outputs": [
        {
          "output_type": "execute_result",
          "data": {
            "text/html": [
              "\n",
              "  <video width=\"640\" height=\"480\" controls>\n",
              "    <source src=\"data:video/mp4;base64,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\" type=\"video/mp4\">\n",
              "  Your browser does not support the video tag.\n",
              "  </video>"
            ],
            "text/plain": [
              "<IPython.core.display.HTML object>"
            ]
          },
          "metadata": {},
          "execution_count": 24
        }
      ]
    },
    {
      "cell_type": "code",
      "source": [
        "train_env.pyenv.envs[0].env._df_positions"
      ],
      "metadata": {
        "colab": {
          "base_uri": "https://localhost:8080/",
          "height": 424
        },
        "id": "QRXunkpb-LHP",
        "outputId": "46b41c5b-73ee-4530-9626-edd73d6c856f"
      },
      "execution_count": 277,
      "outputs": [
        {
          "output_type": "execute_result",
          "data": {
            "text/html": [
              "\n",
              "  <div id=\"df-d06a267b-82a6-46e7-bb62-e1dc4b54f941\">\n",
              "    <div class=\"colab-df-container\">\n",
              "      <div>\n",
              "<style scoped>\n",
              "    .dataframe tbody tr th:only-of-type {\n",
              "        vertical-align: middle;\n",
              "    }\n",
              "\n",
              "    .dataframe tbody tr th {\n",
              "        vertical-align: top;\n",
              "    }\n",
              "\n",
              "    .dataframe thead th {\n",
              "        text-align: right;\n",
              "    }\n",
              "</style>\n",
              "<table border=\"1\" class=\"dataframe\">\n",
              "  <thead>\n",
              "    <tr style=\"text-align: right;\">\n",
              "      <th></th>\n",
              "      <th>SPY</th>\n",
              "      <th>Cash</th>\n",
              "      <th>NAV</th>\n",
              "    </tr>\n",
              "  </thead>\n",
              "  <tbody>\n",
              "    <tr>\n",
              "      <th>2010-01-04 15:59:59</th>\n",
              "      <td>0.0</td>\n",
              "      <td>100000.0</td>\n",
              "      <td>100000.0</td>\n",
              "    </tr>\n",
              "    <tr>\n",
              "      <th>2010-01-05 15:59:59</th>\n",
              "      <td>0.0</td>\n",
              "      <td>100000.0</td>\n",
              "      <td>100000.0</td>\n",
              "    </tr>\n",
              "    <tr>\n",
              "      <th>2010-01-06 15:59:59</th>\n",
              "      <td>0.0</td>\n",
              "      <td>100000.0</td>\n",
              "      <td>100000.0</td>\n",
              "    </tr>\n",
              "    <tr>\n",
              "      <th>2010-01-07 15:59:59</th>\n",
              "      <td>0.0</td>\n",
              "      <td>100000.0</td>\n",
              "      <td>100000.0</td>\n",
              "    </tr>\n",
              "    <tr>\n",
              "      <th>2010-01-08 15:59:59</th>\n",
              "      <td>0.0</td>\n",
              "      <td>100000.0</td>\n",
              "      <td>100000.0</td>\n",
              "    </tr>\n",
              "    <tr>\n",
              "      <th>...</th>\n",
              "      <td>...</td>\n",
              "      <td>...</td>\n",
              "      <td>...</td>\n",
              "    </tr>\n",
              "    <tr>\n",
              "      <th>2020-12-23 15:59:59</th>\n",
              "      <td>0.0</td>\n",
              "      <td>0.0</td>\n",
              "      <td>0.0</td>\n",
              "    </tr>\n",
              "    <tr>\n",
              "      <th>2020-12-24 15:59:59</th>\n",
              "      <td>0.0</td>\n",
              "      <td>0.0</td>\n",
              "      <td>0.0</td>\n",
              "    </tr>\n",
              "    <tr>\n",
              "      <th>2020-12-28 15:59:59</th>\n",
              "      <td>0.0</td>\n",
              "      <td>0.0</td>\n",
              "      <td>0.0</td>\n",
              "    </tr>\n",
              "    <tr>\n",
              "      <th>2020-12-29 15:59:59</th>\n",
              "      <td>0.0</td>\n",
              "      <td>0.0</td>\n",
              "      <td>0.0</td>\n",
              "    </tr>\n",
              "    <tr>\n",
              "      <th>2020-12-30 15:59:59</th>\n",
              "      <td>0.0</td>\n",
              "      <td>0.0</td>\n",
              "      <td>0.0</td>\n",
              "    </tr>\n",
              "  </tbody>\n",
              "</table>\n",
              "<p>2768 rows × 3 columns</p>\n",
              "</div>\n",
              "      <button class=\"colab-df-convert\" onclick=\"convertToInteractive('df-d06a267b-82a6-46e7-bb62-e1dc4b54f941')\"\n",
              "              title=\"Convert this dataframe to an interactive table.\"\n",
              "              style=\"display:none;\">\n",
              "        \n",
              "  <svg xmlns=\"http://www.w3.org/2000/svg\" height=\"24px\"viewBox=\"0 0 24 24\"\n",
              "       width=\"24px\">\n",
              "    <path d=\"M0 0h24v24H0V0z\" fill=\"none\"/>\n",
              "    <path d=\"M18.56 5.44l.94 2.06.94-2.06 2.06-.94-2.06-.94-.94-2.06-.94 2.06-2.06.94zm-11 1L8.5 8.5l.94-2.06 2.06-.94-2.06-.94L8.5 2.5l-.94 2.06-2.06.94zm10 10l.94 2.06.94-2.06 2.06-.94-2.06-.94-.94-2.06-.94 2.06-2.06.94z\"/><path d=\"M17.41 7.96l-1.37-1.37c-.4-.4-.92-.59-1.43-.59-.52 0-1.04.2-1.43.59L10.3 9.45l-7.72 7.72c-.78.78-.78 2.05 0 2.83L4 21.41c.39.39.9.59 1.41.59.51 0 1.02-.2 1.41-.59l7.78-7.78 2.81-2.81c.8-.78.8-2.07 0-2.86zM5.41 20L4 18.59l7.72-7.72 1.47 1.35L5.41 20z\"/>\n",
              "  </svg>\n",
              "      </button>\n",
              "      \n",
              "  <style>\n",
              "    .colab-df-container {\n",
              "      display:flex;\n",
              "      flex-wrap:wrap;\n",
              "      gap: 12px;\n",
              "    }\n",
              "\n",
              "    .colab-df-convert {\n",
              "      background-color: #E8F0FE;\n",
              "      border: none;\n",
              "      border-radius: 50%;\n",
              "      cursor: pointer;\n",
              "      display: none;\n",
              "      fill: #1967D2;\n",
              "      height: 32px;\n",
              "      padding: 0 0 0 0;\n",
              "      width: 32px;\n",
              "    }\n",
              "\n",
              "    .colab-df-convert:hover {\n",
              "      background-color: #E2EBFA;\n",
              "      box-shadow: 0px 1px 2px rgba(60, 64, 67, 0.3), 0px 1px 3px 1px rgba(60, 64, 67, 0.15);\n",
              "      fill: #174EA6;\n",
              "    }\n",
              "\n",
              "    [theme=dark] .colab-df-convert {\n",
              "      background-color: #3B4455;\n",
              "      fill: #D2E3FC;\n",
              "    }\n",
              "\n",
              "    [theme=dark] .colab-df-convert:hover {\n",
              "      background-color: #434B5C;\n",
              "      box-shadow: 0px 1px 3px 1px rgba(0, 0, 0, 0.15);\n",
              "      filter: drop-shadow(0px 1px 2px rgba(0, 0, 0, 0.3));\n",
              "      fill: #FFFFFF;\n",
              "    }\n",
              "  </style>\n",
              "\n",
              "      <script>\n",
              "        const buttonEl =\n",
              "          document.querySelector('#df-d06a267b-82a6-46e7-bb62-e1dc4b54f941 button.colab-df-convert');\n",
              "        buttonEl.style.display =\n",
              "          google.colab.kernel.accessAllowed ? 'block' : 'none';\n",
              "\n",
              "        async function convertToInteractive(key) {\n",
              "          const element = document.querySelector('#df-d06a267b-82a6-46e7-bb62-e1dc4b54f941');\n",
              "          const dataTable =\n",
              "            await google.colab.kernel.invokeFunction('convertToInteractive',\n",
              "                                                     [key], {});\n",
              "          if (!dataTable) return;\n",
              "\n",
              "          const docLinkHtml = 'Like what you see? Visit the ' +\n",
              "            '<a target=\"_blank\" href=https://colab.research.google.com/notebooks/data_table.ipynb>data table notebook</a>'\n",
              "            + ' to learn more about interactive tables.';\n",
              "          element.innerHTML = '';\n",
              "          dataTable['output_type'] = 'display_data';\n",
              "          await google.colab.output.renderOutput(dataTable, element);\n",
              "          const docLink = document.createElement('div');\n",
              "          docLink.innerHTML = docLinkHtml;\n",
              "          element.appendChild(docLink);\n",
              "        }\n",
              "      </script>\n",
              "    </div>\n",
              "  </div>\n",
              "  "
            ],
            "text/plain": [
              "                     SPY      Cash       NAV\n",
              "2010-01-04 15:59:59  0.0  100000.0  100000.0\n",
              "2010-01-05 15:59:59  0.0  100000.0  100000.0\n",
              "2010-01-06 15:59:59  0.0  100000.0  100000.0\n",
              "2010-01-07 15:59:59  0.0  100000.0  100000.0\n",
              "2010-01-08 15:59:59  0.0  100000.0  100000.0\n",
              "...                  ...       ...       ...\n",
              "2020-12-23 15:59:59  0.0       0.0       0.0\n",
              "2020-12-24 15:59:59  0.0       0.0       0.0\n",
              "2020-12-28 15:59:59  0.0       0.0       0.0\n",
              "2020-12-29 15:59:59  0.0       0.0       0.0\n",
              "2020-12-30 15:59:59  0.0       0.0       0.0\n",
              "\n",
              "[2768 rows x 3 columns]"
            ]
          },
          "metadata": {},
          "execution_count": 277
        }
      ]
    },
    {
      "cell_type": "markdown",
      "source": [
        "## Reinforcement Trader"
      ],
      "metadata": {
        "id": "hf15K_3VBkDl"
      }
    },
    {
      "cell_type": "markdown",
      "source": [
        "### Recruit a Trader\n",
        "\n",
        "Hree we recruit a DQN trader, giving her $100,000 and let her trade SPY.\n",
        "\n",
        "Hopefully after 1 millon times of simulated training, she is able to to find a good quantititive trading rule to trade SPY. \n",
        "\n",
        "Her trading rule is a black box. We don't care how she trades, as long as she keeps bringing in profits.\n",
        "\n",
        "Then she is expected to apply her deep neutral network trading rule to other stocks via so-called transfer learning."
      ],
      "metadata": {
        "id": "-BaqOBrnDVpc"
      }
    },
    {
      "cell_type": "code",
      "source": [
        "learning_rate = 1e-3 \n",
        "num_eval_episodes = 10\n",
        "replay_buffer_max_length = 100000"
      ],
      "metadata": {
        "id": "xhe43xOzKKaL"
      },
      "execution_count": 325,
      "outputs": []
    },
    {
      "cell_type": "code",
      "source": [
        "fc_layer_params = (100, 50)\n",
        "action_tensor_spec = tensor_spec.from_spec(train_env.action_spec())\n",
        "num_actions = action_tensor_spec.maximum - action_tensor_spec.minimum + 1\n",
        "\n",
        "# Define a helper function to create Dense layers configured with the right\n",
        "# activation and kernel initializer.\n",
        "def dense_layer(num_units):\n",
        "  return tf.keras.layers.Dense(\n",
        "      num_units,\n",
        "      activation=tf.keras.activations.relu,\n",
        "      kernel_initializer=tf.keras.initializers.VarianceScaling(\n",
        "          scale=2.0, mode='fan_in', distribution='truncated_normal'))\n",
        "\n",
        "# QNetwork consists of a sequence of Dense layers followed by a dense layer\n",
        "# with `num_actions` units to generate one q_value per available action as\n",
        "# its output.\n",
        "dense_layers = [dense_layer(num_units) for num_units in fc_layer_params]\n",
        "q_values_layer = tf.keras.layers.Dense(\n",
        "    num_actions,\n",
        "    activation=None,\n",
        "    kernel_initializer=tf.keras.initializers.RandomUniform(\n",
        "        minval=-0.03, maxval=0.03),\n",
        "    bias_initializer=tf.keras.initializers.Constant(-0.2))\n",
        "q_net = sequential.Sequential(dense_layers + [q_values_layer])"
      ],
      "metadata": {
        "id": "gM1AHMMWJuJD"
      },
      "execution_count": 326,
      "outputs": []
    },
    {
      "cell_type": "code",
      "source": [
        "optimizer = tf.keras.optimizers.Adam(learning_rate=learning_rate)\n",
        "\n",
        "train_step_counter = tf.Variable(0)\n",
        "\n",
        "agent = dqn_agent.DqnAgent(\n",
        "    train_env.time_step_spec(),\n",
        "    train_env.action_spec(),\n",
        "    q_network=q_net,\n",
        "    optimizer=optimizer,\n",
        "    td_errors_loss_fn=common.element_wise_squared_loss,\n",
        "    train_step_counter=train_step_counter)\n",
        "\n",
        "agent.initialize()"
      ],
      "metadata": {
        "id": "2ZVdpwxaJ2XE"
      },
      "execution_count": 327,
      "outputs": []
    },
    {
      "cell_type": "markdown",
      "source": [
        "Here we use a three layer fully-connected deep neural network.\n",
        "\n",
        "The input observation is 14 days x 10 features, flattened to shape 140. The first layer has 100 neurons. Therefore, it requires $140 \\times 100+100=14,100$ parameters.\n",
        "\n",
        "The second layer has 50 neurons, implying $100 \\times 50 + 50 = 5,050$ parameters. \n",
        "\n",
        "The output layer is a binary decision of either buy or sell, which needs $50 \\times 2 + 2 = 102$ parameters."
      ],
      "metadata": {
        "id": "2EaISgUXdqHr"
      }
    },
    {
      "cell_type": "code",
      "source": [
        "q_net.summary()"
      ],
      "metadata": {
        "colab": {
          "base_uri": "https://localhost:8080/"
        },
        "id": "xbjdk9sKKIXM",
        "outputId": "4608c378-bff0-4ffb-c1da-f164e787c5bf"
      },
      "execution_count": 328,
      "outputs": [
        {
          "output_type": "stream",
          "name": "stdout",
          "text": [
            "Model: \"sequential_3\"\n",
            "_________________________________________________________________\n",
            "Layer (type)                 Output Shape              Param #   \n",
            "=================================================================\n",
            "dense_9 (Dense)              multiple                  14100     \n",
            "_________________________________________________________________\n",
            "dense_10 (Dense)             multiple                  5050      \n",
            "_________________________________________________________________\n",
            "dense_11 (Dense)             multiple                  102       \n",
            "=================================================================\n",
            "Total params: 19,252\n",
            "Trainable params: 19,252\n",
            "Non-trainable params: 0\n",
            "_________________________________________________________________\n"
          ]
        }
      ]
    },
    {
      "cell_type": "code",
      "source": [
        "eval_policy = agent.policy\n",
        "collect_policy = agent.collect_policy"
      ],
      "metadata": {
        "id": "NlSKYvXqKh-M"
      },
      "execution_count": 329,
      "outputs": []
    },
    {
      "cell_type": "code",
      "source": [
        "random_policy = random_tf_policy.RandomTFPolicy(train_env.time_step_spec(), train_env.action_spec())"
      ],
      "metadata": {
        "id": "pe9SoBKSOPGM"
      },
      "execution_count": 346,
      "outputs": []
    },
    {
      "cell_type": "code",
      "source": [
        "time_step = train_env.reset()"
      ],
      "metadata": {
        "id": "KDCMutP3OQmL"
      },
      "execution_count": 331,
      "outputs": []
    },
    {
      "cell_type": "code",
      "source": [
        "random_policy.action(time_step)"
      ],
      "metadata": {
        "colab": {
          "base_uri": "https://localhost:8080/"
        },
        "id": "fmAhPXXvOXD0",
        "outputId": "ba30b4c5-6340-44a0-bd59-8860f15497a5"
      },
      "execution_count": 332,
      "outputs": [
        {
          "output_type": "execute_result",
          "data": {
            "text/plain": [
              "PolicyStep(action=<tf.Tensor: shape=(1,), dtype=int64, numpy=array([0])>, state=(), info=())"
            ]
          },
          "metadata": {},
          "execution_count": 332
        }
      ]
    },
    {
      "cell_type": "code",
      "source": [
        "def compute_avg_return(environment, policy, num_episodes=5):\n",
        "\n",
        "  total_return = 0.0\n",
        "  for _ in range(num_episodes):\n",
        "\n",
        "    time_step = environment.reset()\n",
        "    episode_return = 0.0\n",
        "\n",
        "    while not time_step.is_last():\n",
        "      action_step = policy.action(time_step)\n",
        "      time_step = environment.step(action_step.action)\n",
        "      episode_return += time_step.reward\n",
        "    total_return += episode_return\n",
        "\n",
        "  avg_return = total_return / num_episodes\n",
        "  return avg_return.numpy()[0]"
      ],
      "metadata": {
        "id": "kVhzzv5IOZKC"
      },
      "execution_count": 333,
      "outputs": []
    },
    {
      "cell_type": "code",
      "source": [
        "compute_avg_return(eval_env, random_policy, num_episodes=1)"
      ],
      "metadata": {
        "colab": {
          "base_uri": "https://localhost:8080/"
        },
        "id": "yYyFBcU1ObND",
        "outputId": "0b85bf28-eaa8-4f84-d4c7-712312a9426e"
      },
      "execution_count": 334,
      "outputs": [
        {
          "output_type": "execute_result",
          "data": {
            "text/plain": [
              "42119.504"
            ]
          },
          "metadata": {},
          "execution_count": 334
        }
      ]
    },
    {
      "cell_type": "code",
      "source": [
        "replay_buffer = TFUniformReplayBuffer(\n",
        "    data_spec=agent.collect_data_spec,\n",
        "    batch_size=train_env.batch_size,\n",
        "    max_length=100_000)"
      ],
      "metadata": {
        "id": "EzhOMNPwOd2D"
      },
      "execution_count": 335,
      "outputs": []
    },
    {
      "cell_type": "code",
      "source": [
        "# replay_buffer_observer = replay_buffer.add_batch"
      ],
      "metadata": {
        "id": "WFtaeyCrOwfs"
      },
      "execution_count": 336,
      "outputs": []
    },
    {
      "cell_type": "code",
      "source": [
        "train_env.reset()\n",
        "\n",
        "init_driver = DynamicStepDriver(\n",
        "    train_env,\n",
        "    random_policy,\n",
        "    observers=[replay_buffer.add_batch],\n",
        "    num_steps=2_500)\n",
        "final_time_step, final_policy_state = init_driver.run()"
      ],
      "metadata": {
        "id": "hA5Ksnnb4wI3"
      },
      "execution_count": 337,
      "outputs": []
    },
    {
      "cell_type": "code",
      "source": [
        "trajectories, buffer_info = replay_buffer.get_next(sample_batch_size=2, num_steps=3)"
      ],
      "metadata": {
        "id": "eOLRciJL4xu9"
      },
      "execution_count": 338,
      "outputs": []
    },
    {
      "cell_type": "code",
      "source": [
        "trajectories.observation.shape"
      ],
      "metadata": {
        "colab": {
          "base_uri": "https://localhost:8080/"
        },
        "id": "cDEoVGC643FG",
        "outputId": "f57465dc-af0c-457d-b0b4-6ed7ac5b565f"
      },
      "execution_count": 339,
      "outputs": [
        {
          "output_type": "execute_result",
          "data": {
            "text/plain": [
              "TensorShape([2, 3, 140])"
            ]
          },
          "metadata": {},
          "execution_count": 339
        }
      ]
    },
    {
      "cell_type": "code",
      "source": [
        "from tf_agents.trajectories.trajectory import to_transition\n",
        "time_steps, action_steps, next_time_steps = to_transition(trajectories)\n",
        "time_steps.observation.shape"
      ],
      "metadata": {
        "colab": {
          "base_uri": "https://localhost:8080/"
        },
        "id": "fAnFqRmy43jV",
        "outputId": "afb4bc1b-6a0f-4f84-cde3-6748315dd32b"
      },
      "execution_count": 340,
      "outputs": [
        {
          "output_type": "execute_result",
          "data": {
            "text/plain": [
              "TensorShape([2, 2, 140])"
            ]
          },
          "metadata": {},
          "execution_count": 340
        }
      ]
    },
    {
      "cell_type": "code",
      "source": [
        "dataset = replay_buffer.as_dataset(\n",
        "    num_parallel_calls=3,\n",
        "    sample_batch_size=64,\n",
        "    num_steps=2).prefetch(3)"
      ],
      "metadata": {
        "id": "P6OaD_gV47Jf"
      },
      "execution_count": 341,
      "outputs": []
    },
    {
      "cell_type": "code",
      "source": [
        "iterator = iter(dataset)"
      ],
      "metadata": {
        "id": "WKQ78qeu47mf"
      },
      "execution_count": 342,
      "outputs": []
    },
    {
      "cell_type": "code",
      "source": [
        "num_iterations = 1_000_000   # less intelligence, more persistance; 24x7 player\n",
        "save_interval = 100_000\n",
        "eval_interval = 50_000\n",
        "log_interval = 5_000"
      ],
      "metadata": {
        "id": "NNc3DoMY49FX"
      },
      "execution_count": 343,
      "outputs": []
    },
    {
      "cell_type": "code",
      "source": [
        "# Create a driver to collect experience.\n",
        "collect_driver = DynamicStepDriver(\n",
        "    train_env,\n",
        "    agent.collect_policy,\n",
        "    observers=[replay_buffer.add_batch],\n",
        "    num_steps=4) # collect 4 steps for each training iteration"
      ],
      "metadata": {
        "id": "XQjIJVrR5Hdf"
      },
      "execution_count": 344,
      "outputs": []
    },
    {
      "cell_type": "markdown",
      "source": [
        "### Training the Trader"
      ],
      "metadata": {
        "id": "697LY8DbByPk"
      }
    },
    {
      "cell_type": "code",
      "source": [
        "# (Optional) Optimize by wrapping some of the code in a graph using TF function.\n",
        "collect_driver.run = common.function(collect_driver.run)\n",
        "agent.train = common.function(agent.train)\n",
        "\n",
        "# Reset the train step.\n",
        "agent.train_step_counter.assign(0)\n",
        "\n",
        "# Evaluate the agent's policy once before training.\n",
        "avg_return = compute_avg_return(train_env, agent.policy, num_episodes=1)\n",
        "returns = np.array([avg_return])\n",
        "\n",
        "# Reset the environment.\n",
        "time_step = None\n",
        "policy_state = agent.collect_policy.get_initial_state(train_env.batch_size)"
      ],
      "metadata": {
        "colab": {
          "base_uri": "https://localhost:8080/"
        },
        "id": "BmlqAAWH5JpP",
        "outputId": "3ba5f4e9-4c16-4401-ea25-66900864a901"
      },
      "execution_count": 345,
      "outputs": [
        {
          "output_type": "stream",
          "name": "stdout",
          "text": [
            " step 5000step = 5000: loss = 2167260.0\n",
            " step 10000step = 10000: loss = 1368180.125\n",
            " step 15000step = 15000: loss = 2198302.0\n",
            " step 20000step = 20000: loss = 2775266.5\n",
            " step 25000step = 25000: loss = 1159157.125\n",
            " step 30000step = 30000: loss = 1105965.375\n",
            " step 35000step = 35000: loss = 1888510.5\n",
            " step 40000step = 40000: loss = 3168719.5\n",
            " step 45000step = 45000: loss = 851866.375\n",
            " step 50000step = 50000: loss = 6141768.0\n",
            "step = 50000: Average Return = 0.0\n",
            " step 55000step = 55000: loss = 3820841.0\n",
            " step 60000step = 60000: loss = 1095066.125\n",
            " step 65000step = 65000: loss = 1502168.75\n",
            " step 70000step = 70000: loss = 7292247.5\n",
            " step 75000step = 75000: loss = 674870.75\n",
            " step 80000step = 80000: loss = 635257.3125\n",
            " step 85000step = 85000: loss = 4569862.5\n",
            " step 90000step = 90000: loss = 672412.5\n",
            " step 95000step = 95000: loss = 642349.625\n",
            " step 100000step = 100000: loss = 1482314.125\n",
            "step = 100000: Average Return = 19049.134765625\n",
            " step 105000step = 105000: loss = 1826036.875\n",
            " step 110000step = 110000: loss = 1237024.25\n",
            " step 115000step = 115000: loss = 523463.125\n",
            " step 120000step = 120000: loss = 793916.625\n",
            " step 125000step = 125000: loss = 1129524.375\n",
            " step 130000step = 130000: loss = 1236073.125\n",
            " step 135000step = 135000: loss = 555695.25\n",
            " step 140000step = 140000: loss = 924357.5625\n",
            " step 145000step = 145000: loss = 943545.75\n",
            " step 150000step = 150000: loss = 665879.6875\n",
            "step = 150000: Average Return = 20926.888671875\n",
            " step 155000step = 155000: loss = 4424385.0\n",
            " step 160000step = 160000: loss = 744934.875\n",
            " step 165000step = 165000: loss = 2720591.5\n",
            " step 170000step = 170000: loss = 318597.25\n",
            " step 175000step = 175000: loss = 869338.4375\n",
            " step 180000step = 180000: loss = 4379064.0\n",
            " step 185000step = 185000: loss = 3188620.5\n",
            " step 190000step = 190000: loss = 1592335.625\n",
            " step 195000step = 195000: loss = 1199453.875\n",
            " step 200000step = 200000: loss = 991886.875\n",
            "step = 200000: Average Return = -1766.2315673828125\n",
            " step 205000step = 205000: loss = 2247076.75\n",
            " step 210000step = 210000: loss = 545393.375\n",
            " step 215000step = 215000: loss = 2430777.0\n",
            " step 220000step = 220000: loss = 1697644.625\n",
            " step 225000step = 225000: loss = 2905476.5\n",
            " step 230000step = 230000: loss = 1127390.0\n",
            " step 235000step = 235000: loss = 772662.9375\n",
            " step 240000step = 240000: loss = 500936.75\n",
            " step 245000step = 245000: loss = 490155.625\n",
            " step 250000step = 250000: loss = 385183.1875\n",
            "step = 250000: Average Return = 9828.0849609375\n",
            " step 255000step = 255000: loss = 581658.875\n",
            " step 260000step = 260000: loss = 1806055.5\n",
            " step 265000step = 265000: loss = 562539.8125\n",
            " step 270000step = 270000: loss = 361142.375\n",
            " step 275000step = 275000: loss = 596161.0625\n",
            " step 280000step = 280000: loss = 1193492.0\n",
            " step 285000step = 285000: loss = 1827430.75\n",
            " step 290000step = 290000: loss = 361636.4375\n",
            " step 295000step = 295000: loss = 1743065.875\n",
            " step 300000step = 300000: loss = 369102.125\n",
            "step = 300000: Average Return = 8417.6474609375\n",
            " step 305000step = 305000: loss = 3880733.5\n",
            " step 310000step = 310000: loss = 856320.1875\n",
            " step 315000step = 315000: loss = 735278.6875\n",
            " step 320000step = 320000: loss = 275699.03125\n",
            " step 325000step = 325000: loss = 837499.9375\n",
            " step 330000step = 330000: loss = 4056815.0\n",
            " step 335000step = 335000: loss = 664739.5\n",
            " step 340000step = 340000: loss = 673943.625\n",
            " step 345000step = 345000: loss = 5470928.0\n",
            " step 350000step = 350000: loss = 1606082.875\n",
            "step = 350000: Average Return = 6107.80517578125\n",
            " step 355000step = 355000: loss = 624068.0625\n",
            " step 360000step = 360000: loss = 334125.9375\n",
            " step 365000step = 365000: loss = 1923312.25\n",
            " step 370000step = 370000: loss = 4474666.0\n",
            " step 375000step = 375000: loss = 583744.75\n",
            " step 380000step = 380000: loss = 385965.125\n",
            " step 385000step = 385000: loss = 1126376.5\n",
            " step 390000step = 390000: loss = 2764745.0\n",
            " step 395000step = 395000: loss = 376906.4375\n",
            " step 400000step = 400000: loss = 1854675.75\n",
            "step = 400000: Average Return = 17875.71484375\n",
            " step 405000step = 405000: loss = 800135.75\n",
            " step 410000step = 410000: loss = 509389.03125\n",
            " step 415000step = 415000: loss = 372256.9375\n",
            " step 420000step = 420000: loss = 222998.53125\n",
            " step 425000step = 425000: loss = 1323690.375\n",
            " step 430000step = 430000: loss = 1704674.875\n",
            " step 435000step = 435000: loss = 1360411.25\n",
            " step 440000step = 440000: loss = 473001.84375\n",
            " step 445000step = 445000: loss = 8049405.0\n",
            " step 450000step = 450000: loss = 1639628.5\n",
            "step = 450000: Average Return = 17473.482421875\n",
            " step 455000step = 455000: loss = 268731.75\n",
            " step 460000step = 460000: loss = 947706.0\n",
            " step 465000step = 465000: loss = 575666.375\n",
            " step 470000step = 470000: loss = 2573727.5\n",
            " step 475000step = 475000: loss = 515074.8125\n",
            " step 480000step = 480000: loss = 1030883.125\n",
            " step 485000step = 485000: loss = 6548597.5\n",
            " step 490000step = 490000: loss = 175003.90625\n",
            " step 495000step = 495000: loss = 336888.75\n",
            " step 500000step = 500000: loss = 392744.0\n",
            "step = 500000: Average Return = 16847.05859375\n",
            " step 505000step = 505000: loss = 262419.25\n",
            " step 510000step = 510000: loss = 612899.25\n",
            " step 515000step = 515000: loss = 773090.4375\n",
            " step 520000step = 520000: loss = 2709679.0\n",
            " step 525000step = 525000: loss = 700013.25\n",
            " step 530000step = 530000: loss = 604085.625\n",
            " step 535000step = 535000: loss = 284904.3125\n",
            " step 540000step = 540000: loss = 376528.625\n",
            " step 545000step = 545000: loss = 747194.5625\n",
            " step 550000step = 550000: loss = 574652.5625\n",
            "step = 550000: Average Return = 4032.011962890625\n",
            " step 555000step = 555000: loss = 1371915.75\n",
            " step 560000step = 560000: loss = 3519368.25\n",
            " step 565000step = 565000: loss = 292593.4375\n",
            " step 570000step = 570000: loss = 335055.5625\n",
            " step 575000step = 575000: loss = 178451.21875\n",
            " step 580000step = 580000: loss = 517636.5\n",
            " step 585000step = 585000: loss = 5298824.5\n",
            " step 590000step = 590000: loss = 6538008.0\n",
            " step 595000step = 595000: loss = 10191121.0\n",
            " step 600000step = 600000: loss = 272521.5\n",
            "step = 600000: Average Return = 9151.8251953125\n",
            " step 605000step = 605000: loss = 572925.375\n",
            " step 610000step = 610000: loss = 288413.625\n",
            " step 615000step = 615000: loss = 8355246080.0\n",
            " step 620000step = 620000: loss = 7018796544.0\n",
            " step 625000step = 625000: loss = 7330844.0\n",
            " step 630000step = 630000: loss = 909200.25\n",
            " step 635000step = 635000: loss = 546764.875\n",
            " step 640000step = 640000: loss = 1074094.0\n",
            " step 645000step = 645000: loss = 1409340.625\n",
            " step 650000step = 650000: loss = 765166.875\n",
            "step = 650000: Average Return = 27385.919921875\n",
            " step 655000step = 655000: loss = 1321311.0\n",
            " step 660000step = 660000: loss = 1656193.375\n",
            " step 665000step = 665000: loss = 829801.9375\n",
            " step 670000step = 670000: loss = 785578.25\n",
            " step 675000step = 675000: loss = 698844.0\n",
            " step 680000step = 680000: loss = 1050281.0\n",
            " step 685000step = 685000: loss = 689197.875\n",
            " step 690000step = 690000: loss = 2458072.5\n",
            " step 695000step = 695000: loss = 563344.375\n",
            " step 700000step = 700000: loss = 405462.25\n",
            "step = 700000: Average Return = 22270.904296875\n",
            " step 705000step = 705000: loss = 657397.125\n",
            " step 710000step = 710000: loss = 964890.375\n",
            " step 715000step = 715000: loss = 2007884.75\n",
            " step 720000step = 720000: loss = 869056.875\n",
            " step 725000step = 725000: loss = 752112.25\n",
            " step 730000step = 730000: loss = 750870.5\n",
            " step 735000step = 735000: loss = 822786.6875\n",
            " step 740000step = 740000: loss = 1324242.625\n",
            " step 745000step = 745000: loss = 685225.875\n",
            " step 750000step = 750000: loss = 489380.6875\n",
            "step = 750000: Average Return = 13000.529296875\n",
            " step 755000step = 755000: loss = 924050.875\n",
            " step 760000step = 760000: loss = 1066708.5\n",
            " step 765000step = 765000: loss = 2776363.0\n",
            " step 770000step = 770000: loss = 902594.25\n",
            " step 775000step = 775000: loss = 1920111.75\n",
            " step 780000step = 780000: loss = 872067.875\n",
            " step 785000step = 785000: loss = 819316.125\n",
            " step 790000step = 790000: loss = 701673.75\n",
            " step 795000step = 795000: loss = 1056592.125\n",
            " step 800000step = 800000: loss = 2904088.25\n",
            "step = 800000: Average Return = 23528.138671875\n",
            " step 805000step = 805000: loss = 1790917.375\n",
            " step 810000step = 810000: loss = 1159852.0\n",
            " step 815000step = 815000: loss = 868583.25\n",
            " step 820000step = 820000: loss = 518811.21875\n",
            " step 825000step = 825000: loss = 876156.0625\n",
            " step 830000step = 830000: loss = 949135.5\n",
            " step 835000step = 835000: loss = 1114920.5\n",
            " step 840000step = 840000: loss = 1745172.0\n",
            " step 845000step = 845000: loss = 2330705.0\n",
            " step 850000step = 850000: loss = 2894901.0\n",
            "step = 850000: Average Return = 17840.013671875\n",
            " step 855000step = 855000: loss = 785168.875\n",
            " step 860000step = 860000: loss = 1488779.75\n",
            " step 865000step = 865000: loss = 696334.75\n",
            " step 870000step = 870000: loss = 959240.25\n",
            " step 875000step = 875000: loss = 631677.875\n",
            " step 880000step = 880000: loss = 2454014.5\n",
            " step 885000step = 885000: loss = 581877.75\n",
            " step 890000step = 890000: loss = 757621.8125\n",
            " step 895000step = 895000: loss = 479455.25\n",
            " step 900000step = 900000: loss = 537732.875\n",
            "step = 900000: Average Return = 21649.89453125\n",
            " step 905000step = 905000: loss = 914099.0\n",
            " step 910000step = 910000: loss = 1894775.75\n",
            " step 915000step = 915000: loss = 1249646.25\n",
            " step 920000step = 920000: loss = 1496057.625\n",
            " step 925000step = 925000: loss = 2223397.5\n",
            " step 930000step = 930000: loss = 594523.875\n",
            " step 935000step = 935000: loss = 1028294.375\n",
            " step 940000step = 940000: loss = 2026344.75\n",
            " step 945000step = 945000: loss = 665353.375\n",
            " step 950000step = 950000: loss = 1427912.625\n",
            "step = 950000: Average Return = 21670.162109375\n",
            " step 955000step = 955000: loss = 1138856.5\n",
            " step 960000step = 960000: loss = 940013.625\n",
            " step 965000step = 965000: loss = 1036071.4375\n",
            " step 970000step = 970000: loss = 1002888.125\n",
            " step 975000step = 975000: loss = 994930.625\n",
            " step 980000step = 980000: loss = 583899.1875\n",
            " step 985000step = 985000: loss = 1337892.75\n",
            " step 990000step = 990000: loss = 857192.5\n",
            " step 995000step = 995000: loss = 982195.0\n",
            " step 1000000step = 1000000: loss = 1624323.75\n",
            "step = 1000000: Average Return = 20529.994140625\n",
            " step 1000001"
          ]
        }
      ]
    },
    {
      "cell_type": "code",
      "source": [
        "num_iterations = 2_000_000\n",
        "while True:\n",
        "    # Collect a few steps using collect_policy and save to the replay buffer.\n",
        "    time_step, policy_state = collect_driver.run(time_step, policy_state)\n",
        "\n",
        "    # Sample a batch of data from the buffer and update the agent's network.\n",
        "    experience, unused_info = next(iterator)\n",
        "    train_loss = agent.train(experience).loss\n",
        "\n",
        "    step = agent.train_step_counter.numpy()\n",
        "    print(f'\\r step {step}', end='')\n",
        "\n",
        "    if step % log_interval == 0:\n",
        "        print('step = {0}: loss = {1}'.format(step, train_loss))\n",
        "\n",
        "    if step % eval_interval == 0:\n",
        "        avg_return = compute_avg_return(train_env, agent.policy, num_episodes=1)\n",
        "        print('step = {0}: Average Return = {1}'.format(step, avg_return))\n",
        "        returns = np.append(returns, avg_return)\n",
        "\n",
        "    # if step % save_interval == 0:\n",
        "    #     save_checkpoint_to_local()\n",
        "\n",
        "    if step > num_iterations:\n",
        "        break"
      ],
      "metadata": {
        "colab": {
          "base_uri": "https://localhost:8080/",
          "height": 1000
        },
        "id": "q6eNW5c16A_h",
        "outputId": "d931af66-e655-4d47-e72b-c54cfff80ce1"
      },
      "execution_count": 386,
      "outputs": [
        {
          "output_type": "stream",
          "name": "stdout",
          "text": [
            " step 1005000step = 1005000: loss = 1266627.0\n",
            " step 1010000step = 1010000: loss = 390454.6875\n",
            " step 1015000step = 1015000: loss = 417311.375\n",
            " step 1020000step = 1020000: loss = 687286.4375\n",
            " step 1025000step = 1025000: loss = 1044038.5\n",
            " step 1030000step = 1030000: loss = 537503.75\n",
            " step 1035000step = 1035000: loss = 784378.625\n",
            " step 1040000step = 1040000: loss = 1072486.125\n",
            " step 1045000step = 1045000: loss = 969355.0625\n",
            " step 1050000step = 1050000: loss = 464003.75\n",
            "step = 1050000: Average Return = 3481.649169921875\n",
            " step 1055000step = 1055000: loss = 646623.0625\n",
            " step 1060000step = 1060000: loss = 1622306.0\n",
            " step 1065000step = 1065000: loss = 491992.90625\n",
            " step 1070000step = 1070000: loss = 770378.8125\n",
            " step 1075000step = 1075000: loss = 412003.6875\n",
            " step 1080000step = 1080000: loss = 1062068.75\n",
            " step 1085000step = 1085000: loss = 966958.875\n",
            " step 1090000step = 1090000: loss = 2013997.125\n",
            " step 1095000step = 1095000: loss = 1142090.75\n",
            " step 1100000step = 1100000: loss = 1249168.25\n",
            "step = 1100000: Average Return = 9414.228515625\n",
            " step 1105000step = 1105000: loss = 770529.0\n",
            " step 1110000step = 1110000: loss = 784977.875\n",
            " step 1115000step = 1115000: loss = 1560689.625\n",
            " step 1120000step = 1120000: loss = 665030.75\n",
            " step 1125000step = 1125000: loss = 325089.5625\n",
            " step 1130000step = 1130000: loss = 330574.625\n",
            " step 1135000step = 1135000: loss = 542926.375\n",
            " step 1140000step = 1140000: loss = 642221.4375\n",
            " step 1145000step = 1145000: loss = 1389047.5\n",
            " step 1150000step = 1150000: loss = 946812.875\n",
            "step = 1150000: Average Return = 12694.908203125\n",
            " step 1155000step = 1155000: loss = 673779.625\n",
            " step 1160000step = 1160000: loss = 1016466.375\n",
            " step 1164766"
          ]
        },
        {
          "output_type": "error",
          "ename": "KeyboardInterrupt",
          "evalue": "ignored",
          "traceback": [
            "\u001b[0;31m---------------------------------------------------------------------------\u001b[0m",
            "\u001b[0;31mKeyboardInterrupt\u001b[0m                         Traceback (most recent call last)",
            "\u001b[0;32m<ipython-input-386-781341186162>\u001b[0m in \u001b[0;36m<module>\u001b[0;34m()\u001b[0m\n\u001b[1;32m      2\u001b[0m \u001b[0;32mwhile\u001b[0m \u001b[0;32mTrue\u001b[0m\u001b[0;34m:\u001b[0m\u001b[0;34m\u001b[0m\u001b[0;34m\u001b[0m\u001b[0m\n\u001b[1;32m      3\u001b[0m     \u001b[0;31m# Collect a few steps using collect_policy and save to the replay buffer.\u001b[0m\u001b[0;34m\u001b[0m\u001b[0;34m\u001b[0m\u001b[0;34m\u001b[0m\u001b[0m\n\u001b[0;32m----> 4\u001b[0;31m     \u001b[0mtime_step\u001b[0m\u001b[0;34m,\u001b[0m \u001b[0mpolicy_state\u001b[0m \u001b[0;34m=\u001b[0m \u001b[0mcollect_driver\u001b[0m\u001b[0;34m.\u001b[0m\u001b[0mrun\u001b[0m\u001b[0;34m(\u001b[0m\u001b[0mtime_step\u001b[0m\u001b[0;34m,\u001b[0m \u001b[0mpolicy_state\u001b[0m\u001b[0;34m)\u001b[0m\u001b[0;34m\u001b[0m\u001b[0;34m\u001b[0m\u001b[0m\n\u001b[0m\u001b[1;32m      5\u001b[0m \u001b[0;34m\u001b[0m\u001b[0m\n\u001b[1;32m      6\u001b[0m     \u001b[0;31m# Sample a batch of data from the buffer and update the agent's network.\u001b[0m\u001b[0;34m\u001b[0m\u001b[0;34m\u001b[0m\u001b[0;34m\u001b[0m\u001b[0m\n",
            "\u001b[0;32m/usr/local/lib/python3.7/dist-packages/tensorflow/python/util/traceback_utils.py\u001b[0m in \u001b[0;36merror_handler\u001b[0;34m(*args, **kwargs)\u001b[0m\n\u001b[1;32m    148\u001b[0m     \u001b[0mfiltered_tb\u001b[0m \u001b[0;34m=\u001b[0m \u001b[0;32mNone\u001b[0m\u001b[0;34m\u001b[0m\u001b[0;34m\u001b[0m\u001b[0m\n\u001b[1;32m    149\u001b[0m     \u001b[0;32mtry\u001b[0m\u001b[0;34m:\u001b[0m\u001b[0;34m\u001b[0m\u001b[0;34m\u001b[0m\u001b[0m\n\u001b[0;32m--> 150\u001b[0;31m       \u001b[0;32mreturn\u001b[0m \u001b[0mfn\u001b[0m\u001b[0;34m(\u001b[0m\u001b[0;34m*\u001b[0m\u001b[0margs\u001b[0m\u001b[0;34m,\u001b[0m \u001b[0;34m**\u001b[0m\u001b[0mkwargs\u001b[0m\u001b[0;34m)\u001b[0m\u001b[0;34m\u001b[0m\u001b[0;34m\u001b[0m\u001b[0m\n\u001b[0m\u001b[1;32m    151\u001b[0m     \u001b[0;32mexcept\u001b[0m \u001b[0mException\u001b[0m \u001b[0;32mas\u001b[0m \u001b[0me\u001b[0m\u001b[0;34m:\u001b[0m\u001b[0;34m\u001b[0m\u001b[0;34m\u001b[0m\u001b[0m\n\u001b[1;32m    152\u001b[0m       \u001b[0mfiltered_tb\u001b[0m \u001b[0;34m=\u001b[0m \u001b[0m_process_traceback_frames\u001b[0m\u001b[0;34m(\u001b[0m\u001b[0me\u001b[0m\u001b[0;34m.\u001b[0m\u001b[0m__traceback__\u001b[0m\u001b[0;34m)\u001b[0m\u001b[0;34m\u001b[0m\u001b[0;34m\u001b[0m\u001b[0m\n",
            "\u001b[0;32m/usr/local/lib/python3.7/dist-packages/tensorflow/python/eager/def_function.py\u001b[0m in \u001b[0;36m__call__\u001b[0;34m(self, *args, **kwds)\u001b[0m\n\u001b[1;32m    908\u001b[0m \u001b[0;34m\u001b[0m\u001b[0m\n\u001b[1;32m    909\u001b[0m       \u001b[0;32mwith\u001b[0m \u001b[0mOptionalXlaContext\u001b[0m\u001b[0;34m(\u001b[0m\u001b[0mself\u001b[0m\u001b[0;34m.\u001b[0m\u001b[0m_jit_compile\u001b[0m\u001b[0;34m)\u001b[0m\u001b[0;34m:\u001b[0m\u001b[0;34m\u001b[0m\u001b[0;34m\u001b[0m\u001b[0m\n\u001b[0;32m--> 910\u001b[0;31m         \u001b[0mresult\u001b[0m \u001b[0;34m=\u001b[0m \u001b[0mself\u001b[0m\u001b[0;34m.\u001b[0m\u001b[0m_call\u001b[0m\u001b[0;34m(\u001b[0m\u001b[0;34m*\u001b[0m\u001b[0margs\u001b[0m\u001b[0;34m,\u001b[0m \u001b[0;34m**\u001b[0m\u001b[0mkwds\u001b[0m\u001b[0;34m)\u001b[0m\u001b[0;34m\u001b[0m\u001b[0;34m\u001b[0m\u001b[0m\n\u001b[0m\u001b[1;32m    911\u001b[0m \u001b[0;34m\u001b[0m\u001b[0m\n\u001b[1;32m    912\u001b[0m       \u001b[0mnew_tracing_count\u001b[0m \u001b[0;34m=\u001b[0m \u001b[0mself\u001b[0m\u001b[0;34m.\u001b[0m\u001b[0mexperimental_get_tracing_count\u001b[0m\u001b[0;34m(\u001b[0m\u001b[0;34m)\u001b[0m\u001b[0;34m\u001b[0m\u001b[0;34m\u001b[0m\u001b[0m\n",
            "\u001b[0;32m/usr/local/lib/python3.7/dist-packages/tensorflow/python/eager/def_function.py\u001b[0m in \u001b[0;36m_call\u001b[0;34m(self, *args, **kwds)\u001b[0m\n\u001b[1;32m    947\u001b[0m       \u001b[0;31m# In this case we have not created variables on the first call. So we can\u001b[0m\u001b[0;34m\u001b[0m\u001b[0;34m\u001b[0m\u001b[0;34m\u001b[0m\u001b[0m\n\u001b[1;32m    948\u001b[0m       \u001b[0;31m# run the first trace but we should fail if variables are created.\u001b[0m\u001b[0;34m\u001b[0m\u001b[0;34m\u001b[0m\u001b[0;34m\u001b[0m\u001b[0m\n\u001b[0;32m--> 949\u001b[0;31m       \u001b[0mresults\u001b[0m \u001b[0;34m=\u001b[0m \u001b[0mself\u001b[0m\u001b[0;34m.\u001b[0m\u001b[0m_stateful_fn\u001b[0m\u001b[0;34m(\u001b[0m\u001b[0;34m*\u001b[0m\u001b[0margs\u001b[0m\u001b[0;34m,\u001b[0m \u001b[0;34m**\u001b[0m\u001b[0mkwds\u001b[0m\u001b[0;34m)\u001b[0m\u001b[0;34m\u001b[0m\u001b[0;34m\u001b[0m\u001b[0m\n\u001b[0m\u001b[1;32m    950\u001b[0m       \u001b[0;32mif\u001b[0m \u001b[0mself\u001b[0m\u001b[0;34m.\u001b[0m\u001b[0m_created_variables\u001b[0m \u001b[0;32mand\u001b[0m \u001b[0;32mnot\u001b[0m \u001b[0mALLOW_DYNAMIC_VARIABLE_CREATION\u001b[0m\u001b[0;34m:\u001b[0m\u001b[0;34m\u001b[0m\u001b[0;34m\u001b[0m\u001b[0m\n\u001b[1;32m    951\u001b[0m         raise ValueError(\"Creating variables on a non-first call to a function\"\n",
            "\u001b[0;32m/usr/local/lib/python3.7/dist-packages/tensorflow/python/eager/function.py\u001b[0m in \u001b[0;36m__call__\u001b[0;34m(self, *args, **kwargs)\u001b[0m\n\u001b[1;32m   3129\u001b[0m        filtered_flat_args) = self._maybe_define_function(args, kwargs)\n\u001b[1;32m   3130\u001b[0m     return graph_function._call_flat(\n\u001b[0;32m-> 3131\u001b[0;31m         filtered_flat_args, captured_inputs=graph_function.captured_inputs)  # pylint: disable=protected-access\n\u001b[0m\u001b[1;32m   3132\u001b[0m \u001b[0;34m\u001b[0m\u001b[0m\n\u001b[1;32m   3133\u001b[0m   \u001b[0;34m@\u001b[0m\u001b[0mproperty\u001b[0m\u001b[0;34m\u001b[0m\u001b[0;34m\u001b[0m\u001b[0m\n",
            "\u001b[0;32m/usr/local/lib/python3.7/dist-packages/tensorflow/python/eager/function.py\u001b[0m in \u001b[0;36m_call_flat\u001b[0;34m(self, args, captured_inputs, cancellation_manager)\u001b[0m\n\u001b[1;32m   1958\u001b[0m       \u001b[0;31m# No tape is watching; skip to running the function.\u001b[0m\u001b[0;34m\u001b[0m\u001b[0;34m\u001b[0m\u001b[0;34m\u001b[0m\u001b[0m\n\u001b[1;32m   1959\u001b[0m       return self._build_call_outputs(self._inference_function.call(\n\u001b[0;32m-> 1960\u001b[0;31m           ctx, args, cancellation_manager=cancellation_manager))\n\u001b[0m\u001b[1;32m   1961\u001b[0m     forward_backward = self._select_forward_and_backward_functions(\n\u001b[1;32m   1962\u001b[0m         \u001b[0margs\u001b[0m\u001b[0;34m,\u001b[0m\u001b[0;34m\u001b[0m\u001b[0;34m\u001b[0m\u001b[0m\n",
            "\u001b[0;32m/usr/local/lib/python3.7/dist-packages/tensorflow/python/eager/function.py\u001b[0m in \u001b[0;36mcall\u001b[0;34m(self, ctx, args, cancellation_manager)\u001b[0m\n\u001b[1;32m    601\u001b[0m               \u001b[0minputs\u001b[0m\u001b[0;34m=\u001b[0m\u001b[0margs\u001b[0m\u001b[0;34m,\u001b[0m\u001b[0;34m\u001b[0m\u001b[0;34m\u001b[0m\u001b[0m\n\u001b[1;32m    602\u001b[0m               \u001b[0mattrs\u001b[0m\u001b[0;34m=\u001b[0m\u001b[0mattrs\u001b[0m\u001b[0;34m,\u001b[0m\u001b[0;34m\u001b[0m\u001b[0;34m\u001b[0m\u001b[0m\n\u001b[0;32m--> 603\u001b[0;31m               ctx=ctx)\n\u001b[0m\u001b[1;32m    604\u001b[0m         \u001b[0;32melse\u001b[0m\u001b[0;34m:\u001b[0m\u001b[0;34m\u001b[0m\u001b[0;34m\u001b[0m\u001b[0m\n\u001b[1;32m    605\u001b[0m           outputs = execute.execute_with_cancellation(\n",
            "\u001b[0;32m/usr/local/lib/python3.7/dist-packages/tensorflow/python/eager/execute.py\u001b[0m in \u001b[0;36mquick_execute\u001b[0;34m(op_name, num_outputs, inputs, attrs, ctx, name)\u001b[0m\n\u001b[1;32m     57\u001b[0m     \u001b[0mctx\u001b[0m\u001b[0;34m.\u001b[0m\u001b[0mensure_initialized\u001b[0m\u001b[0;34m(\u001b[0m\u001b[0;34m)\u001b[0m\u001b[0;34m\u001b[0m\u001b[0;34m\u001b[0m\u001b[0m\n\u001b[1;32m     58\u001b[0m     tensors = pywrap_tfe.TFE_Py_Execute(ctx._handle, device_name, op_name,\n\u001b[0;32m---> 59\u001b[0;31m                                         inputs, attrs, num_outputs)\n\u001b[0m\u001b[1;32m     60\u001b[0m   \u001b[0;32mexcept\u001b[0m \u001b[0mcore\u001b[0m\u001b[0;34m.\u001b[0m\u001b[0m_NotOkStatusException\u001b[0m \u001b[0;32mas\u001b[0m \u001b[0me\u001b[0m\u001b[0;34m:\u001b[0m\u001b[0;34m\u001b[0m\u001b[0;34m\u001b[0m\u001b[0m\n\u001b[1;32m     61\u001b[0m     \u001b[0;32mif\u001b[0m \u001b[0mname\u001b[0m \u001b[0;32mis\u001b[0m \u001b[0;32mnot\u001b[0m \u001b[0;32mNone\u001b[0m\u001b[0;34m:\u001b[0m\u001b[0;34m\u001b[0m\u001b[0;34m\u001b[0m\u001b[0m\n",
            "\u001b[0;31mKeyboardInterrupt\u001b[0m: "
          ]
        }
      ]
    },
    {
      "cell_type": "markdown",
      "source": [
        "Save the model.\n",
        "\n",
        "The policy is saved to github. We can wget from github and unzip it."
      ],
      "metadata": {
        "id": "VgJvZ4bqEQzb"
      }
    },
    {
      "cell_type": "code",
      "source": [
        "def create_zip_file(dirname, base_filename):\n",
        "  return shutil.make_archive(base_filename, 'zip', dirname)"
      ],
      "metadata": {
        "id": "jVoEC5TNswZz"
      },
      "execution_count": 347,
      "outputs": []
    },
    {
      "cell_type": "code",
      "source": [
        "tempdir = os.getenv(\"TEST_TMPDIR\", tempfile.gettempdir())\n",
        "\n",
        "policy_dir = os.path.join(tempdir, 'policy')\n",
        "tf_policy_saver = policy_saver.PolicySaver(agent.policy)"
      ],
      "metadata": {
        "id": "yNSjnH7Nr-Xb"
      },
      "execution_count": 350,
      "outputs": []
    },
    {
      "cell_type": "code",
      "source": [
        "tf_policy_saver.save(policy_dir)\n",
        "policy_zip_filename = create_zip_file(policy_dir, os.path.join(tempdir, 'exported_policy'))"
      ],
      "metadata": {
        "colab": {
          "base_uri": "https://localhost:8080/"
        },
        "id": "kIWSMYs-sVdh",
        "outputId": "5abe014e-916e-43b5-c730-f315ac62c664"
      },
      "execution_count": 351,
      "outputs": [
        {
          "output_type": "stream",
          "name": "stderr",
          "text": [
            "WARNING:absl:Function `function_with_signature` contains input name(s) 0/step_type, 0/reward, 0/discount, 0/observation with unsupported characters which will be renamed to step_type, reward, discount, observation in the SavedModel.\n",
            "WARNING:absl:Found untraced functions such as sequential_3_layer_call_fn, sequential_3_layer_call_and_return_conditional_losses, sequential_3_layer_call_fn, sequential_3_layer_call_and_return_conditional_losses, sequential_3_layer_call_and_return_conditional_losses while saving (showing 5 of 20). These functions will not be directly callable after loading.\n",
            "/usr/local/lib/python3.7/dist-packages/tensorflow/python/saved_model/nested_structure_coder.py:561: UserWarning: Encoding a StructuredValue with type tf_agents.policies.greedy_policy.DeterministicWithLogProb_ACTTypeSpec; loading this StructuredValue will require that this type be imported and registered.\n",
            "  \"imported and registered.\" % type_spec_class_name)\n"
          ]
        },
        {
          "output_type": "stream",
          "name": "stdout",
          "text": [
            "INFO:tensorflow:Assets written to: /tmp/policy/assets\n"
          ]
        },
        {
          "output_type": "stream",
          "name": "stderr",
          "text": [
            "INFO:tensorflow:Assets written to: /tmp/policy/assets\n"
          ]
        }
      ]
    },
    {
      "cell_type": "code",
      "source": [
        "!ls /tmp/exported_policy.zip"
      ],
      "metadata": {
        "colab": {
          "base_uri": "https://localhost:8080/"
        },
        "id": "SnxRP9Y4zD0q",
        "outputId": "64f4b6f0-dc94-4ce6-bc83-48679adb6caf"
      },
      "execution_count": 357,
      "outputs": [
        {
          "output_type": "stream",
          "name": "stdout",
          "text": [
            "/tmp/exported_policy.zip\n"
          ]
        }
      ]
    },
    {
      "cell_type": "code",
      "source": [
        "files.download(policy_zip_filename)"
      ],
      "metadata": {
        "colab": {
          "base_uri": "https://localhost:8080/",
          "height": 34
        },
        "id": "xx2swYc3ssQp",
        "outputId": "680aa051-460a-459f-fdc7-bbd0214d8ee6"
      },
      "execution_count": 358,
      "outputs": [
        {
          "output_type": "display_data",
          "data": {
            "application/javascript": [
              "\n",
              "    async function download(id, filename, size) {\n",
              "      if (!google.colab.kernel.accessAllowed) {\n",
              "        return;\n",
              "      }\n",
              "      const div = document.createElement('div');\n",
              "      const label = document.createElement('label');\n",
              "      label.textContent = `Downloading \"${filename}\": `;\n",
              "      div.appendChild(label);\n",
              "      const progress = document.createElement('progress');\n",
              "      progress.max = size;\n",
              "      div.appendChild(progress);\n",
              "      document.body.appendChild(div);\n",
              "\n",
              "      const buffers = [];\n",
              "      let downloaded = 0;\n",
              "\n",
              "      const channel = await google.colab.kernel.comms.open(id);\n",
              "      // Send a message to notify the kernel that we're ready.\n",
              "      channel.send({})\n",
              "\n",
              "      for await (const message of channel.messages) {\n",
              "        // Send a message to notify the kernel that we're ready.\n",
              "        channel.send({})\n",
              "        if (message.buffers) {\n",
              "          for (const buffer of message.buffers) {\n",
              "            buffers.push(buffer);\n",
              "            downloaded += buffer.byteLength;\n",
              "            progress.value = downloaded;\n",
              "          }\n",
              "        }\n",
              "      }\n",
              "      const blob = new Blob(buffers, {type: 'application/binary'});\n",
              "      const a = document.createElement('a');\n",
              "      a.href = window.URL.createObjectURL(blob);\n",
              "      a.download = filename;\n",
              "      div.appendChild(a);\n",
              "      a.click();\n",
              "      div.remove();\n",
              "    }\n",
              "  "
            ],
            "text/plain": [
              "<IPython.core.display.Javascript object>"
            ]
          },
          "metadata": {}
        },
        {
          "output_type": "display_data",
          "data": {
            "application/javascript": [
              "download(\"download_18a280f7-a935-4f8e-91f2-f48da4e0f974\", \"exported_policy.zip\", 83978)"
            ],
            "text/plain": [
              "<IPython.core.display.Javascript object>"
            ]
          },
          "metadata": {}
        }
      ]
    },
    {
      "cell_type": "markdown",
      "source": [
        "### Evaluate Trader Performance "
      ],
      "metadata": {
        "id": "ErHSZkcuB3gU"
      }
    },
    {
      "cell_type": "markdown",
      "source": [
        ""
      ],
      "metadata": {
        "id": "t6AIafOLGscg"
      }
    },
    {
      "cell_type": "code",
      "source": [
        "create_policy_eval_video(train_env, agent.policy, \"trained-agent\", num_episodes=1)"
      ],
      "metadata": {
        "colab": {
          "base_uri": "https://localhost:8080/",
          "height": 501
        },
        "id": "rSBzMqEy5Phf",
        "outputId": "afd8f0d6-3598-434b-df39-c39e841b57a0"
      },
      "execution_count": 361,
      "outputs": [
        {
          "output_type": "execute_result",
          "data": {
            "text/html": [
              "\n",
              "  <video width=\"640\" height=\"480\" controls>\n",
              "    <source src=\"data:video/mp4;base64,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\" type=\"video/mp4\">\n",
              "  Your browser does not support the video tag.\n",
              "  </video>"
            ],
            "text/plain": [
              "<IPython.core.display.HTML object>"
            ]
          },
          "metadata": {},
          "execution_count": 361
        }
      ]
    },
    {
      "cell_type": "code",
      "source": [
        "def create_policy_eval_video(policy, filename, num_episodes=5, fps=30):\n",
        "  filename = filename + \".mp4\"\n",
        "  with imageio.get_writer(filename, fps=fps) as video:\n",
        "    for _ in range(num_episodes):\n",
        "      time_step = train_py_env.reset()\n",
        "      video.append_data(train_py_env.render())\n",
        "      n_step = 0\n",
        "      while not time_step.is_last():\n",
        "        action_step = policy.action(time_step)\n",
        "        time_step = train_env.step(action_step.action)\n",
        "        video.append_data(train_py_env.render())\n",
        "        n_step += 1\n",
        "  return embed_mp4(filename)"
      ],
      "metadata": {
        "id": "vQUTzep35gfW"
      },
      "execution_count": null,
      "outputs": []
    },
    {
      "cell_type": "code",
      "source": [
        "train_env.pyenv.envs[0].env._df_positions"
      ],
      "metadata": {
        "colab": {
          "base_uri": "https://localhost:8080/",
          "height": 424
        },
        "id": "eCSeDHNc6jQO",
        "outputId": "b3a2d2d4-5c35-4aa7-b99f-bc92d42e5eae"
      },
      "execution_count": null,
      "outputs": [
        {
          "output_type": "execute_result",
          "data": {
            "text/html": [
              "\n",
              "  <div id=\"df-62f0af9b-8183-4d77-8cc3-d279fe7b0941\">\n",
              "    <div class=\"colab-df-container\">\n",
              "      <div>\n",
              "<style scoped>\n",
              "    .dataframe tbody tr th:only-of-type {\n",
              "        vertical-align: middle;\n",
              "    }\n",
              "\n",
              "    .dataframe tbody tr th {\n",
              "        vertical-align: top;\n",
              "    }\n",
              "\n",
              "    .dataframe thead th {\n",
              "        text-align: right;\n",
              "    }\n",
              "</style>\n",
              "<table border=\"1\" class=\"dataframe\">\n",
              "  <thead>\n",
              "    <tr style=\"text-align: right;\">\n",
              "      <th></th>\n",
              "      <th>SPY</th>\n",
              "      <th>Cash</th>\n",
              "      <th>NAV</th>\n",
              "    </tr>\n",
              "  </thead>\n",
              "  <tbody>\n",
              "    <tr>\n",
              "      <th>2010-01-04 15:59:59</th>\n",
              "      <td>0.0</td>\n",
              "      <td>100000.0</td>\n",
              "      <td>100000.0</td>\n",
              "    </tr>\n",
              "    <tr>\n",
              "      <th>2010-01-05 15:59:59</th>\n",
              "      <td>0.0</td>\n",
              "      <td>100000.0</td>\n",
              "      <td>100000.0</td>\n",
              "    </tr>\n",
              "    <tr>\n",
              "      <th>2010-01-06 15:59:59</th>\n",
              "      <td>0.0</td>\n",
              "      <td>100000.0</td>\n",
              "      <td>100000.0</td>\n",
              "    </tr>\n",
              "    <tr>\n",
              "      <th>2010-01-07 15:59:59</th>\n",
              "      <td>0.0</td>\n",
              "      <td>100000.0</td>\n",
              "      <td>100000.0</td>\n",
              "    </tr>\n",
              "    <tr>\n",
              "      <th>2010-01-08 15:59:59</th>\n",
              "      <td>0.0</td>\n",
              "      <td>100000.0</td>\n",
              "      <td>100000.0</td>\n",
              "    </tr>\n",
              "    <tr>\n",
              "      <th>...</th>\n",
              "      <td>...</td>\n",
              "      <td>...</td>\n",
              "      <td>...</td>\n",
              "    </tr>\n",
              "    <tr>\n",
              "      <th>2020-12-23 15:59:59</th>\n",
              "      <td>0.0</td>\n",
              "      <td>0.0</td>\n",
              "      <td>0.0</td>\n",
              "    </tr>\n",
              "    <tr>\n",
              "      <th>2020-12-24 15:59:59</th>\n",
              "      <td>0.0</td>\n",
              "      <td>0.0</td>\n",
              "      <td>0.0</td>\n",
              "    </tr>\n",
              "    <tr>\n",
              "      <th>2020-12-28 15:59:59</th>\n",
              "      <td>0.0</td>\n",
              "      <td>0.0</td>\n",
              "      <td>0.0</td>\n",
              "    </tr>\n",
              "    <tr>\n",
              "      <th>2020-12-29 15:59:59</th>\n",
              "      <td>0.0</td>\n",
              "      <td>0.0</td>\n",
              "      <td>0.0</td>\n",
              "    </tr>\n",
              "    <tr>\n",
              "      <th>2020-12-30 15:59:59</th>\n",
              "      <td>0.0</td>\n",
              "      <td>0.0</td>\n",
              "      <td>0.0</td>\n",
              "    </tr>\n",
              "  </tbody>\n",
              "</table>\n",
              "<p>2768 rows × 3 columns</p>\n",
              "</div>\n",
              "      <button class=\"colab-df-convert\" onclick=\"convertToInteractive('df-62f0af9b-8183-4d77-8cc3-d279fe7b0941')\"\n",
              "              title=\"Convert this dataframe to an interactive table.\"\n",
              "              style=\"display:none;\">\n",
              "        \n",
              "  <svg xmlns=\"http://www.w3.org/2000/svg\" height=\"24px\"viewBox=\"0 0 24 24\"\n",
              "       width=\"24px\">\n",
              "    <path d=\"M0 0h24v24H0V0z\" fill=\"none\"/>\n",
              "    <path d=\"M18.56 5.44l.94 2.06.94-2.06 2.06-.94-2.06-.94-.94-2.06-.94 2.06-2.06.94zm-11 1L8.5 8.5l.94-2.06 2.06-.94-2.06-.94L8.5 2.5l-.94 2.06-2.06.94zm10 10l.94 2.06.94-2.06 2.06-.94-2.06-.94-.94-2.06-.94 2.06-2.06.94z\"/><path d=\"M17.41 7.96l-1.37-1.37c-.4-.4-.92-.59-1.43-.59-.52 0-1.04.2-1.43.59L10.3 9.45l-7.72 7.72c-.78.78-.78 2.05 0 2.83L4 21.41c.39.39.9.59 1.41.59.51 0 1.02-.2 1.41-.59l7.78-7.78 2.81-2.81c.8-.78.8-2.07 0-2.86zM5.41 20L4 18.59l7.72-7.72 1.47 1.35L5.41 20z\"/>\n",
              "  </svg>\n",
              "      </button>\n",
              "      \n",
              "  <style>\n",
              "    .colab-df-container {\n",
              "      display:flex;\n",
              "      flex-wrap:wrap;\n",
              "      gap: 12px;\n",
              "    }\n",
              "\n",
              "    .colab-df-convert {\n",
              "      background-color: #E8F0FE;\n",
              "      border: none;\n",
              "      border-radius: 50%;\n",
              "      cursor: pointer;\n",
              "      display: none;\n",
              "      fill: #1967D2;\n",
              "      height: 32px;\n",
              "      padding: 0 0 0 0;\n",
              "      width: 32px;\n",
              "    }\n",
              "\n",
              "    .colab-df-convert:hover {\n",
              "      background-color: #E2EBFA;\n",
              "      box-shadow: 0px 1px 2px rgba(60, 64, 67, 0.3), 0px 1px 3px 1px rgba(60, 64, 67, 0.15);\n",
              "      fill: #174EA6;\n",
              "    }\n",
              "\n",
              "    [theme=dark] .colab-df-convert {\n",
              "      background-color: #3B4455;\n",
              "      fill: #D2E3FC;\n",
              "    }\n",
              "\n",
              "    [theme=dark] .colab-df-convert:hover {\n",
              "      background-color: #434B5C;\n",
              "      box-shadow: 0px 1px 3px 1px rgba(0, 0, 0, 0.15);\n",
              "      filter: drop-shadow(0px 1px 2px rgba(0, 0, 0, 0.3));\n",
              "      fill: #FFFFFF;\n",
              "    }\n",
              "  </style>\n",
              "\n",
              "      <script>\n",
              "        const buttonEl =\n",
              "          document.querySelector('#df-62f0af9b-8183-4d77-8cc3-d279fe7b0941 button.colab-df-convert');\n",
              "        buttonEl.style.display =\n",
              "          google.colab.kernel.accessAllowed ? 'block' : 'none';\n",
              "\n",
              "        async function convertToInteractive(key) {\n",
              "          const element = document.querySelector('#df-62f0af9b-8183-4d77-8cc3-d279fe7b0941');\n",
              "          const dataTable =\n",
              "            await google.colab.kernel.invokeFunction('convertToInteractive',\n",
              "                                                     [key], {});\n",
              "          if (!dataTable) return;\n",
              "\n",
              "          const docLinkHtml = 'Like what you see? Visit the ' +\n",
              "            '<a target=\"_blank\" href=https://colab.research.google.com/notebooks/data_table.ipynb>data table notebook</a>'\n",
              "            + ' to learn more about interactive tables.';\n",
              "          element.innerHTML = '';\n",
              "          dataTable['output_type'] = 'display_data';\n",
              "          await google.colab.output.renderOutput(dataTable, element);\n",
              "          const docLink = document.createElement('div');\n",
              "          docLink.innerHTML = docLinkHtml;\n",
              "          element.appendChild(docLink);\n",
              "        }\n",
              "      </script>\n",
              "    </div>\n",
              "  </div>\n",
              "  "
            ],
            "text/plain": [
              "                     SPY      Cash       NAV\n",
              "2010-01-04 15:59:59  0.0  100000.0  100000.0\n",
              "2010-01-05 15:59:59  0.0  100000.0  100000.0\n",
              "2010-01-06 15:59:59  0.0  100000.0  100000.0\n",
              "2010-01-07 15:59:59  0.0  100000.0  100000.0\n",
              "2010-01-08 15:59:59  0.0  100000.0  100000.0\n",
              "...                  ...       ...       ...\n",
              "2020-12-23 15:59:59  0.0       0.0       0.0\n",
              "2020-12-24 15:59:59  0.0       0.0       0.0\n",
              "2020-12-28 15:59:59  0.0       0.0       0.0\n",
              "2020-12-29 15:59:59  0.0       0.0       0.0\n",
              "2020-12-30 15:59:59  0.0       0.0       0.0\n",
              "\n",
              "[2768 rows x 3 columns]"
            ]
          },
          "metadata": {},
          "execution_count": 144
        }
      ]
    },
    {
      "cell_type": "code",
      "source": [
        "time_step = train_env.reset()\n",
        "ones = 0\n",
        "zeros = 0\n",
        "while not time_step.is_last():\n",
        "  action_step = agent.policy.action(time_step)\n",
        "  time_step = train_env.step(action_step.action)\n",
        "  if action_step.action.numpy()[0] == 1:\n",
        "    ones+=1\n",
        "  else:\n",
        "    zeros+=1\n",
        "\n",
        "print(zeros, ones)"
      ],
      "metadata": {
        "id": "psWFNJaG3KhB",
        "colab": {
          "base_uri": "https://localhost:8080/"
        },
        "outputId": "dff86b2d-5df4-4466-f8ba-fa9ba2a155ec"
      },
      "execution_count": 383,
      "outputs": [
        {
          "output_type": "stream",
          "name": "stdout",
          "text": [
            "0 250\n"
          ]
        }
      ]
    },
    {
      "cell_type": "code",
      "source": [
        " agent.train_step_counter.numpy()"
      ],
      "metadata": {
        "colab": {
          "base_uri": "https://localhost:8080/"
        },
        "id": "t1TaEZ614v2S",
        "outputId": "a5714437-2559-453e-f755-41345468577c"
      },
      "execution_count": 385,
      "outputs": [
        {
          "output_type": "execute_result",
          "data": {
            "text/plain": [
              "1000001"
            ]
          },
          "metadata": {},
          "execution_count": 385
        }
      ]
    },
    {
      "cell_type": "code",
      "source": [
        ""
      ],
      "metadata": {
        "id": "NnCLsyFR4YZy"
      },
      "execution_count": null,
      "outputs": []
    }
  ]
}