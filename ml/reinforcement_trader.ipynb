{
  "nbformat": 4,
  "nbformat_minor": 0,
  "metadata": {
    "colab": {
      "name": "reinforcement_trader.ipynb",
      "provenance": [],
      "collapsed_sections": [],
      "toc_visible": true,
      "include_colab_link": true
    },
    "kernelspec": {
      "display_name": "Python 3",
      "name": "python3"
    },
    "language_info": {
      "name": "python"
    }
  },
  "cells": [
    {
      "cell_type": "markdown",
      "metadata": {
        "id": "view-in-github",
        "colab_type": "text"
      },
      "source": [
        "<a href=\"https://colab.research.google.com/github/letianzj/QuantResearch/blob/master/ml/reinforcement_trader.ipynb\" target=\"_parent\"><img src=\"https://colab.research.google.com/assets/colab-badge.svg\" alt=\"Open In Colab\"/></a>"
      ]
    },
    {
      "cell_type": "markdown",
      "metadata": {
        "id": "HwOjJMZUHsp3"
      },
      "source": [
        "## Introduction\n",
        "\n",
        "As illustrated in the figure below, investing bears a clear resemblance to game playing. In fact, some good poke players, such as Edward Thorp, also stand out in the stock markets.\n",
        "\n",
        "\n",
        "![From Game Player to Stock Trader](https://files.gitbook.com/v0/b/gitbook-x-prod.appspot.com/o/spaces%2F-MSGPuOMqasmUECLHyXj%2Fuploads%2Fgit-blob-87626e4bd747bdb40439277c09abce3e5aeb822d%2Fch5_rl_stock_trading.PNG?alt=media)\n",
        "\n",
        "source: [Chapter Machine Learning](https://letianzj.gitbook.io/systematic-investing/products_and_methodologies/machine_learning)"
      ]
    },
    {
      "cell_type": "markdown",
      "source": [
        "Reinforcement learning has been applied to stock trading and portfolio management. Xiong, Zhuoran, et al (2018) explore the stock market and Zhang, et al (2020) trade the futures market. Nan, et al (2020) add news headline sentiments into the training. Spooner, Thomas, et al (2018) study the market makers who face inventory risk. Fischer, T. G. (2018) provides a survey of current reinforcement learning status in financial markets."
      ],
      "metadata": {
        "id": "6kJrcvrvhD8z"
      }
    },
    {
      "cell_type": "markdown",
      "source": [
        "\n",
        "\n",
        "This notebook focuses on the trading part. It trains a reinforcement trader to buy and sell stocks. The objective is to achieve higher end dollar profits. Of course, other risk adjusted objectives such as Sharpe ratio are also viable.\n",
        "\n",
        "The next notebook will focus on the portfolio management part, by training a reinforcement portfolio management to perform strategic allocation among stocks or asset classes.\n",
        "\n",
        "It uses Gym-compatible [TensorTrade](https://github.com/tensortrade-org/tensortrade) TradingEnv."
      ],
      "metadata": {
        "id": "b4PXtZZehirj"
      }
    },
    {
      "cell_type": "markdown",
      "metadata": {
        "id": "nANyrWwgE1yT"
      },
      "source": [
        "## Setup\n",
        "\n",
        "Install required packages and data."
      ]
    },
    {
      "cell_type": "code",
      "metadata": {
        "id": "Jr3P9fWZIXBN"
      },
      "source": [
        "import warnings\n",
        "warnings.filterwarnings('ignore')"
      ],
      "execution_count": 2,
      "outputs": []
    },
    {
      "cell_type": "code",
      "metadata": {
        "colab": {
          "base_uri": "https://localhost:8080/"
        },
        "id": "2kBhJbmqLz63",
        "outputId": "af96e74e-533f-4bdb-f569-4aa57f964756"
      },
      "source": [
        "import sys\n",
        "print(sys.executable)\n",
        "print(sys.version)\n",
        "print(sys.version_info)"
      ],
      "execution_count": 3,
      "outputs": [
        {
          "output_type": "stream",
          "name": "stdout",
          "text": [
            "/usr/bin/python3\n",
            "3.7.12 (default, Sep 10 2021, 00:21:48) \n",
            "[GCC 7.5.0]\n",
            "sys.version_info(major=3, minor=7, micro=12, releaselevel='final', serial=0)\n"
          ]
        }
      ]
    },
    {
      "cell_type": "markdown",
      "source": [
        "Install required packages. Uncomment to run once."
      ],
      "metadata": {
        "id": "wn6xWYfykG6M"
      }
    },
    {
      "cell_type": "code",
      "metadata": {
        "id": "A1NCR0hmKva8"
      },
      "source": [
        "# !pip install -U ta\n",
        "# !pip install -U tensortrade\n",
        "# !pip install yfinance"
      ],
      "execution_count": 7,
      "outputs": []
    },
    {
      "cell_type": "code",
      "metadata": {
        "id": "OYt1LsN9HuQ1"
      },
      "source": [
        "import numpy as np\n",
        "import pandas as pd\n",
        "import ta\n",
        "import yfinance as yf\n",
        "from datetime import datetime\n",
        "\n",
        "from tensortrade.env.default import actions, rewards\n",
        "from tensortrade.env.generic.components.informer import Informer\n",
        "from tensortrade.feed.core import Stream, DataFeed, NameSpace\n",
        "from tensortrade.oms.exchanges import Exchange, ExchangeOptions\n",
        "from tensortrade.oms.services.execution.simulated import execute_order\n",
        "from tensortrade.oms.instruments import USD, Instrument\n",
        "from tensortrade.oms.wallets import Wallet, Portfolio\n",
        "import tensortrade.env.default as default\n",
        "from tensortrade.env.generic import TradingEnv\n",
        "from tensortrade.agents import DQNAgent"
      ],
      "execution_count": 11,
      "outputs": []
    },
    {
      "cell_type": "markdown",
      "metadata": {
        "id": "WIbEdOfRJRqc"
      },
      "source": [
        "Download stock price. Use adjusted price."
      ]
    },
    {
      "cell_type": "code",
      "source": [
        "symbol = 'SPY'\n",
        "start_date = datetime(2010, 1, 1)\n",
        "end_date = datetime(2021, 6, 3)\n",
        "\n",
        "df = yf.download(symbol, start=start_date, end=end_date)\n",
        "df.sort_index(ascending=True, inplace=True)\n",
        "df = df[start_date:end_date]\n",
        "df['Open'] = df['Adj Close'] / df['Close'] * df['Open']\n",
        "df['High'] = df['Adj Close'] / df['Close'] * df['High']\n",
        "df['Low'] = df['Adj Close'] / df['Close'] * df['Low']\n",
        "df['Volume'] = df['Adj Close'] / df['Close'] * df['Volume']\n",
        "df['Close'] = df['Adj Close']\n",
        "df = df[['Open', 'High', 'Low', 'Close', 'Volume']]\n",
        "ta.add_all_ta_features(df, 'Open', 'High', 'Low', 'Close', 'Volume', fillna=True)\n",
        "df.columns = [symbol + \":\" + name.lower() for name in df.columns]"
      ],
      "metadata": {
        "id": "79RpOxdQlXrb",
        "outputId": "7ac67930-da26-436c-91fc-501617634e43",
        "colab": {
          "base_uri": "https://localhost:8080/"
        }
      },
      "execution_count": 12,
      "outputs": [
        {
          "output_type": "stream",
          "name": "stdout",
          "text": [
            "\r[*********************100%***********************]  1 of 1 completed\n"
          ]
        }
      ]
    },
    {
      "cell_type": "code",
      "source": [
        "df.head(2)"
      ],
      "metadata": {
        "id": "ETiZYDyqlvGM",
        "outputId": "9e84fcdf-9c79-434d-cf83-aeab4f42e0d0",
        "colab": {
          "base_uri": "https://localhost:8080/",
          "height": 228
        }
      },
      "execution_count": 13,
      "outputs": [
        {
          "output_type": "execute_result",
          "data": {
            "text/html": [
              "<div>\n",
              "<style scoped>\n",
              "    .dataframe tbody tr th:only-of-type {\n",
              "        vertical-align: middle;\n",
              "    }\n",
              "\n",
              "    .dataframe tbody tr th {\n",
              "        vertical-align: top;\n",
              "    }\n",
              "\n",
              "    .dataframe thead th {\n",
              "        text-align: right;\n",
              "    }\n",
              "</style>\n",
              "<table border=\"1\" class=\"dataframe\">\n",
              "  <thead>\n",
              "    <tr style=\"text-align: right;\">\n",
              "      <th></th>\n",
              "      <th>SPY:open</th>\n",
              "      <th>SPY:high</th>\n",
              "      <th>SPY:low</th>\n",
              "      <th>SPY:close</th>\n",
              "      <th>SPY:volume</th>\n",
              "      <th>SPY:volume_adi</th>\n",
              "      <th>SPY:volume_obv</th>\n",
              "      <th>SPY:volume_cmf</th>\n",
              "      <th>SPY:volume_fi</th>\n",
              "      <th>SPY:volume_em</th>\n",
              "      <th>SPY:volume_sma_em</th>\n",
              "      <th>SPY:volume_vpt</th>\n",
              "      <th>SPY:volume_vwap</th>\n",
              "      <th>SPY:volume_mfi</th>\n",
              "      <th>SPY:volume_nvi</th>\n",
              "      <th>SPY:volatility_bbm</th>\n",
              "      <th>SPY:volatility_bbh</th>\n",
              "      <th>SPY:volatility_bbl</th>\n",
              "      <th>SPY:volatility_bbw</th>\n",
              "      <th>SPY:volatility_bbp</th>\n",
              "      <th>SPY:volatility_bbhi</th>\n",
              "      <th>SPY:volatility_bbli</th>\n",
              "      <th>SPY:volatility_kcc</th>\n",
              "      <th>SPY:volatility_kch</th>\n",
              "      <th>SPY:volatility_kcl</th>\n",
              "      <th>SPY:volatility_kcw</th>\n",
              "      <th>SPY:volatility_kcp</th>\n",
              "      <th>SPY:volatility_kchi</th>\n",
              "      <th>SPY:volatility_kcli</th>\n",
              "      <th>SPY:volatility_dcl</th>\n",
              "      <th>SPY:volatility_dch</th>\n",
              "      <th>SPY:volatility_dcm</th>\n",
              "      <th>SPY:volatility_dcw</th>\n",
              "      <th>SPY:volatility_dcp</th>\n",
              "      <th>SPY:volatility_atr</th>\n",
              "      <th>SPY:volatility_ui</th>\n",
              "      <th>SPY:trend_macd</th>\n",
              "      <th>SPY:trend_macd_signal</th>\n",
              "      <th>SPY:trend_macd_diff</th>\n",
              "      <th>SPY:trend_sma_fast</th>\n",
              "      <th>...</th>\n",
              "      <th>SPY:trend_dpo</th>\n",
              "      <th>SPY:trend_kst</th>\n",
              "      <th>SPY:trend_kst_sig</th>\n",
              "      <th>SPY:trend_kst_diff</th>\n",
              "      <th>SPY:trend_ichimoku_conv</th>\n",
              "      <th>SPY:trend_ichimoku_base</th>\n",
              "      <th>SPY:trend_ichimoku_a</th>\n",
              "      <th>SPY:trend_ichimoku_b</th>\n",
              "      <th>SPY:trend_stc</th>\n",
              "      <th>SPY:trend_adx</th>\n",
              "      <th>SPY:trend_adx_pos</th>\n",
              "      <th>SPY:trend_adx_neg</th>\n",
              "      <th>SPY:trend_cci</th>\n",
              "      <th>SPY:trend_visual_ichimoku_a</th>\n",
              "      <th>SPY:trend_visual_ichimoku_b</th>\n",
              "      <th>SPY:trend_aroon_up</th>\n",
              "      <th>SPY:trend_aroon_down</th>\n",
              "      <th>SPY:trend_aroon_ind</th>\n",
              "      <th>SPY:trend_psar_up</th>\n",
              "      <th>SPY:trend_psar_down</th>\n",
              "      <th>SPY:trend_psar_up_indicator</th>\n",
              "      <th>SPY:trend_psar_down_indicator</th>\n",
              "      <th>SPY:momentum_rsi</th>\n",
              "      <th>SPY:momentum_stoch_rsi</th>\n",
              "      <th>SPY:momentum_stoch_rsi_k</th>\n",
              "      <th>SPY:momentum_stoch_rsi_d</th>\n",
              "      <th>SPY:momentum_tsi</th>\n",
              "      <th>SPY:momentum_uo</th>\n",
              "      <th>SPY:momentum_stoch</th>\n",
              "      <th>SPY:momentum_stoch_signal</th>\n",
              "      <th>SPY:momentum_wr</th>\n",
              "      <th>SPY:momentum_ao</th>\n",
              "      <th>SPY:momentum_roc</th>\n",
              "      <th>SPY:momentum_ppo</th>\n",
              "      <th>SPY:momentum_ppo_signal</th>\n",
              "      <th>SPY:momentum_ppo_hist</th>\n",
              "      <th>SPY:momentum_kama</th>\n",
              "      <th>SPY:others_dr</th>\n",
              "      <th>SPY:others_dlr</th>\n",
              "      <th>SPY:others_cr</th>\n",
              "    </tr>\n",
              "    <tr>\n",
              "      <th>Date</th>\n",
              "      <th></th>\n",
              "      <th></th>\n",
              "      <th></th>\n",
              "      <th></th>\n",
              "      <th></th>\n",
              "      <th></th>\n",
              "      <th></th>\n",
              "      <th></th>\n",
              "      <th></th>\n",
              "      <th></th>\n",
              "      <th></th>\n",
              "      <th></th>\n",
              "      <th></th>\n",
              "      <th></th>\n",
              "      <th></th>\n",
              "      <th></th>\n",
              "      <th></th>\n",
              "      <th></th>\n",
              "      <th></th>\n",
              "      <th></th>\n",
              "      <th></th>\n",
              "      <th></th>\n",
              "      <th></th>\n",
              "      <th></th>\n",
              "      <th></th>\n",
              "      <th></th>\n",
              "      <th></th>\n",
              "      <th></th>\n",
              "      <th></th>\n",
              "      <th></th>\n",
              "      <th></th>\n",
              "      <th></th>\n",
              "      <th></th>\n",
              "      <th></th>\n",
              "      <th></th>\n",
              "      <th></th>\n",
              "      <th></th>\n",
              "      <th></th>\n",
              "      <th></th>\n",
              "      <th></th>\n",
              "      <th></th>\n",
              "      <th></th>\n",
              "      <th></th>\n",
              "      <th></th>\n",
              "      <th></th>\n",
              "      <th></th>\n",
              "      <th></th>\n",
              "      <th></th>\n",
              "      <th></th>\n",
              "      <th></th>\n",
              "      <th></th>\n",
              "      <th></th>\n",
              "      <th></th>\n",
              "      <th></th>\n",
              "      <th></th>\n",
              "      <th></th>\n",
              "      <th></th>\n",
              "      <th></th>\n",
              "      <th></th>\n",
              "      <th></th>\n",
              "      <th></th>\n",
              "      <th></th>\n",
              "      <th></th>\n",
              "      <th></th>\n",
              "      <th></th>\n",
              "      <th></th>\n",
              "      <th></th>\n",
              "      <th></th>\n",
              "      <th></th>\n",
              "      <th></th>\n",
              "      <th></th>\n",
              "      <th></th>\n",
              "      <th></th>\n",
              "      <th></th>\n",
              "      <th></th>\n",
              "      <th></th>\n",
              "      <th></th>\n",
              "      <th></th>\n",
              "      <th></th>\n",
              "      <th></th>\n",
              "      <th></th>\n",
              "    </tr>\n",
              "  </thead>\n",
              "  <tbody>\n",
              "    <tr>\n",
              "      <th>2010-01-04</th>\n",
              "      <td>112.370003</td>\n",
              "      <td>113.389999</td>\n",
              "      <td>111.510002</td>\n",
              "      <td>113.330002</td>\n",
              "      <td>118944600.0</td>\n",
              "      <td>1.113527e+08</td>\n",
              "      <td>118944600.0</td>\n",
              "      <td>0.936173</td>\n",
              "      <td>0.000000e+00</td>\n",
              "      <td>0.000000</td>\n",
              "      <td>0.000000</td>\n",
              "      <td>-5.622619e+07</td>\n",
              "      <td>112.743334</td>\n",
              "      <td>50.0</td>\n",
              "      <td>1000.000000</td>\n",
              "      <td>113.330002</td>\n",
              "      <td>113.330002</td>\n",
              "      <td>113.330002</td>\n",
              "      <td>0.000000</td>\n",
              "      <td>0.00</td>\n",
              "      <td>0.0</td>\n",
              "      <td>0.0</td>\n",
              "      <td>112.743334</td>\n",
              "      <td>114.623332</td>\n",
              "      <td>110.863337</td>\n",
              "      <td>3.335004</td>\n",
              "      <td>0.656029</td>\n",
              "      <td>0.0</td>\n",
              "      <td>0.0</td>\n",
              "      <td>111.510002</td>\n",
              "      <td>113.389999</td>\n",
              "      <td>112.450001</td>\n",
              "      <td>1.65887</td>\n",
              "      <td>0.968086</td>\n",
              "      <td>0.0</td>\n",
              "      <td>0.0</td>\n",
              "      <td>0.000000</td>\n",
              "      <td>0.000000</td>\n",
              "      <td>0.000000</td>\n",
              "      <td>113.330002</td>\n",
              "      <td>...</td>\n",
              "      <td>101.222657</td>\n",
              "      <td>-471.784677</td>\n",
              "      <td>-471.784677</td>\n",
              "      <td>0.000000</td>\n",
              "      <td>112.450001</td>\n",
              "      <td>112.450001</td>\n",
              "      <td>112.450001</td>\n",
              "      <td>112.450001</td>\n",
              "      <td>0.0</td>\n",
              "      <td>0.0</td>\n",
              "      <td>0.0</td>\n",
              "      <td>0.0</td>\n",
              "      <td>0.000000</td>\n",
              "      <td>212.860417</td>\n",
              "      <td>210.071869</td>\n",
              "      <td>4.0</td>\n",
              "      <td>4.0</td>\n",
              "      <td>0.0</td>\n",
              "      <td>-1.0</td>\n",
              "      <td>-1.0</td>\n",
              "      <td>0.0</td>\n",
              "      <td>0.0</td>\n",
              "      <td>100.0</td>\n",
              "      <td>0.0</td>\n",
              "      <td>0.0</td>\n",
              "      <td>0.0</td>\n",
              "      <td>0.0</td>\n",
              "      <td>0.000000</td>\n",
              "      <td>96.808636</td>\n",
              "      <td>96.808636</td>\n",
              "      <td>-3.191364</td>\n",
              "      <td>0.0</td>\n",
              "      <td>0.0</td>\n",
              "      <td>0.000000</td>\n",
              "      <td>0.00000</td>\n",
              "      <td>0.000000</td>\n",
              "      <td>113.330002</td>\n",
              "      <td>-47.178468</td>\n",
              "      <td>0.00000</td>\n",
              "      <td>0.00000</td>\n",
              "    </tr>\n",
              "    <tr>\n",
              "      <th>2010-01-05</th>\n",
              "      <td>113.260002</td>\n",
              "      <td>113.680000</td>\n",
              "      <td>112.849998</td>\n",
              "      <td>113.629997</td>\n",
              "      <td>111579900.0</td>\n",
              "      <td>2.094884e+08</td>\n",
              "      <td>230524500.0</td>\n",
              "      <td>0.908747</td>\n",
              "      <td>3.347346e+07</td>\n",
              "      <td>0.606247</td>\n",
              "      <td>0.606247</td>\n",
              "      <td>-5.582088e+07</td>\n",
              "      <td>113.054723</td>\n",
              "      <td>100.0</td>\n",
              "      <td>1002.647096</td>\n",
              "      <td>113.480000</td>\n",
              "      <td>113.779995</td>\n",
              "      <td>113.180004</td>\n",
              "      <td>0.528719</td>\n",
              "      <td>0.75</td>\n",
              "      <td>0.0</td>\n",
              "      <td>0.0</td>\n",
              "      <td>113.065000</td>\n",
              "      <td>114.419999</td>\n",
              "      <td>111.710000</td>\n",
              "      <td>2.396851</td>\n",
              "      <td>0.708486</td>\n",
              "      <td>0.0</td>\n",
              "      <td>0.0</td>\n",
              "      <td>111.510002</td>\n",
              "      <td>113.680000</td>\n",
              "      <td>112.595001</td>\n",
              "      <td>1.91223</td>\n",
              "      <td>0.976957</td>\n",
              "      <td>0.0</td>\n",
              "      <td>0.0</td>\n",
              "      <td>0.023931</td>\n",
              "      <td>0.004786</td>\n",
              "      <td>0.019145</td>\n",
              "      <td>113.480000</td>\n",
              "      <td>...</td>\n",
              "      <td>101.072659</td>\n",
              "      <td>-471.085559</td>\n",
              "      <td>-471.435118</td>\n",
              "      <td>0.349559</td>\n",
              "      <td>112.595001</td>\n",
              "      <td>112.595001</td>\n",
              "      <td>112.595001</td>\n",
              "      <td>112.595001</td>\n",
              "      <td>0.0</td>\n",
              "      <td>0.0</td>\n",
              "      <td>0.0</td>\n",
              "      <td>0.0</td>\n",
              "      <td>66.666667</td>\n",
              "      <td>212.860417</td>\n",
              "      <td>210.071869</td>\n",
              "      <td>8.0</td>\n",
              "      <td>4.0</td>\n",
              "      <td>4.0</td>\n",
              "      <td>-1.0</td>\n",
              "      <td>-1.0</td>\n",
              "      <td>0.0</td>\n",
              "      <td>0.0</td>\n",
              "      <td>100.0</td>\n",
              "      <td>0.0</td>\n",
              "      <td>0.0</td>\n",
              "      <td>0.0</td>\n",
              "      <td>100.0</td>\n",
              "      <td>28.782253</td>\n",
              "      <td>97.695710</td>\n",
              "      <td>97.252173</td>\n",
              "      <td>-2.304290</td>\n",
              "      <td>0.0</td>\n",
              "      <td>0.0</td>\n",
              "      <td>-0.496201</td>\n",
              "      <td>-0.09924</td>\n",
              "      <td>-0.396961</td>\n",
              "      <td>113.458942</td>\n",
              "      <td>0.264710</td>\n",
              "      <td>0.26436</td>\n",
              "      <td>0.26471</td>\n",
              "    </tr>\n",
              "  </tbody>\n",
              "</table>\n",
              "<p>2 rows × 88 columns</p>\n",
              "</div>"
            ],
            "text/plain": [
              "              SPY:open    SPY:high  ...  SPY:others_dlr  SPY:others_cr\n",
              "Date                                ...                               \n",
              "2010-01-04  112.370003  113.389999  ...         0.00000        0.00000\n",
              "2010-01-05  113.260002  113.680000  ...         0.26436        0.26471\n",
              "\n",
              "[2 rows x 88 columns]"
            ]
          },
          "metadata": {},
          "execution_count": 13
        }
      ]
    },
    {
      "cell_type": "markdown",
      "metadata": {
        "id": "77AIHJeBJIfQ"
      },
      "source": [
        "## Environment"
      ]
    },
    {
      "cell_type": "markdown",
      "source": [
        "### Exchange"
      ],
      "metadata": {
        "id": "4L7BhVaRmEwj"
      }
    },
    {
      "cell_type": "code",
      "metadata": {
        "id": "C6vz9Xiq2Jff"
      },
      "source": [
        "exchange_name = \"backtest-exchange\"\n",
        "exchange_options = ExchangeOptions(commission = 0.003, min_trade_size=1e-6)\n",
        "exchange = Exchange(exchange_name, service=execute_order, options=exchange_options)(\n",
        "    Stream.source(df[f'{symbol}:close'].tolist(), dtype=\"float\").rename(f\"USD-{symbol}\")\n",
        ")"
      ],
      "execution_count": 14,
      "outputs": []
    },
    {
      "cell_type": "markdown",
      "source": [
        "### DataFeed"
      ],
      "metadata": {
        "id": "EeKpCgVrmJmS"
      }
    },
    {
      "cell_type": "code",
      "source": [
        "with NameSpace(exchange_name):\n",
        "    streams = [Stream.source(df[c].tolist(), dtype=\"float\").rename(c) for c in df.columns]\n",
        "feed = DataFeed(streams)\n",
        "feed.next()"
      ],
      "metadata": {
        "id": "E2skRQ-JmI17",
        "outputId": "498d61bc-05c2-4dd6-fa13-51f2d190198b",
        "colab": {
          "base_uri": "https://localhost:8080/"
        }
      },
      "execution_count": 15,
      "outputs": [
        {
          "output_type": "execute_result",
          "data": {
            "text/plain": [
              "{'backtest-exchange:/SPY:close': 113.33000183105469,\n",
              " 'backtest-exchange:/SPY:high': 113.38999938964844,\n",
              " 'backtest-exchange:/SPY:low': 111.51000213623047,\n",
              " 'backtest-exchange:/SPY:momentum_ao': 0.0,\n",
              " 'backtest-exchange:/SPY:momentum_kama': 113.33000183105469,\n",
              " 'backtest-exchange:/SPY:momentum_ppo': 0.0,\n",
              " 'backtest-exchange:/SPY:momentum_ppo_hist': 0.0,\n",
              " 'backtest-exchange:/SPY:momentum_ppo_signal': 0.0,\n",
              " 'backtest-exchange:/SPY:momentum_roc': 0.0,\n",
              " 'backtest-exchange:/SPY:momentum_rsi': 100.0,\n",
              " 'backtest-exchange:/SPY:momentum_stoch': 96.80863583791572,\n",
              " 'backtest-exchange:/SPY:momentum_stoch_rsi': 0.0,\n",
              " 'backtest-exchange:/SPY:momentum_stoch_rsi_d': 0.0,\n",
              " 'backtest-exchange:/SPY:momentum_stoch_rsi_k': 0.0,\n",
              " 'backtest-exchange:/SPY:momentum_stoch_signal': 96.80863583791572,\n",
              " 'backtest-exchange:/SPY:momentum_tsi': 0.0,\n",
              " 'backtest-exchange:/SPY:momentum_uo': 0.0,\n",
              " 'backtest-exchange:/SPY:momentum_wr': -3.1913641620842887,\n",
              " 'backtest-exchange:/SPY:open': 112.37000274658203,\n",
              " 'backtest-exchange:/SPY:others_cr': 0.0,\n",
              " 'backtest-exchange:/SPY:others_dlr': 0.0,\n",
              " 'backtest-exchange:/SPY:others_dr': -47.178467736146956,\n",
              " 'backtest-exchange:/SPY:trend_adx': 0.0,\n",
              " 'backtest-exchange:/SPY:trend_adx_neg': 0.0,\n",
              " 'backtest-exchange:/SPY:trend_adx_pos': 0.0,\n",
              " 'backtest-exchange:/SPY:trend_aroon_down': 4.0,\n",
              " 'backtest-exchange:/SPY:trend_aroon_ind': 0.0,\n",
              " 'backtest-exchange:/SPY:trend_aroon_up': 4.0,\n",
              " 'backtest-exchange:/SPY:trend_cci': 0.0,\n",
              " 'backtest-exchange:/SPY:trend_dpo': 101.22265685546535,\n",
              " 'backtest-exchange:/SPY:trend_ema_fast': 113.33000183105469,\n",
              " 'backtest-exchange:/SPY:trend_ema_slow': 113.33000183105469,\n",
              " 'backtest-exchange:/SPY:trend_ichimoku_a': 112.45000076293945,\n",
              " 'backtest-exchange:/SPY:trend_ichimoku_b': 112.45000076293945,\n",
              " 'backtest-exchange:/SPY:trend_ichimoku_base': 112.45000076293945,\n",
              " 'backtest-exchange:/SPY:trend_ichimoku_conv': 112.45000076293945,\n",
              " 'backtest-exchange:/SPY:trend_kst': -471.78467736146945,\n",
              " 'backtest-exchange:/SPY:trend_kst_diff': 0.0,\n",
              " 'backtest-exchange:/SPY:trend_kst_sig': -471.78467736146945,\n",
              " 'backtest-exchange:/SPY:trend_macd': 0.0,\n",
              " 'backtest-exchange:/SPY:trend_macd_diff': 0.0,\n",
              " 'backtest-exchange:/SPY:trend_macd_signal': 0.0,\n",
              " 'backtest-exchange:/SPY:trend_mass_index': 1.0,\n",
              " 'backtest-exchange:/SPY:trend_psar_down': -1.0,\n",
              " 'backtest-exchange:/SPY:trend_psar_down_indicator': 0.0,\n",
              " 'backtest-exchange:/SPY:trend_psar_up': -1.0,\n",
              " 'backtest-exchange:/SPY:trend_psar_up_indicator': 0.0,\n",
              " 'backtest-exchange:/SPY:trend_sma_fast': 113.33000183105469,\n",
              " 'backtest-exchange:/SPY:trend_sma_slow': 113.33000183105469,\n",
              " 'backtest-exchange:/SPY:trend_stc': 0.0,\n",
              " 'backtest-exchange:/SPY:trend_trix': -46.629084116683465,\n",
              " 'backtest-exchange:/SPY:trend_visual_ichimoku_a': 212.86041730660992,\n",
              " 'backtest-exchange:/SPY:trend_visual_ichimoku_b': 210.07186933730563,\n",
              " 'backtest-exchange:/SPY:trend_vortex_ind_diff': 0.0,\n",
              " 'backtest-exchange:/SPY:trend_vortex_ind_neg': 0.0,\n",
              " 'backtest-exchange:/SPY:trend_vortex_ind_pos': 0.0,\n",
              " 'backtest-exchange:/SPY:volatility_atr': 0.0,\n",
              " 'backtest-exchange:/SPY:volatility_bbh': 113.33000183105469,\n",
              " 'backtest-exchange:/SPY:volatility_bbhi': 0.0,\n",
              " 'backtest-exchange:/SPY:volatility_bbl': 113.33000183105469,\n",
              " 'backtest-exchange:/SPY:volatility_bbli': 0.0,\n",
              " 'backtest-exchange:/SPY:volatility_bbm': 113.33000183105469,\n",
              " 'backtest-exchange:/SPY:volatility_bbp': 0.0,\n",
              " 'backtest-exchange:/SPY:volatility_bbw': 0.0,\n",
              " 'backtest-exchange:/SPY:volatility_dch': 113.38999938964844,\n",
              " 'backtest-exchange:/SPY:volatility_dcl': 111.51000213623047,\n",
              " 'backtest-exchange:/SPY:volatility_dcm': 112.45000076293945,\n",
              " 'backtest-exchange:/SPY:volatility_dcp': 0.9680863583791571,\n",
              " 'backtest-exchange:/SPY:volatility_dcw': 1.6588698694460022,\n",
              " 'backtest-exchange:/SPY:volatility_kcc': 112.7433344523112,\n",
              " 'backtest-exchange:/SPY:volatility_kch': 114.62333170572917,\n",
              " 'backtest-exchange:/SPY:volatility_kchi': 0.0,\n",
              " 'backtest-exchange:/SPY:volatility_kcl': 110.86333719889323,\n",
              " 'backtest-exchange:/SPY:volatility_kcli': 0.0,\n",
              " 'backtest-exchange:/SPY:volatility_kcp': 0.6560287861263845,\n",
              " 'backtest-exchange:/SPY:volatility_kcw': 3.3350038165017732,\n",
              " 'backtest-exchange:/SPY:volatility_ui': 0.0,\n",
              " 'backtest-exchange:/SPY:volume': 118944600.0,\n",
              " 'backtest-exchange:/SPY:volume_adi': 111352689.32573098,\n",
              " 'backtest-exchange:/SPY:volume_cmf': 0.9361727167583141,\n",
              " 'backtest-exchange:/SPY:volume_em': 0.0,\n",
              " 'backtest-exchange:/SPY:volume_fi': 0.0,\n",
              " 'backtest-exchange:/SPY:volume_mfi': 50.0,\n",
              " 'backtest-exchange:/SPY:volume_nvi': 1000.0,\n",
              " 'backtest-exchange:/SPY:volume_obv': 118944600.0,\n",
              " 'backtest-exchange:/SPY:volume_sma_em': 0.0,\n",
              " 'backtest-exchange:/SPY:volume_vpt': -56226193.67549973,\n",
              " 'backtest-exchange:/SPY:volume_vwap': 112.7433344523112}"
            ]
          },
          "metadata": {},
          "execution_count": 15
        }
      ]
    },
    {
      "cell_type": "markdown",
      "source": [
        "### Portfolio"
      ],
      "metadata": {
        "id": "Df_uB9KrmOly"
      }
    },
    {
      "cell_type": "code",
      "source": [
        "SPY = Instrument(symbol, 1, symbol)\n",
        "portfolio = Portfolio(USD, [\n",
        "    Wallet(exchange, 1_000_000 * USD),\n",
        "    Wallet(exchange, 0 * SPY),\n",
        "])"
      ],
      "metadata": {
        "id": "FL9UxwBimMMS"
      },
      "execution_count": 16,
      "outputs": []
    },
    {
      "cell_type": "markdown",
      "source": [
        "TradingEnv"
      ],
      "metadata": {
        "id": "tU-wyh9imSWy"
      }
    },
    {
      "cell_type": "code",
      "source": [
        "env = default.create(\n",
        "    portfolio=portfolio,\n",
        "    action_scheme=default.actions.SimpleOrders(trade_sizes=[1.0], min_order_pct=0),       # 100% buy or sell\n",
        "    reward_scheme=default.rewards.SimpleProfit(window_size=1),\n",
        "    feed=feed,\n",
        "    renderer=default.renderers.ScreenLogger(date_format=\"%Y-%m-%d %H:%M:%S %p\"),\n",
        "    window_size=22\n",
        ")"
      ],
      "metadata": {
        "id": "d-SGig6-mRs6"
      },
      "execution_count": 17,
      "outputs": []
    },
    {
      "cell_type": "markdown",
      "source": [
        "## Training"
      ],
      "metadata": {
        "id": "Ehpuiy8lmV4S"
      }
    },
    {
      "cell_type": "markdown",
      "source": [
        "### Ramdom Trading"
      ],
      "metadata": {
        "id": "cdyblhAOmZrC"
      }
    },
    {
      "cell_type": "code",
      "source": [
        "done = False\n",
        "obs = env.reset()\n",
        "while not done:\n",
        "    action = env.action_space.sample()\n",
        "    obs, reward, done, info = env.step(action)"
      ],
      "metadata": {
        "id": "UIrVk2ZPmU8a",
        "outputId": "05623165-128f-47a4-bae4-c5354e775acb",
        "colab": {
          "base_uri": "https://localhost:8080/"
        }
      },
      "execution_count": 18,
      "outputs": [
        {
          "output_type": "stream",
          "name": "stderr",
          "text": [
            "WARNING:root:Commission is less than instrument precision. Canceling order. Consider defining a custom instrument with a higher precision.\n",
            "WARNING:root:Commission is less than instrument precision. Canceling order. Consider defining a custom instrument with a higher precision.\n",
            "WARNING:root:Commission is less than instrument precision. Canceling order. Consider defining a custom instrument with a higher precision.\n",
            "WARNING:root:Commission is less than instrument precision. Canceling order. Consider defining a custom instrument with a higher precision.\n",
            "WARNING:root:Commission is less than instrument precision. Canceling order. Consider defining a custom instrument with a higher precision.\n",
            "WARNING:root:Commission is less than instrument precision. Canceling order. Consider defining a custom instrument with a higher precision.\n",
            "WARNING:root:Commission is less than instrument precision. Canceling order. Consider defining a custom instrument with a higher precision.\n"
          ]
        }
      ]
    },
    {
      "cell_type": "code",
      "source": [
        "portfolio.ledger.as_frame().head(20)"
      ],
      "metadata": {
        "id": "s6Vg5UqYmcry",
        "outputId": "dff9cbfc-7bab-4e59-e3ad-6b099ff4eadf",
        "colab": {
          "base_uri": "https://localhost:8080/",
          "height": 677
        }
      },
      "execution_count": 19,
      "outputs": [
        {
          "output_type": "execute_result",
          "data": {
            "text/html": [
              "<div>\n",
              "<style scoped>\n",
              "    .dataframe tbody tr th:only-of-type {\n",
              "        vertical-align: middle;\n",
              "    }\n",
              "\n",
              "    .dataframe tbody tr th {\n",
              "        vertical-align: top;\n",
              "    }\n",
              "\n",
              "    .dataframe thead th {\n",
              "        text-align: right;\n",
              "    }\n",
              "</style>\n",
              "<table border=\"1\" class=\"dataframe\">\n",
              "  <thead>\n",
              "    <tr style=\"text-align: right;\">\n",
              "      <th></th>\n",
              "      <th>poid</th>\n",
              "      <th>step</th>\n",
              "      <th>source</th>\n",
              "      <th>target</th>\n",
              "      <th>memo</th>\n",
              "      <th>amount</th>\n",
              "      <th>free</th>\n",
              "      <th>locked</th>\n",
              "      <th>locked_poid</th>\n",
              "    </tr>\n",
              "  </thead>\n",
              "  <tbody>\n",
              "    <tr>\n",
              "      <th>0</th>\n",
              "      <td>6372a259-d1fa-441f-8555-13e5f747c691</td>\n",
              "      <td>3</td>\n",
              "      <td>backtest-exchange:USD/free</td>\n",
              "      <td>backtest-exchange:USD/locked</td>\n",
              "      <td>LOCK (LOCK FOR ORDER)</td>\n",
              "      <td>1000000.00 USD</td>\n",
              "      <td>0.00 USD</td>\n",
              "      <td>1000000.00 USD</td>\n",
              "      <td>1000000.00 USD</td>\n",
              "    </tr>\n",
              "    <tr>\n",
              "      <th>1</th>\n",
              "      <td>6372a259-d1fa-441f-8555-13e5f747c691</td>\n",
              "      <td>3</td>\n",
              "      <td>backtest-exchange:USD/locked</td>\n",
              "      <td>backtest-exchange</td>\n",
              "      <td>WITHDRAWAL (COMMISSION)</td>\n",
              "      <td>3000.00 USD</td>\n",
              "      <td>0.00 USD</td>\n",
              "      <td>997000.00 USD</td>\n",
              "      <td>997000.00 USD</td>\n",
              "    </tr>\n",
              "    <tr>\n",
              "      <th>2</th>\n",
              "      <td>6372a259-d1fa-441f-8555-13e5f747c691</td>\n",
              "      <td>3</td>\n",
              "      <td>backtest-exchange:USD/locked</td>\n",
              "      <td>backtest-exchange</td>\n",
              "      <td>WITHDRAWAL (FILL ORDER)</td>\n",
              "      <td>997000.00 USD</td>\n",
              "      <td>0.00 USD</td>\n",
              "      <td>0.00 USD</td>\n",
              "      <td>0.00 USD</td>\n",
              "    </tr>\n",
              "    <tr>\n",
              "      <th>3</th>\n",
              "      <td>6372a259-d1fa-441f-8555-13e5f747c691</td>\n",
              "      <td>3</td>\n",
              "      <td>backtest-exchange</td>\n",
              "      <td>backtest-exchange:SPY/locked</td>\n",
              "      <td>DEPOSIT (TRADED 997000.00 USD backtest-exchang...</td>\n",
              "      <td>8767.9 SPY</td>\n",
              "      <td>0.0 SPY</td>\n",
              "      <td>8767.9 SPY</td>\n",
              "      <td>8767.9 SPY</td>\n",
              "    </tr>\n",
              "    <tr>\n",
              "      <th>4</th>\n",
              "      <td>6372a259-d1fa-441f-8555-13e5f747c691</td>\n",
              "      <td>3</td>\n",
              "      <td>backtest-exchange:USD/locked</td>\n",
              "      <td>backtest-exchange:USD/free</td>\n",
              "      <td>UNLOCK USD (COMPLETED)</td>\n",
              "      <td>0.00 USD</td>\n",
              "      <td>0.00 USD</td>\n",
              "      <td>0.00 USD</td>\n",
              "      <td>0.00 USD</td>\n",
              "    </tr>\n",
              "    <tr>\n",
              "      <th>5</th>\n",
              "      <td>6372a259-d1fa-441f-8555-13e5f747c691</td>\n",
              "      <td>3</td>\n",
              "      <td>backtest-exchange:SPY/locked</td>\n",
              "      <td>backtest-exchange:SPY/free</td>\n",
              "      <td>UNLOCK SPY (COMPLETED)</td>\n",
              "      <td>8767.9 SPY</td>\n",
              "      <td>8767.9 SPY</td>\n",
              "      <td>0.0 SPY</td>\n",
              "      <td>0.0 SPY</td>\n",
              "    </tr>\n",
              "    <tr>\n",
              "      <th>6</th>\n",
              "      <td>a5225e8c-7ebd-46ea-9f2a-13cd612e8799</td>\n",
              "      <td>9</td>\n",
              "      <td>backtest-exchange:SPY/free</td>\n",
              "      <td>backtest-exchange:SPY/locked</td>\n",
              "      <td>LOCK (LOCK FOR ORDER)</td>\n",
              "      <td>8700.9 SPY</td>\n",
              "      <td>67.0 SPY</td>\n",
              "      <td>8700.9 SPY</td>\n",
              "      <td>8700.9 SPY</td>\n",
              "    </tr>\n",
              "    <tr>\n",
              "      <th>7</th>\n",
              "      <td>a5225e8c-7ebd-46ea-9f2a-13cd612e8799</td>\n",
              "      <td>9</td>\n",
              "      <td>backtest-exchange:SPY/locked</td>\n",
              "      <td>backtest-exchange</td>\n",
              "      <td>WITHDRAWAL (COMMISSION)</td>\n",
              "      <td>26.1 SPY</td>\n",
              "      <td>67.0 SPY</td>\n",
              "      <td>8674.8 SPY</td>\n",
              "      <td>8674.8 SPY</td>\n",
              "    </tr>\n",
              "    <tr>\n",
              "      <th>8</th>\n",
              "      <td>a5225e8c-7ebd-46ea-9f2a-13cd612e8799</td>\n",
              "      <td>9</td>\n",
              "      <td>backtest-exchange:SPY/locked</td>\n",
              "      <td>backtest-exchange</td>\n",
              "      <td>WITHDRAWAL (FILL ORDER)</td>\n",
              "      <td>8674.8 SPY</td>\n",
              "      <td>67.0 SPY</td>\n",
              "      <td>0.0 SPY</td>\n",
              "      <td>0.0 SPY</td>\n",
              "    </tr>\n",
              "    <tr>\n",
              "      <th>9</th>\n",
              "      <td>a5225e8c-7ebd-46ea-9f2a-13cd612e8799</td>\n",
              "      <td>9</td>\n",
              "      <td>backtest-exchange</td>\n",
              "      <td>backtest-exchange:USD/locked</td>\n",
              "      <td>DEPOSIT (TRADED 8674.8 SPY backtest-exchange:U...</td>\n",
              "      <td>996994.76 USD</td>\n",
              "      <td>0.00 USD</td>\n",
              "      <td>996994.76 USD</td>\n",
              "      <td>996994.76 USD</td>\n",
              "    </tr>\n",
              "    <tr>\n",
              "      <th>10</th>\n",
              "      <td>a5225e8c-7ebd-46ea-9f2a-13cd612e8799</td>\n",
              "      <td>9</td>\n",
              "      <td>backtest-exchange:USD/locked</td>\n",
              "      <td>backtest-exchange:USD/free</td>\n",
              "      <td>UNLOCK USD (COMPLETED)</td>\n",
              "      <td>996994.76 USD</td>\n",
              "      <td>996994.76 USD</td>\n",
              "      <td>0.00 USD</td>\n",
              "      <td>0.00 USD</td>\n",
              "    </tr>\n",
              "    <tr>\n",
              "      <th>11</th>\n",
              "      <td>a5225e8c-7ebd-46ea-9f2a-13cd612e8799</td>\n",
              "      <td>9</td>\n",
              "      <td>backtest-exchange:SPY/locked</td>\n",
              "      <td>backtest-exchange:SPY/free</td>\n",
              "      <td>UNLOCK SPY (COMPLETED)</td>\n",
              "      <td>0.0 SPY</td>\n",
              "      <td>67.0 SPY</td>\n",
              "      <td>0.0 SPY</td>\n",
              "      <td>0.0 SPY</td>\n",
              "    </tr>\n",
              "    <tr>\n",
              "      <th>12</th>\n",
              "      <td>b04da132-e2e1-4e7c-bf5b-cb7f3a09b62b</td>\n",
              "      <td>10</td>\n",
              "      <td>backtest-exchange:SPY/free</td>\n",
              "      <td>backtest-exchange:SPY/locked</td>\n",
              "      <td>LOCK (LOCK FOR ORDER)</td>\n",
              "      <td>67.0 SPY</td>\n",
              "      <td>0.0 SPY</td>\n",
              "      <td>67.0 SPY</td>\n",
              "      <td>67.0 SPY</td>\n",
              "    </tr>\n",
              "    <tr>\n",
              "      <th>13</th>\n",
              "      <td>b04da132-e2e1-4e7c-bf5b-cb7f3a09b62b</td>\n",
              "      <td>10</td>\n",
              "      <td>backtest-exchange:SPY/locked</td>\n",
              "      <td>backtest-exchange</td>\n",
              "      <td>WITHDRAWAL (COMMISSION)</td>\n",
              "      <td>0.2 SPY</td>\n",
              "      <td>0.0 SPY</td>\n",
              "      <td>66.8 SPY</td>\n",
              "      <td>66.8 SPY</td>\n",
              "    </tr>\n",
              "    <tr>\n",
              "      <th>14</th>\n",
              "      <td>b04da132-e2e1-4e7c-bf5b-cb7f3a09b62b</td>\n",
              "      <td>10</td>\n",
              "      <td>backtest-exchange:SPY/locked</td>\n",
              "      <td>backtest-exchange</td>\n",
              "      <td>WITHDRAWAL (FILL ORDER)</td>\n",
              "      <td>66.8 SPY</td>\n",
              "      <td>0.0 SPY</td>\n",
              "      <td>0.0 SPY</td>\n",
              "      <td>0.0 SPY</td>\n",
              "    </tr>\n",
              "    <tr>\n",
              "      <th>15</th>\n",
              "      <td>b04da132-e2e1-4e7c-bf5b-cb7f3a09b62b</td>\n",
              "      <td>10</td>\n",
              "      <td>backtest-exchange</td>\n",
              "      <td>backtest-exchange:USD/locked</td>\n",
              "      <td>DEPOSIT (TRADED 66.8 SPY backtest-exchange:USD...</td>\n",
              "      <td>7591.15 USD</td>\n",
              "      <td>996994.76 USD</td>\n",
              "      <td>7591.15 USD</td>\n",
              "      <td>7591.15 USD</td>\n",
              "    </tr>\n",
              "    <tr>\n",
              "      <th>16</th>\n",
              "      <td>b04da132-e2e1-4e7c-bf5b-cb7f3a09b62b</td>\n",
              "      <td>10</td>\n",
              "      <td>backtest-exchange:USD/locked</td>\n",
              "      <td>backtest-exchange:USD/free</td>\n",
              "      <td>UNLOCK USD (COMPLETED)</td>\n",
              "      <td>7591.15 USD</td>\n",
              "      <td>1004585.91 USD</td>\n",
              "      <td>0.00 USD</td>\n",
              "      <td>0.00 USD</td>\n",
              "    </tr>\n",
              "    <tr>\n",
              "      <th>17</th>\n",
              "      <td>b04da132-e2e1-4e7c-bf5b-cb7f3a09b62b</td>\n",
              "      <td>10</td>\n",
              "      <td>backtest-exchange:SPY/locked</td>\n",
              "      <td>backtest-exchange:SPY/free</td>\n",
              "      <td>UNLOCK SPY (COMPLETED)</td>\n",
              "      <td>0.0 SPY</td>\n",
              "      <td>0.0 SPY</td>\n",
              "      <td>0.0 SPY</td>\n",
              "      <td>0.0 SPY</td>\n",
              "    </tr>\n",
              "    <tr>\n",
              "      <th>18</th>\n",
              "      <td>58ff61c9-b557-42c2-8e77-2dd672366657</td>\n",
              "      <td>16</td>\n",
              "      <td>backtest-exchange:USD/free</td>\n",
              "      <td>backtest-exchange:USD/locked</td>\n",
              "      <td>LOCK (LOCK FOR ORDER)</td>\n",
              "      <td>1000000.00 USD</td>\n",
              "      <td>4585.91 USD</td>\n",
              "      <td>1000000.00 USD</td>\n",
              "      <td>1000000.00 USD</td>\n",
              "    </tr>\n",
              "    <tr>\n",
              "      <th>19</th>\n",
              "      <td>58ff61c9-b557-42c2-8e77-2dd672366657</td>\n",
              "      <td>16</td>\n",
              "      <td>backtest-exchange:USD/locked</td>\n",
              "      <td>backtest-exchange</td>\n",
              "      <td>WITHDRAWAL (COMMISSION)</td>\n",
              "      <td>3000.00 USD</td>\n",
              "      <td>4585.91 USD</td>\n",
              "      <td>997000.00 USD</td>\n",
              "      <td>997000.00 USD</td>\n",
              "    </tr>\n",
              "  </tbody>\n",
              "</table>\n",
              "</div>"
            ],
            "text/plain": [
              "                                    poid  step  ...          locked     locked_poid\n",
              "0   6372a259-d1fa-441f-8555-13e5f747c691     3  ...  1000000.00 USD  1000000.00 USD\n",
              "1   6372a259-d1fa-441f-8555-13e5f747c691     3  ...   997000.00 USD   997000.00 USD\n",
              "2   6372a259-d1fa-441f-8555-13e5f747c691     3  ...        0.00 USD        0.00 USD\n",
              "3   6372a259-d1fa-441f-8555-13e5f747c691     3  ...      8767.9 SPY      8767.9 SPY\n",
              "4   6372a259-d1fa-441f-8555-13e5f747c691     3  ...        0.00 USD        0.00 USD\n",
              "5   6372a259-d1fa-441f-8555-13e5f747c691     3  ...         0.0 SPY         0.0 SPY\n",
              "6   a5225e8c-7ebd-46ea-9f2a-13cd612e8799     9  ...      8700.9 SPY      8700.9 SPY\n",
              "7   a5225e8c-7ebd-46ea-9f2a-13cd612e8799     9  ...      8674.8 SPY      8674.8 SPY\n",
              "8   a5225e8c-7ebd-46ea-9f2a-13cd612e8799     9  ...         0.0 SPY         0.0 SPY\n",
              "9   a5225e8c-7ebd-46ea-9f2a-13cd612e8799     9  ...   996994.76 USD   996994.76 USD\n",
              "10  a5225e8c-7ebd-46ea-9f2a-13cd612e8799     9  ...        0.00 USD        0.00 USD\n",
              "11  a5225e8c-7ebd-46ea-9f2a-13cd612e8799     9  ...         0.0 SPY         0.0 SPY\n",
              "12  b04da132-e2e1-4e7c-bf5b-cb7f3a09b62b    10  ...        67.0 SPY        67.0 SPY\n",
              "13  b04da132-e2e1-4e7c-bf5b-cb7f3a09b62b    10  ...        66.8 SPY        66.8 SPY\n",
              "14  b04da132-e2e1-4e7c-bf5b-cb7f3a09b62b    10  ...         0.0 SPY         0.0 SPY\n",
              "15  b04da132-e2e1-4e7c-bf5b-cb7f3a09b62b    10  ...     7591.15 USD     7591.15 USD\n",
              "16  b04da132-e2e1-4e7c-bf5b-cb7f3a09b62b    10  ...        0.00 USD        0.00 USD\n",
              "17  b04da132-e2e1-4e7c-bf5b-cb7f3a09b62b    10  ...         0.0 SPY         0.0 SPY\n",
              "18  58ff61c9-b557-42c2-8e77-2dd672366657    16  ...  1000000.00 USD  1000000.00 USD\n",
              "19  58ff61c9-b557-42c2-8e77-2dd672366657    16  ...   997000.00 USD   997000.00 USD\n",
              "\n",
              "[20 rows x 9 columns]"
            ]
          },
          "metadata": {},
          "execution_count": 19
        }
      ]
    },
    {
      "cell_type": "markdown",
      "source": [
        "### DQN Agent"
      ],
      "metadata": {
        "id": "BPK7TcQCmhcC"
      }
    },
    {
      "cell_type": "code",
      "source": [
        "obs = env.reset()\n",
        "agent = DQNAgent(env)\n",
        "agent.train(n_episodes=2, n_steps=2000, render_interval=200)"
      ],
      "metadata": {
        "id": "DmlY6P78mgBC",
        "outputId": "901d6632-0417-44f8-9364-8205a19b840f",
        "colab": {
          "base_uri": "https://localhost:8080/"
        }
      },
      "execution_count": 22,
      "outputs": [
        {
          "output_type": "stream",
          "name": "stderr",
          "text": [
            "WARNING:root:Commission is less than instrument precision. Canceling order. Consider defining a custom instrument with a higher precision.\n"
          ]
        },
        {
          "output_type": "stream",
          "name": "stdout",
          "text": [
            "====      AGENT ID: c730a044-bc18-44c9-bb12-b2cfaa715ebc      ====\n",
            "[2021-12-12 03:15:40 AM] Episode: 1/2 Step: 201/2000\n",
            "[2021-12-12 03:16:11 AM] Episode: 1/2 Step: 401/2000\n",
            "[2021-12-12 03:16:43 AM] Episode: 1/2 Step: 601/2000\n",
            "[2021-12-12 03:17:15 AM] Episode: 1/2 Step: 801/2000\n",
            "[2021-12-12 03:17:47 AM] Episode: 1/2 Step: 1001/2000\n",
            "[2021-12-12 03:18:20 AM] Episode: 1/2 Step: 1201/2000\n",
            "[2021-12-12 03:18:52 AM] Episode: 1/2 Step: 1401/2000\n",
            "[2021-12-12 03:19:24 AM] Episode: 1/2 Step: 1601/2000\n",
            "[2021-12-12 03:19:56 AM] Episode: 1/2 Step: 1801/2000\n",
            "[2021-12-12 03:20:28 AM] Episode: 1/2 Step: 2001/2000\n",
            "[2021-12-12 03:21:00 AM] Episode: 2/2 Step: 201/2000\n",
            "[2021-12-12 03:21:32 AM] Episode: 2/2 Step: 401/2000\n",
            "[2021-12-12 03:22:04 AM] Episode: 2/2 Step: 601/2000\n",
            "[2021-12-12 03:22:36 AM] Episode: 2/2 Step: 801/2000\n",
            "[2021-12-12 03:23:08 AM] Episode: 2/2 Step: 1001/2000\n",
            "[2021-12-12 03:23:41 AM] Episode: 2/2 Step: 1201/2000\n",
            "[2021-12-12 03:24:13 AM] Episode: 2/2 Step: 1401/2000\n",
            "[2021-12-12 03:24:44 AM] Episode: 2/2 Step: 1601/2000\n",
            "[2021-12-12 03:25:17 AM] Episode: 2/2 Step: 1801/2000\n",
            "[2021-12-12 03:25:49 AM] Episode: 2/2 Step: 2001/2000\n"
          ]
        },
        {
          "output_type": "execute_result",
          "data": {
            "text/plain": [
              "0.0005538603331005586"
            ]
          },
          "metadata": {},
          "execution_count": 22
        }
      ]
    },
    {
      "cell_type": "markdown",
      "source": [
        "## Performance"
      ],
      "metadata": {
        "id": "OTkaAHrKmsVc"
      }
    },
    {
      "cell_type": "code",
      "source": [
        "performance = pd.DataFrame.from_dict(portfolio.performance, orient='index')"
      ],
      "metadata": {
        "id": "AAFJd1dtmqRa"
      },
      "execution_count": 23,
      "outputs": []
    },
    {
      "cell_type": "code",
      "source": [
        "performance.plot()"
      ],
      "metadata": {
        "id": "bMGpy9Eimvuy",
        "outputId": "f170377f-ccfc-4d0f-a3e1-96d44dbbbe25",
        "colab": {
          "base_uri": "https://localhost:8080/",
          "height": 293
        }
      },
      "execution_count": 24,
      "outputs": [
        {
          "output_type": "execute_result",
          "data": {
            "text/plain": [
              "<matplotlib.axes._subplots.AxesSubplot at 0x7fe6861b0c10>"
            ]
          },
          "metadata": {},
          "execution_count": 24
        },
        {
          "output_type": "display_data",
          "data": {
            "image/png": "[encoded data removed]",
            "text/plain": [
              "<Figure size 432x288 with 1 Axes>"
            ]
          },
          "metadata": {}
        }
      ]
    },
    {
      "cell_type": "code",
      "source": [
        "performance.net_worth.plot()"
      ],
      "metadata": {
        "id": "QM1eLdM0mxJi",
        "outputId": "99cf7a36-8d8e-405e-ba51-73be381545d6",
        "colab": {
          "base_uri": "https://localhost:8080/",
          "height": 293
        }
      },
      "execution_count": 25,
      "outputs": [
        {
          "output_type": "execute_result",
          "data": {
            "text/plain": [
              "<matplotlib.axes._subplots.AxesSubplot at 0x7fe686037950>"
            ]
          },
          "metadata": {},
          "execution_count": 25
        },
        {
          "output_type": "display_data",
          "data": {
            "image/png": "[encoded data removed]",
            "text/plain": [
              "<Figure size 432x288 with 1 Axes>"
            ]
          },
          "metadata": {}
        }
      ]
    },
    {
      "cell_type": "code",
      "source": [
        ""
      ],
      "metadata": {
        "id": "SreJh-6LrXHD"
      },
      "execution_count": null,
      "outputs": []
    }
  ]
}