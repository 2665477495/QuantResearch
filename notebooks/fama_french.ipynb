{
 "cells": [
  {
   "cell_type": "markdown",
   "metadata": {
    "colab_type": "text",
    "id": "view-in-github"
   },
   "source": [
    "<a href=\"https://colab.research.google.com/github/letianzj/QuantResearch/blob/master/notebooks/fama_french.ipynb\" target=\"_parent\"><img src=\"https://colab.research.google.com/assets/colab-badge.svg\" alt=\"Open In Colab\"/></a>"
   ]
  },
  {
   "cell_type": "markdown",
   "metadata": {},
   "source": [
    "### Introduction\n",
    "\n",
    "Factor models such as APT claim that an asset's expected return comes from risk-free returns and exposures to factor risk premiums. In equilibrium, alpha becomes risk-free rate and idiosyncratic risk is not compensated because it can be diversified away. \n",
    "\n",
    "CAPM, as a special case, has only one factor, the market risk premium. The expected return for any asset, efficient or non efficient, should lie on the SML line.  This is in contrast to CML line, that defines efficient portfolios on the tangent line. The efficient portfolio is perfectly correlated with market portfolio $\\rho=1$ so that\n",
    "\n",
    "$$\n",
    "\\beta = \\frac{cov(r, r_M)}{var(r_M)}=\\rho \\times \\frac{\\sigma_r}{\\sigma_{r_M}}=\\frac{\\sigma_r}{\\sigma_{r_M}}\n",
    "$$\n",
    "\n",
    "and hence performance assessment using Sharpe ratio.\n",
    "\n",
    "Factor model theory is hard to verify. Each stock on each time is subject to sample bias, and stocks' error terms are correlated (if AAPL outperforms, FB tends to outperform). One approach taken by [Fama-MacBeth](https://en.wikipedia.org/wiki/Fama%E2%80%93MacBeth_regression), is to use two-step regressions (time-series and then cross-sectional) on panel data to alleviate cross-sectional correlations.\n",
    "\n",
    "In [Fama-French three-factor model](https://en.wikipedia.org/wiki/Fama%E2%80%93French_three-factor_model), the authors verify their assumptions on $25$ portfolios. Specifically, \n",
    "1. To construct factors, first divide stocks into Big (B) and Small (S) according to market cap; and divide into Low (L), Middle (M), High (H) according to B/P ratio. This leads to six groups or portfolios: B/L, B/M, B/H, S/L, S/M, S/H.\n",
    "2. Calculate historical value-weighted returns of these six portfolios.\n",
    "3. Define factor returns as long-short:\n",
    "$$\n",
    "\\begin{aligned}\n",
    "SMB&=\\frac{S/L+S/M+S/H}{3}-\\frac{B/L+B/M+B/H}{3} \\\\\\\\\n",
    "HML&=\\frac{S/H+B/H}{2}-\\frac{S/L+B/L}{2}\n",
    "\\end{aligned}\n",
    "$$\n",
    "\n",
    "The $25$ portfolios to be explained are combinations of $5$ market cap groups and $5$ B/P groups.\n",
    "\n",
    "The factors are kindly published [here](https://mba.tuck.dartmouth.edu/pages/faculty/ken.french/data_library.html). Below we examine the betas of SPDR sector ETFs."
   ]
  },
  {
   "cell_type": "code",
   "execution_count": 1,
   "metadata": {},
   "outputs": [
    {
     "name": "stderr",
     "output_type": "stream",
     "text": [
      "d:\\Anaconda3\\lib\\site-packages\\statsmodels\\tools\\_testing.py:19: FutureWarning: pandas.util.testing is deprecated. Use the functions in the public API at pandas.testing instead.\n",
      "  import pandas.util.testing as tm\n",
      "d:\\Anaconda3\\lib\\site-packages\\statsmodels\\compat\\pandas.py:23: FutureWarning: The Panel class is removed from pandas. Accessing it from the top-level namespace will also be removed in the next version\n",
      "  data_klasses = (pandas.Series, pandas.DataFrame, pandas.Panel)\n"
     ]
    }
   ],
   "source": [
    "%matplotlib inline\n",
    "import numpy as np\n",
    "import pandas as pd\n",
    "from datetime import datetime, timedelta\n",
    "import statsmodels.api as sm\n",
    "import matplotlib.pyplot as plt\n",
    "import pandas_datareader as pdr\n",
    "import yfinance as yf"
   ]
  },
  {
   "cell_type": "code",
   "execution_count": 2,
   "metadata": {
    "colab": {
     "base_uri": "https://localhost:8080/",
     "height": 228
    },
    "colab_type": "code",
    "id": "OB6ZqxqerH3-",
    "outputId": "6f80231b-3d92-45de-9704-fadccb64016d"
   },
   "outputs": [
    {
     "data": {
      "text/html": [
       "<div>\n",
       "<style scoped>\n",
       "    .dataframe tbody tr th:only-of-type {\n",
       "        vertical-align: middle;\n",
       "    }\n",
       "\n",
       "    .dataframe tbody tr th {\n",
       "        vertical-align: top;\n",
       "    }\n",
       "\n",
       "    .dataframe thead th {\n",
       "        text-align: right;\n",
       "    }\n",
       "</style>\n",
       "<table border=\"1\" class=\"dataframe\">\n",
       "  <thead>\n",
       "    <tr style=\"text-align: right;\">\n",
       "      <th></th>\n",
       "      <th>Mkt-RF</th>\n",
       "      <th>SMB</th>\n",
       "      <th>HML</th>\n",
       "      <th>RF</th>\n",
       "    </tr>\n",
       "    <tr>\n",
       "      <th>Date</th>\n",
       "      <th></th>\n",
       "      <th></th>\n",
       "      <th></th>\n",
       "      <th></th>\n",
       "    </tr>\n",
       "  </thead>\n",
       "  <tbody>\n",
       "    <tr>\n",
       "      <th>2015-07</th>\n",
       "      <td>1.54</td>\n",
       "      <td>-4.15</td>\n",
       "      <td>-4.12</td>\n",
       "      <td>0.0</td>\n",
       "    </tr>\n",
       "    <tr>\n",
       "      <th>2015-08</th>\n",
       "      <td>-6.04</td>\n",
       "      <td>0.49</td>\n",
       "      <td>2.66</td>\n",
       "      <td>0.0</td>\n",
       "    </tr>\n",
       "    <tr>\n",
       "      <th>2015-09</th>\n",
       "      <td>-3.08</td>\n",
       "      <td>-2.64</td>\n",
       "      <td>0.53</td>\n",
       "      <td>0.0</td>\n",
       "    </tr>\n",
       "    <tr>\n",
       "      <th>2015-10</th>\n",
       "      <td>7.75</td>\n",
       "      <td>-1.97</td>\n",
       "      <td>-0.07</td>\n",
       "      <td>0.0</td>\n",
       "    </tr>\n",
       "    <tr>\n",
       "      <th>2015-11</th>\n",
       "      <td>0.56</td>\n",
       "      <td>3.64</td>\n",
       "      <td>-0.51</td>\n",
       "      <td>0.0</td>\n",
       "    </tr>\n",
       "  </tbody>\n",
       "</table>\n",
       "</div>"
      ],
      "text/plain": [
       "         Mkt-RF   SMB   HML   RF\n",
       "Date                            \n",
       "2015-07    1.54 -4.15 -4.12  0.0\n",
       "2015-08   -6.04  0.49  2.66  0.0\n",
       "2015-09   -3.08 -2.64  0.53  0.0\n",
       "2015-10    7.75 -1.97 -0.07  0.0\n",
       "2015-11    0.56  3.64 -0.51  0.0"
      ]
     },
     "execution_count": 2,
     "metadata": {},
     "output_type": "execute_result"
    }
   ],
   "source": [
    "# pdr.famafrench.get_available_datasets()\n",
    "df_ff = pdr.data.DataReader('F-F_Research_Data_Factors', 'famafrench')[0]\n",
    "df_ff.head()"
   ]
  },
  {
   "cell_type": "code",
   "execution_count": null,
   "metadata": {
    "colab": {
     "base_uri": "https://localhost:8080/",
     "height": 417
    },
    "colab_type": "code",
    "id": "f-a_lphzrH4C",
    "outputId": "f5c57e3f-b912-45dc-fc97-04338eeb1ae3"
   },
   "outputs": [
    {
     "name": "stdout",
     "output_type": "stream",
     "text": [
      "XLB\n",
      "[*********************100%***********************]  1 of 1 completed\n",
      "XLC\n",
      "[*********************100%***********************]  1 of 1 completed\n",
      "XLF\n",
      "[*********************100%***********************]  1 of 1 completed\n",
      "XLI\n",
      "[*********************100%***********************]  1 of 1 completed\n",
      "XLK\n",
      "[*********************100%***********************]  1 of 1 completed\n",
      "XLP\n",
      "[*********************100%***********************]  1 of 1 completed\n",
      "XLRE\n",
      "[*********************100%***********************]  1 of 1 completed\n",
      "XLU\n",
      "[*********************100%***********************]  1 of 1 completed\n",
      "XLV\n",
      "[*********************100%***********************]  1 of 1 completed\n",
      "XLY\n",
      "[*********************100%***********************]  1 of 1 completed\n",
      "XLE\n",
      "[*********************100%***********************]  1 of 1 completed\n"
     ]
    }
   ],
   "source": [
    "start_date = datetime(2015, 1, 1)\n",
    "end_date = datetime.today()\n",
    "sectors = ['XLB', 'XLC', 'XLF', 'XLI', 'XLK', 'XLP', 'XLRE', 'XLU', 'XLV', 'XLY', 'XLE']\n",
    "\n",
    "df_sectors = pd.DataFrame()\n",
    "for sym in sectors:\n",
    "    print(sym)\n",
    "    # df = downloadpdr.DataReader(name=sym, data_source='yahoo', start=start_date, end=end_date)\n",
    "    df = yf.download(sym, start=start_date, end=end_date)\n",
    "    df = df[['Adj Close']]\n",
    "    df.columns = [sym]\n",
    "    df_sectors = pd.concat([df_sectors, df], axis=1, join='outer')"
   ]
  },
  {
   "cell_type": "code",
   "execution_count": null,
   "metadata": {
    "colab": {
     "base_uri": "https://localhost:8080/",
     "height": 228
    },
    "colab_type": "code",
    "id": "Y6SfFKM4rH4F",
    "outputId": "9e596a05-eceb-4856-e5b2-6d6f6ac8d51e"
   },
   "outputs": [
    {
     "data": {
      "text/html": [
       "<div>\n",
       "<style scoped>\n",
       "    .dataframe tbody tr th:only-of-type {\n",
       "        vertical-align: middle;\n",
       "    }\n",
       "\n",
       "    .dataframe tbody tr th {\n",
       "        vertical-align: top;\n",
       "    }\n",
       "\n",
       "    .dataframe thead th {\n",
       "        text-align: right;\n",
       "    }\n",
       "</style>\n",
       "<table border=\"1\" class=\"dataframe\">\n",
       "  <thead>\n",
       "    <tr style=\"text-align: right;\">\n",
       "      <th></th>\n",
       "      <th>XLB</th>\n",
       "      <th>XLC</th>\n",
       "      <th>XLF</th>\n",
       "      <th>XLI</th>\n",
       "      <th>XLK</th>\n",
       "      <th>XLP</th>\n",
       "      <th>XLRE</th>\n",
       "      <th>XLU</th>\n",
       "      <th>XLV</th>\n",
       "      <th>XLY</th>\n",
       "      <th>XLE</th>\n",
       "    </tr>\n",
       "    <tr>\n",
       "      <th>Date</th>\n",
       "      <th></th>\n",
       "      <th></th>\n",
       "      <th></th>\n",
       "      <th></th>\n",
       "      <th></th>\n",
       "      <th></th>\n",
       "      <th></th>\n",
       "      <th></th>\n",
       "      <th></th>\n",
       "      <th></th>\n",
       "      <th></th>\n",
       "    </tr>\n",
       "  </thead>\n",
       "  <tbody>\n",
       "    <tr>\n",
       "      <th>2015-01</th>\n",
       "      <td>NaN</td>\n",
       "      <td>NaN</td>\n",
       "      <td>NaN</td>\n",
       "      <td>NaN</td>\n",
       "      <td>NaN</td>\n",
       "      <td>NaN</td>\n",
       "      <td>NaN</td>\n",
       "      <td>NaN</td>\n",
       "      <td>NaN</td>\n",
       "      <td>NaN</td>\n",
       "      <td>NaN</td>\n",
       "    </tr>\n",
       "    <tr>\n",
       "      <th>2015-02</th>\n",
       "      <td>0.079681</td>\n",
       "      <td>NaN</td>\n",
       "      <td>0.058236</td>\n",
       "      <td>0.053509</td>\n",
       "      <td>0.079950</td>\n",
       "      <td>0.041441</td>\n",
       "      <td>NaN</td>\n",
       "      <td>-0.063948</td>\n",
       "      <td>0.042876</td>\n",
       "      <td>0.085441</td>\n",
       "      <td>0.045930</td>\n",
       "    </tr>\n",
       "    <tr>\n",
       "      <th>2015-03</th>\n",
       "      <td>-0.049048</td>\n",
       "      <td>NaN</td>\n",
       "      <td>-0.006160</td>\n",
       "      <td>-0.025461</td>\n",
       "      <td>-0.034356</td>\n",
       "      <td>-0.019427</td>\n",
       "      <td>NaN</td>\n",
       "      <td>-0.009953</td>\n",
       "      <td>0.006406</td>\n",
       "      <td>-0.004830</td>\n",
       "      <td>-0.011552</td>\n",
       "    </tr>\n",
       "    <tr>\n",
       "      <th>2015-04</th>\n",
       "      <td>0.033620</td>\n",
       "      <td>NaN</td>\n",
       "      <td>0.000830</td>\n",
       "      <td>-0.002510</td>\n",
       "      <td>0.027510</td>\n",
       "      <td>-0.007591</td>\n",
       "      <td>NaN</td>\n",
       "      <td>-0.004726</td>\n",
       "      <td>-0.010897</td>\n",
       "      <td>-0.000531</td>\n",
       "      <td>0.065739</td>\n",
       "    </tr>\n",
       "    <tr>\n",
       "      <th>2015-05</th>\n",
       "      <td>0.003768</td>\n",
       "      <td>NaN</td>\n",
       "      <td>0.019478</td>\n",
       "      <td>0.003236</td>\n",
       "      <td>0.018553</td>\n",
       "      <td>0.008683</td>\n",
       "      <td>NaN</td>\n",
       "      <td>0.006332</td>\n",
       "      <td>0.045043</td>\n",
       "      <td>0.013146</td>\n",
       "      <td>-0.051887</td>\n",
       "    </tr>\n",
       "  </tbody>\n",
       "</table>\n",
       "</div>"
      ],
      "text/plain": [
       "              XLB  XLC       XLF  ...       XLV       XLY       XLE\n",
       "Date                              ...                              \n",
       "2015-01       NaN  NaN       NaN  ...       NaN       NaN       NaN\n",
       "2015-02  0.079681  NaN  0.058236  ...  0.042876  0.085441  0.045930\n",
       "2015-03 -0.049048  NaN -0.006160  ...  0.006406 -0.004830 -0.011552\n",
       "2015-04  0.033620  NaN  0.000830  ... -0.010897 -0.000531  0.065739\n",
       "2015-05  0.003768  NaN  0.019478  ...  0.045043  0.013146 -0.051887\n",
       "\n",
       "[5 rows x 11 columns]"
      ]
     },
     "execution_count": 9,
     "metadata": {
      "tags": []
     },
     "output_type": "execute_result"
    }
   ],
   "source": [
    "df_sec_ret = df_sectors.resample('M').agg(lambda x: x[-1])\n",
    "df_sec_ret.index = df_sec_ret.index.to_period()\n",
    "df_sec_ret = df_sec_ret.pct_change()\n",
    "df_sec_ret.head()"
   ]
  },
  {
   "cell_type": "code",
   "execution_count": null,
   "metadata": {
    "colab": {
     "base_uri": "https://localhost:8080/",
     "height": 35
    },
    "colab_type": "code",
    "id": "9NScu4jCrH4H",
    "outputId": "3368e62f-ef20-4455-f981-ca9cd8bd45c4"
   },
   "outputs": [
    {
     "name": "stdout",
     "output_type": "stream",
     "text": [
      "11 stocks, 3 factors, 23 time steps\n"
     ]
    }
   ],
   "source": [
    "df_sec_ret = df_sec_ret.apply(lambda x: x-df_ff['RF']/100.0)\n",
    "df_sec_ret.dropna(axis=0, inplace=True)\n",
    "df_Y = df_sec_ret\n",
    "\n",
    "df_X = df_ff[['Mkt-RF', 'SMB', 'HML']]/100.0\n",
    "df_X = df_X.loc[df_Y.index]\n",
    "print(f'{df_Y.shape[1]} stocks, {df_X.shape[1]} factors, {df_Y.shape[0]} time steps')\n",
    "\n",
    "df_X = sm.add_constant(df_X, prepend=False)"
   ]
  },
  {
   "cell_type": "code",
   "execution_count": null,
   "metadata": {
    "colab": {},
    "colab_type": "code",
    "id": "xz_OxQe2rH4K"
   },
   "outputs": [],
   "source": [
    "# fama_macbeth step one: time-series regression ==> factor exposures\n",
    "beta = pd.DataFrame()             # factor exposures\n",
    "for sym in df_Y.columns:\n",
    "    model = sm.OLS(df_Y[sym], df_X)\n",
    "    results = model.fit()\n",
    "    beta = pd.concat([beta, pd.DataFrame([results.params[:3]], index=[sym])])"
   ]
  },
  {
   "cell_type": "code",
   "execution_count": null,
   "metadata": {
    "colab": {
     "base_uri": "https://localhost:8080/",
     "height": 378
    },
    "colab_type": "code",
    "id": "ezyTC_jSrH4M",
    "outputId": "8904215d-c84a-47d1-aa74-6a1159858db6"
   },
   "outputs": [
    {
     "data": {
      "text/html": [
       "<div>\n",
       "<style scoped>\n",
       "    .dataframe tbody tr th:only-of-type {\n",
       "        vertical-align: middle;\n",
       "    }\n",
       "\n",
       "    .dataframe tbody tr th {\n",
       "        vertical-align: top;\n",
       "    }\n",
       "\n",
       "    .dataframe thead th {\n",
       "        text-align: right;\n",
       "    }\n",
       "</style>\n",
       "<table border=\"1\" class=\"dataframe\">\n",
       "  <thead>\n",
       "    <tr style=\"text-align: right;\">\n",
       "      <th></th>\n",
       "      <th>Mkt-RF</th>\n",
       "      <th>SMB</th>\n",
       "      <th>HML</th>\n",
       "    </tr>\n",
       "  </thead>\n",
       "  <tbody>\n",
       "    <tr>\n",
       "      <th>XLB</th>\n",
       "      <td>0.963386</td>\n",
       "      <td>0.179835</td>\n",
       "      <td>0.134132</td>\n",
       "    </tr>\n",
       "    <tr>\n",
       "      <th>XLC</th>\n",
       "      <td>0.890566</td>\n",
       "      <td>0.149350</td>\n",
       "      <td>-0.031066</td>\n",
       "    </tr>\n",
       "    <tr>\n",
       "      <th>XLF</th>\n",
       "      <td>1.015531</td>\n",
       "      <td>-0.140469</td>\n",
       "      <td>0.584023</td>\n",
       "    </tr>\n",
       "    <tr>\n",
       "      <th>XLI</th>\n",
       "      <td>1.075992</td>\n",
       "      <td>0.038404</td>\n",
       "      <td>0.175437</td>\n",
       "    </tr>\n",
       "    <tr>\n",
       "      <th>XLK</th>\n",
       "      <td>1.096879</td>\n",
       "      <td>-0.231479</td>\n",
       "      <td>-0.314548</td>\n",
       "    </tr>\n",
       "    <tr>\n",
       "      <th>XLP</th>\n",
       "      <td>0.759990</td>\n",
       "      <td>-0.916659</td>\n",
       "      <td>0.055349</td>\n",
       "    </tr>\n",
       "    <tr>\n",
       "      <th>XLRE</th>\n",
       "      <td>0.643250</td>\n",
       "      <td>-0.040101</td>\n",
       "      <td>0.176523</td>\n",
       "    </tr>\n",
       "    <tr>\n",
       "      <th>XLU</th>\n",
       "      <td>0.589555</td>\n",
       "      <td>-0.709289</td>\n",
       "      <td>0.168439</td>\n",
       "    </tr>\n",
       "    <tr>\n",
       "      <th>XLV</th>\n",
       "      <td>0.763060</td>\n",
       "      <td>-0.010717</td>\n",
       "      <td>-0.242951</td>\n",
       "    </tr>\n",
       "    <tr>\n",
       "      <th>XLY</th>\n",
       "      <td>1.150076</td>\n",
       "      <td>-0.029591</td>\n",
       "      <td>-0.090732</td>\n",
       "    </tr>\n",
       "    <tr>\n",
       "      <th>XLE</th>\n",
       "      <td>1.526060</td>\n",
       "      <td>0.366362</td>\n",
       "      <td>0.708344</td>\n",
       "    </tr>\n",
       "  </tbody>\n",
       "</table>\n",
       "</div>"
      ],
      "text/plain": [
       "        Mkt-RF       SMB       HML\n",
       "XLB   0.963386  0.179835  0.134132\n",
       "XLC   0.890566  0.149350 -0.031066\n",
       "XLF   1.015531 -0.140469  0.584023\n",
       "XLI   1.075992  0.038404  0.175437\n",
       "XLK   1.096879 -0.231479 -0.314548\n",
       "XLP   0.759990 -0.916659  0.055349\n",
       "XLRE  0.643250 -0.040101  0.176523\n",
       "XLU   0.589555 -0.709289  0.168439\n",
       "XLV   0.763060 -0.010717 -0.242951\n",
       "XLY   1.150076 -0.029591 -0.090732\n",
       "XLE   1.526060  0.366362  0.708344"
      ]
     },
     "execution_count": 14,
     "metadata": {
      "tags": []
     },
     "output_type": "execute_result"
    }
   ],
   "source": [
    "beta"
   ]
  },
  {
   "cell_type": "markdown",
   "metadata": {},
   "source": [
    "It makes sense that utilities has lowest market premium beta; due to oil price historical collapse, it is not surprising to see a high beta there. XLE also has a big positive exposure to HML factor, reflects its capital intensive high book value."
   ]
  }
 ],
 "metadata": {
  "colab": {
   "include_colab_link": true,
   "name": "Untitled2.ipynb",
   "provenance": []
  },
  "kernelspec": {
   "display_name": "Python 3",
   "language": "python",
   "name": "python3"
  },
  "language_info": {
   "codemirror_mode": {
    "name": "ipython",
    "version": 3
   },
   "file_extension": ".py",
   "mimetype": "text/x-python",
   "name": "python",
   "nbconvert_exporter": "python",
   "pygments_lexer": "ipython3",
   "version": "3.7.3"
  }
 },
 "nbformat": 4,
 "nbformat_minor": 1
}
