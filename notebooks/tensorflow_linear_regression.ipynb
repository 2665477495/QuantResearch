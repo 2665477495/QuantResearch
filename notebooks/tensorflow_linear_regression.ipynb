{
  "nbformat": 4,
  "nbformat_minor": 0,
  "metadata": {
    "colab": {
      "name": "tensorflow_linear_regression.ipynb",
      "provenance": [],
      "collapsed_sections": [],
      "authorship_tag": "ABX9TyOwM4o3qDkvhUyCeuAVG+q1",
      "include_colab_link": true
    },
    "kernelspec": {
      "name": "python3",
      "display_name": "Python 3"
    }
  },
  "cells": [
    {
      "cell_type": "markdown",
      "metadata": {
        "id": "view-in-github",
        "colab_type": "text"
      },
      "source": [
        "<a href=\"https://colab.research.google.com/github/letianzj/QuantResearch/blob/master/notebooks/tensorflow_linear_regression.ipynb\" target=\"_parent\"><img src=\"https://colab.research.google.com/assets/colab-badge.svg\" alt=\"Open In Colab\"/></a>"
      ]
    },
    {
      "cell_type": "code",
      "metadata": {
        "id": "AH_tdJZQQqRC",
        "colab_type": "code",
        "colab": {}
      },
      "source": [
        "import numpy as np \n",
        "import pandas as pd\n",
        "from matplotlib import pyplot as plt \n",
        "import tensorflow as tf"
      ],
      "execution_count": 1,
      "outputs": []
    },
    {
      "cell_type": "markdown",
      "metadata": {
        "id": "BMkHwIeqThuR",
        "colab_type": "text"
      },
      "source": [
        "### 0. Data Preparation"
      ]
    },
    {
      "cell_type": "code",
      "metadata": {
        "id": "E77lkB1URQ_0",
        "colab_type": "code",
        "colab": {
          "base_uri": "https://localhost:8080/",
          "height": 357
        },
        "outputId": "00d4798f-94fa-403d-fb45-660bc0f96e34"
      },
      "source": [
        "tf.random.set_seed(0)\n",
        "np.random.seed(0)\n",
        "\n",
        "\n",
        "sample_size = 500\n",
        "batch_size = 50\n",
        "sigma_e = 3.0             # true value of parameter error sigma\n",
        "xs = 100 * np.random.rand(sample_size)\n",
        "es = np.random.normal(0, sigma_e, sample_size)\n",
        "ys = 1.0 + 2.0 * xs + es\n",
        "\n",
        "ds = tf.data.Dataset.from_tensor_slices((xs, ys)).shuffle(buffer_size=sample_size).batch(batch_size)\n",
        "for x, y in ds.take(1):         # take first batch\n",
        "    print(x, y)"
      ],
      "execution_count": 73,
      "outputs": [
        {
          "output_type": "stream",
          "text": [
            "tf.Tensor(\n",
            "[94.53015335 42.40889884 42.40322519 84.90383084 43.44166256  2.01075462\n",
            " 55.20782767 40.71832972 49.04588086 10.20448107 70.44144019 21.68969844\n",
            " 58.67843465 71.63272041 13.14827993 92.92961976 61.69339969 94.93188224\n",
            " 60.63932141 14.94483047 94.02096894 97.6459465   8.110139    3.91877923\n",
            " 95.9166603  79.17250381 53.61774947 96.89717047 41.466194   55.21924699\n",
            " 29.61401975 70.65747063 43.86015135 45.18216827 82.21177332 90.65554992\n",
            " 86.38556059 30.15986345 84.80082293 13.12893285 14.33532874 28.17301058\n",
            " 12.89262977 31.85689525  6.41474963 17.96036776 96.15701545 61.3965956\n",
            " 36.85846061 65.31083255], shape=(50,), dtype=float64) tf.Tensor(\n",
            "[189.93610426  85.85229439  84.8538211  170.60625922  86.47141214\n",
            "   3.74855637 115.39504027  81.28272318  97.11208653  21.64374268\n",
            " 139.69574641  43.72920247 114.67828072 145.75344366  27.19127433\n",
            " 189.84242269 124.75796512 187.07455944 126.40353502  30.10472459\n",
            " 192.50448996 194.88530044  24.36251405   5.90106887 192.90715698\n",
            " 161.91877939 104.70261205 194.94906576  85.98589132 114.54172364\n",
            "  58.7195894  140.3117804   88.73618063  88.31412059 169.69249713\n",
            " 188.66147291 174.32113878  61.95421793 166.9759249   30.5019938\n",
            "  28.74331415  58.29750303  27.61587525  68.67120112   6.96363915\n",
            "  27.78230635 190.47718352 118.30396996  71.89997651 131.36387279], shape=(50,), dtype=float64)\n"
          ],
          "name": "stdout"
        }
      ]
    },
    {
      "cell_type": "markdown",
      "metadata": {
        "id": "_am7GSBUTG-X",
        "colab_type": "text"
      },
      "source": [
        "### 1. Low-Level Implementattion"
      ]
    },
    {
      "cell_type": "code",
      "metadata": {
        "id": "8WiG4duHSjmp",
        "colab_type": "code",
        "colab": {
          "base_uri": "https://localhost:8080/",
          "height": 102
        },
        "outputId": "8c0a3dc2-2c5f-4c32-f9bb-35e999e281a0"
      },
      "source": [
        "w = tf.Variable(tf.random.normal(shape=[1], dtype=tf.float64))      # scaler, shape=[] or shape=[1,]\n",
        "b = tf.Variable(0,  dtype = tf.float64)          # scaler\n",
        "\n",
        "epochs = 100\n",
        "learning_rate = 0.0001\n",
        "ws = []\n",
        "bs = []\n",
        "for epoch in tf.range(1,epochs+1):      # for each epoch\n",
        "  for x, y in ds:           # for each batch\n",
        "    with tf.GradientTape() as tape:\n",
        "      y_bar = x*w + b                    # broadcasting\n",
        "      loss = tf.reduce_mean( (y-y_bar)**2 )\n",
        "    # Back propagation to calculate gradient\n",
        "    dloss_dw, dloss_db = tape.gradient(loss, [w, b])\n",
        "    # apply_gradients\n",
        "    w.assign(w - learning_rate * dloss_dw)         # assign, keeps tf.Variable; operator ==> tf.Tensor\n",
        "    b.assign(b - learning_rate * dloss_db)\n",
        "    ws.append(w.numpy())\n",
        "    bs.append(b.numpy())\n",
        "  \n",
        "  if epoch%20==0:\n",
        "    tf.print('w=', w, ' ,b=', b, ' ,mse=', loss)"
      ],
      "execution_count": 138,
      "outputs": [
        {
          "output_type": "stream",
          "text": [
            "w= [2.0112712928890448]  ,b= 0.037014469356275913  ,mse= 5.4003719993922941\n",
            "w= [2.0017285954880388]  ,b= 0.043182040136795843  ,mse= 9.984350775427826\n",
            "w= [2.0173304169979653]  ,b= 0.049642661606266715  ,mse= 10.609577760393805\n",
            "w= [2.0192195726647]  ,b= 0.055903282183172094  ,mse= 10.622495495541957\n",
            "w= [2.0075450173503664]  ,b= 0.061821160045551958  ,mse= 9.0607410309822285\n"
          ],
          "name": "stdout"
        }
      ]
    },
    {
      "cell_type": "code",
      "metadata": {
        "id": "Z7cukP17ZVRu",
        "colab_type": "code",
        "colab": {
          "base_uri": "https://localhost:8080/",
          "height": 382
        },
        "outputId": "c9541271-7c97-4f9f-b68a-19c50d24543d"
      },
      "source": [
        "fig, axes = plt.subplots(nrows=1, ncols=2, figsize=(12, 5))\n",
        "fig.tight_layout()\n",
        "axes[0].plot(ws)\n",
        "axes[1].plot(bs)"
      ],
      "execution_count": 143,
      "outputs": [
        {
          "output_type": "execute_result",
          "data": {
            "text/plain": [
              "[<matplotlib.lines.Line2D at 0x7f579325fe48>]"
            ]
          },
          "metadata": {
            "tags": []
          },
          "execution_count": 143
        },
        {
          "output_type": "display_data",
          "data": {
            "image/png": "[encoded data removed]",
            "text/plain": [
              "<Figure size 864x360 with 2 Axes>"
            ]
          },
          "metadata": {
            "tags": [],
            "needs_background": "light"
          }
        }
      ]
    },
    {
      "cell_type": "markdown",
      "metadata": {
        "id": "bcSvUnxhfqKm",
        "colab_type": "text"
      },
      "source": [
        "### 2. High-Level Implementation"
      ]
    },
    {
      "cell_type": "code",
      "metadata": {
        "id": "v62AgNvnfwLV",
        "colab_type": "code",
        "colab": {
          "base_uri": "https://localhost:8080/",
          "height": 187
        },
        "outputId": "786283b1-287f-468d-d02c-ddd38f99f9fc"
      },
      "source": [
        "tf.keras.backend.clear_session()\n",
        "\n",
        "model = tf.keras.models.Sequential()\n",
        "model.add(tf.keras.layers.Dense(1,input_shape =(1,)))        # total param # = 2\n",
        "model.summary()"
      ],
      "execution_count": 170,
      "outputs": [
        {
          "output_type": "stream",
          "text": [
            "Model: \"sequential\"\n",
            "_________________________________________________________________\n",
            "Layer (type)                 Output Shape              Param #   \n",
            "=================================================================\n",
            "dense (Dense)                (None, 1)                 2         \n",
            "=================================================================\n",
            "Total params: 2\n",
            "Trainable params: 2\n",
            "Non-trainable params: 0\n",
            "_________________________________________________________________\n"
          ],
          "name": "stdout"
        }
      ]
    },
    {
      "cell_type": "code",
      "metadata": {
        "id": "iMMxiROvgYKW",
        "colab_type": "code",
        "colab": {}
      },
      "source": [
        "loss_fn = tf.keras.losses.mean_squared_error\n",
        "optimizer = tf.keras.optimizers.Adam(learning_rate=0.001)\n",
        "model.compile(optimizer=optimizer, loss=loss_fn, metrics=[\"mae\"])"
      ],
      "execution_count": 171,
      "outputs": []
    },
    {
      "cell_type": "markdown",
      "metadata": {
        "id": "nvUCh47ti2bb",
        "colab_type": "text"
      },
      "source": [
        "We can either mix it with low-level api"
      ]
    },
    {
      "cell_type": "code",
      "metadata": {
        "id": "ufaKd-4pire9",
        "colab_type": "code",
        "colab": {
          "base_uri": "https://localhost:8080/",
          "height": 187
        },
        "outputId": "2e6a7121-28ea-4c03-a54a-665c1582c5cd"
      },
      "source": [
        "epochs = 200\n",
        "\n",
        "for epoch in tf.range(1,epochs+1):      # for each epoch\n",
        "  loss = tf.constant(0.0)\n",
        "  for x, y in ds:           # for each batch\n",
        "    with tf.GradientTape() as tape:\n",
        "      y_bar = model(y)                # __call__\n",
        "      loss = loss_fn(tf.reshape(y, [-1]), tf.reshape(y_bar, [-1]))\n",
        "    # Back propagation to calculate gradient\n",
        "    grads = tape.gradient(loss, model.variables)\n",
        "    # apply_gradients\n",
        "    model.optimizer.apply_gradients(zip(grads, model.variables))\n",
        "  \n",
        "  if epoch%20==0:\n",
        "    tf.print('w=', w, ' ,b=', b, ' ,mse=', loss)"
      ],
      "execution_count": 178,
      "outputs": [
        {
          "output_type": "stream",
          "text": [
            "w= [2.0075450173503664]  ,b= 0.061821160045551958  ,mse= 2703.4873\n",
            "w= [2.0075450173503664]  ,b= 0.061821160045551958  ,mse= 444.380676\n",
            "w= [2.0075450173503664]  ,b= 0.061821160045551958  ,mse= 127.56617\n",
            "w= [2.0075450173503664]  ,b= 0.061821160045551958  ,mse= 19.7455502\n",
            "w= [2.0075450173503664]  ,b= 0.061821160045551958  ,mse= 3.22179842\n",
            "w= [2.0075450173503664]  ,b= 0.061821160045551958  ,mse= 0.37601757\n",
            "w= [2.0075450173503664]  ,b= 0.061821160045551958  ,mse= 0.0743840709\n",
            "w= [2.0075450173503664]  ,b= 0.061821160045551958  ,mse= 0.0342200287\n",
            "w= [2.0075450173503664]  ,b= 0.061821160045551958  ,mse= 0.0366197675\n",
            "w= [2.0075450173503664]  ,b= 0.061821160045551958  ,mse= 0.0313969925\n"
          ],
          "name": "stdout"
        }
      ]
    },
    {
      "cell_type": "markdown",
      "metadata": {
        "id": "pIo0f3WMjA9t",
        "colab_type": "text"
      },
      "source": [
        "Or just call model.fit"
      ]
    },
    {
      "cell_type": "code",
      "metadata": {
        "id": "iWVw5VxcjDJi",
        "colab_type": "code",
        "colab": {
          "base_uri": "https://localhost:8080/",
          "height": 34
        },
        "outputId": "f7ee947a-a16a-440b-8b90-e98c6886597c"
      },
      "source": [
        "model.reset_states()\n",
        "model.fit(tf.convert_to_tensor(xs), tf.convert_to_tensor(ys), batch_size = 50, epochs = 200, verbose=0) \n",
        "tf.print('w=', model.layers[0].kernel, ' b=', model.layers[0].bias)"
      ],
      "execution_count": 182,
      "outputs": [
        {
          "output_type": "stream",
          "text": [
            "w= [[1.99814212]]  b= [0.820694864]\n"
          ],
          "name": "stdout"
        }
      ]
    },
    {
      "cell_type": "code",
      "metadata": {
        "id": "APG0pQJOl5cS",
        "colab_type": "code",
        "colab": {}
      },
      "source": [
        ""
      ],
      "execution_count": null,
      "outputs": []
    }
  ]
}