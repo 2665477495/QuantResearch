{
  "nbformat": 4,
  "nbformat_minor": 0,
  "metadata": {
    "colab": {
      "name": "atari_breakout.ipynb",
      "provenance": [],
      "collapsed_sections": [
        "HwOjJMZUHsp3"
      ],
      "toc_visible": true,
      "authorship_tag": "ABX9TyOaYky6IbTPcJXi7Ya0o0Gj",
      "include_colab_link": true
    },
    "kernelspec": {
      "display_name": "Python 3",
      "name": "python3"
    },
    "language_info": {
      "name": "python"
    }
  },
  "cells": [
    {
      "cell_type": "markdown",
      "metadata": {
        "id": "view-in-github",
        "colab_type": "text"
      },
      "source": [
        "<a href=\"https://colab.research.google.com/github/letianzj/QuantResearch/blob/master/tree/master/ml/atari_breakout.ipynb\" target=\"_parent\"><img src=\"https://colab.research.google.com/assets/colab-badge.svg\" alt=\"Open In Colab\"/></a>"
      ]
    },
    {
      "cell_type": "markdown",
      "metadata": {
        "id": "HwOjJMZUHsp3"
      },
      "source": [
        "## Introduction\n",
        "\n",
        "[OpenAI Gym](https://gym.openai.com/) provides a list of test environments to help develop reinforcement learning algorithms. This [leaderboard](https://github.com/cshenton/atari-leaderboard) keeps records from both human and machine players.\n",
        "\n",
        "A gym environment is a __Markov Decision Process__ of tuple $<S, A, P, R, \\gamma>$ that includes the following.\n",
        "* **Agent** -- The robot player to be trained.\n",
        "* **Environment** -- Atari game.\n",
        "* **observation space** -- The current state of the environment that the robot observes.\n",
        "* **action space** -- The choice that the robot takes at each step.\n",
        "* **Reward** -- Game score.\n",
        "* **Policy** -- How the robot plays.\n",
        "\n",
        "This notebook illustrates how to train [Atari Breakout](https://gym.openai.com/envs/Breakout-v0/) using [TF-Agents](https://www.tensorflow.org/agents/tutorials/1_dqn_tutorial). It follows the official [TF-Agents DQN Tutorial](https://www.tensorflow.org/agents/tutorials/1_dqn_tutorial) and [Hands-on Machine Learning by Aurélien Géron 2019](https://www.oreilly.com/library/view/hands-on-machine-learning/9781492032632/)."
      ]
    },
    {
      "cell_type": "markdown",
      "metadata": {
        "id": "nANyrWwgE1yT"
      },
      "source": [
        "## Setup\n",
        "\n",
        "Install required packages and Roms."
      ]
    },
    {
      "cell_type": "code",
      "metadata": {
        "id": "Jr3P9fWZIXBN"
      },
      "source": [
        "import warnings\n",
        "warnings.filterwarnings('ignore')"
      ],
      "execution_count": 1,
      "outputs": []
    },
    {
      "cell_type": "code",
      "metadata": {
        "colab": {
          "base_uri": "https://localhost:8080/"
        },
        "id": "2kBhJbmqLz63",
        "outputId": "d035aa1a-4f19-4bf0-a0f8-cc7016bd4b9e"
      },
      "source": [
        "import sys\n",
        "print(sys.executable)\n",
        "print(sys.version)\n",
        "print(sys.version_info)"
      ],
      "execution_count": 2,
      "outputs": [
        {
          "output_type": "stream",
          "name": "stdout",
          "text": [
            "/usr/bin/python3\n",
            "3.7.12 (default, Sep 10 2021, 00:21:48) \n",
            "[GCC 7.5.0]\n",
            "sys.version_info(major=3, minor=7, micro=12, releaselevel='final', serial=0)\n"
          ]
        }
      ]
    },
    {
      "cell_type": "markdown",
      "metadata": {
        "id": "MK7XbRYPKyef"
      },
      "source": [
        "1.1 Install required packages. Uncomment to execute once."
      ]
    },
    {
      "cell_type": "code",
      "metadata": {
        "id": "A1NCR0hmKva8"
      },
      "source": [
        "# !sudo apt-get update\n",
        "# !sudo apt-get install -y xvfb ffmpeg freeglut3-dev\n",
        "# !pip install -q 'gym==0.16.0'\n",
        "# !pip install 'imageio==2.4.0'\n",
        "# !pip install pyvirtualdisplay\n",
        "# !pip install tf-agents[reverb]\n",
        "# !pip install pyglet\n",
        "# !pip install ale-py"
      ],
      "execution_count": 4,
      "outputs": []
    },
    {
      "cell_type": "markdown",
      "metadata": {
        "id": "FnnLx5h3K3Ys"
      },
      "source": [
        "1.2. Install Atari Roms to /usr/local/lib/python3.7/dist-packages/atari_py/atari_roms/. Uncomment to execute once."
      ]
    },
    {
      "cell_type": "code",
      "metadata": {
        "id": "OYt1LsN9HuQ1"
      },
      "source": [
        "# !wget http://www.atarimania.com/roms/Roms.rar\n",
        "# !pip install unrar\n",
        "# !unrar x Roms.rar\n",
        "# !mkdir rars\n",
        "# !mv HC\\ ROMS.zip  rars\n",
        "# !mv ROMS.zip  rars\n",
        "# !python -m atari_py.import_roms rars"
      ],
      "execution_count": 6,
      "outputs": []
    },
    {
      "cell_type": "markdown",
      "metadata": {
        "id": "Aus2dmkKXtDO"
      },
      "source": [
        "1.3. Import packages. Sometimes it has to run twice."
      ]
    },
    {
      "cell_type": "code",
      "metadata": {
        "id": "Ih721qQ2U-sl"
      },
      "source": [
        "import base64\n",
        "import imageio\n",
        "import IPython\n",
        "import matplotlib\n",
        "import matplotlib.pyplot as plt\n",
        "import numpy as np\n",
        "import PIL.Image\n",
        "import pyvirtualdisplay\n",
        "import reverb\n",
        "\n",
        "import gym\n",
        "import tensorflow as tf\n",
        "\n",
        "from tf_agents.agents.dqn import dqn_agent\n",
        "from tf_agents.drivers import py_driver\n",
        "from tf_agents.drivers.dynamic_step_driver import DynamicStepDriver\n",
        "from tf_agents.environments import suite_gym, suite_atari\n",
        "from tf_agents.environments import tf_py_environment\n",
        "from tf_agents.eval import metric_utils\n",
        "from tf_agents.metrics import tf_metrics\n",
        "from tf_agents.networks import sequential, q_network, network\n",
        "from tf_agents.policies import py_tf_eager_policy\n",
        "from tf_agents.policies import random_tf_policy\n",
        "from tf_agents.replay_buffers import TFUniformReplayBuffer\n",
        "from tf_agents.trajectories import trajectory\n",
        "from tf_agents.specs import tensor_spec\n",
        "from tf_agents.utils import common"
      ],
      "execution_count": 8,
      "outputs": []
    },
    {
      "cell_type": "code",
      "metadata": {
        "colab": {
          "base_uri": "https://localhost:8080/",
          "height": 35
        },
        "id": "dnKwYTFXN8kb",
        "outputId": "2301f1d2-e255-4774-ac8e-3e1b13964471"
      },
      "source": [
        "gym.__version__"
      ],
      "execution_count": 9,
      "outputs": [
        {
          "output_type": "execute_result",
          "data": {
            "application/vnd.google.colaboratory.intrinsic+json": {
              "type": "string"
            },
            "text/plain": [
              "'0.21.0'"
            ]
          },
          "metadata": {},
          "execution_count": 9
        }
      ]
    },
    {
      "cell_type": "code",
      "metadata": {
        "colab": {
          "base_uri": "https://localhost:8080/"
        },
        "id": "Os2VUQOYXfxN",
        "outputId": "1772f777-84e8-4229-9fec-d87841fb6eaf"
      },
      "source": [
        "# list available environments\n",
        "print(gym.envs.registry.all())"
      ],
      "execution_count": 10,
      "outputs": [
        {
          "output_type": "stream",
          "name": "stdout",
          "text": [
            "dict_values([EnvSpec(ALE/Tetris-v5), EnvSpec(ALE/Tetris-ram-v5), EnvSpec(ALE/Jamesbond-v5), EnvSpec(ALE/Jamesbond-ram-v5), EnvSpec(ALE/Galaxian-v5), EnvSpec(ALE/Galaxian-ram-v5), EnvSpec(ALE/KeystoneKapers-v5), EnvSpec(ALE/KeystoneKapers-ram-v5), EnvSpec(ALE/ElevatorAction-v5), EnvSpec(ALE/ElevatorAction-ram-v5), EnvSpec(ALE/PrivateEye-v5), EnvSpec(ALE/PrivateEye-ram-v5), EnvSpec(ALE/Boxing-v5), EnvSpec(ALE/Boxing-ram-v5), EnvSpec(ALE/SirLancelot-v5), EnvSpec(ALE/SirLancelot-ram-v5), EnvSpec(ALE/Gravitar-v5), EnvSpec(ALE/Gravitar-ram-v5), EnvSpec(ALE/VideoPinball-v5), EnvSpec(ALE/VideoPinball-ram-v5), EnvSpec(ALE/NameThisGame-v5), EnvSpec(ALE/NameThisGame-ram-v5), EnvSpec(ALE/Venture-v5), EnvSpec(ALE/Venture-ram-v5), EnvSpec(ALE/Alien-v5), EnvSpec(ALE/Alien-ram-v5), EnvSpec(ALE/IceHockey-v5), EnvSpec(ALE/IceHockey-ram-v5), EnvSpec(ALE/Freeway-v5), EnvSpec(ALE/Freeway-ram-v5), EnvSpec(ALE/Frostbite-v5), EnvSpec(ALE/Frostbite-ram-v5), EnvSpec(ALE/DoubleDunk-v5), EnvSpec(ALE/DoubleDunk-ram-v5), EnvSpec(ALE/Robotank-v5), EnvSpec(ALE/Robotank-ram-v5), EnvSpec(ALE/Phoenix-v5), EnvSpec(ALE/Phoenix-ram-v5), EnvSpec(ALE/TimePilot-v5), EnvSpec(ALE/TimePilot-ram-v5), EnvSpec(ALE/Asteroids-v5), EnvSpec(ALE/Asteroids-ram-v5), EnvSpec(ALE/DemonAttack-v5), EnvSpec(ALE/DemonAttack-ram-v5), EnvSpec(ALE/JourneyEscape-v5), EnvSpec(ALE/JourneyEscape-ram-v5), EnvSpec(ALE/Pacman-v5), EnvSpec(ALE/Pacman-ram-v5), EnvSpec(ALE/Asterix-v5), EnvSpec(ALE/Asterix-ram-v5), EnvSpec(ALE/Koolaid-v5), EnvSpec(ALE/Koolaid-ram-v5), EnvSpec(ALE/BattleZone-v5), EnvSpec(ALE/BattleZone-ram-v5), EnvSpec(ALE/CrazyClimber-v5), EnvSpec(ALE/CrazyClimber-ram-v5), EnvSpec(ALE/MsPacman-v5), EnvSpec(ALE/MsPacman-ram-v5), EnvSpec(ALE/Seaquest-v5), EnvSpec(ALE/Seaquest-ram-v5), EnvSpec(ALE/Gopher-v5), EnvSpec(ALE/Gopher-ram-v5), EnvSpec(ALE/Qbert-v5), EnvSpec(ALE/Qbert-ram-v5), EnvSpec(ALE/Riverraid-v5), EnvSpec(ALE/Riverraid-ram-v5), EnvSpec(ALE/Zaxxon-v5), EnvSpec(ALE/Zaxxon-ram-v5), EnvSpec(ALE/Assault-v5), EnvSpec(ALE/Assault-ram-v5), EnvSpec(ALE/SpaceInvaders-v5), EnvSpec(ALE/SpaceInvaders-ram-v5), EnvSpec(ALE/Kangaroo-v5), EnvSpec(ALE/Kangaroo-ram-v5), EnvSpec(ALE/AirRaid-v5), EnvSpec(ALE/AirRaid-ram-v5), EnvSpec(ALE/Krull-v5), EnvSpec(ALE/Krull-ram-v5), EnvSpec(ALE/Adventure-v5), EnvSpec(ALE/Adventure-ram-v5), EnvSpec(ALE/DonkeyKong-v5), EnvSpec(ALE/DonkeyKong-ram-v5), EnvSpec(ALE/LaserGates-v5), EnvSpec(ALE/LaserGates-ram-v5), EnvSpec(ALE/Breakout-v5), EnvSpec(ALE/Breakout-ram-v5), EnvSpec(ALE/BeamRider-v5), EnvSpec(ALE/BeamRider-ram-v5), EnvSpec(ALE/KungFuMaster-v5), EnvSpec(ALE/KungFuMaster-ram-v5), EnvSpec(ALE/ChopperCommand-v5), EnvSpec(ALE/ChopperCommand-ram-v5), EnvSpec(ALE/Bowling-v5), EnvSpec(ALE/Bowling-ram-v5), EnvSpec(ALE/Frogger-v5), EnvSpec(ALE/Frogger-ram-v5), EnvSpec(ALE/StarGunner-v5), EnvSpec(ALE/StarGunner-ram-v5), EnvSpec(ALE/UpNDown-v5), EnvSpec(ALE/UpNDown-ram-v5), EnvSpec(ALE/Amidar-v5), EnvSpec(ALE/Amidar-ram-v5), EnvSpec(ALE/Enduro-v5), EnvSpec(ALE/Enduro-ram-v5), EnvSpec(ALE/YarsRevenge-v5), EnvSpec(ALE/YarsRevenge-ram-v5), EnvSpec(ALE/BankHeist-v5), EnvSpec(ALE/BankHeist-ram-v5), EnvSpec(ALE/MontezumaRevenge-v5), EnvSpec(ALE/MontezumaRevenge-ram-v5), EnvSpec(ALE/Carnival-v5), EnvSpec(ALE/Carnival-ram-v5), EnvSpec(ALE/Atlantis-v5), EnvSpec(ALE/Atlantis-ram-v5), EnvSpec(ALE/Tennis-v5), EnvSpec(ALE/Tennis-ram-v5), EnvSpec(ALE/Berzerk-v5), EnvSpec(ALE/Berzerk-ram-v5), EnvSpec(ALE/Surround-v5), EnvSpec(ALE/Surround-ram-v5), EnvSpec(ALE/WizardOfWor-v5), EnvSpec(ALE/WizardOfWor-ram-v5), EnvSpec(ALE/Trondead-v5), EnvSpec(ALE/Trondead-ram-v5), EnvSpec(ALE/Hero-v5), EnvSpec(ALE/Hero-ram-v5), EnvSpec(ALE/Pooyan-v5), EnvSpec(ALE/Pooyan-ram-v5), EnvSpec(ALE/FishingDerby-v5), EnvSpec(ALE/FishingDerby-ram-v5), EnvSpec(ALE/Tutankham-v5), EnvSpec(ALE/Tutankham-ram-v5), EnvSpec(ALE/Pitfall-v5), EnvSpec(ALE/Pitfall-ram-v5), EnvSpec(ALE/LostLuggage-v5), EnvSpec(ALE/LostLuggage-ram-v5), EnvSpec(ALE/Pong-v5), EnvSpec(ALE/Pong-ram-v5), EnvSpec(ALE/Kaboom-v5), EnvSpec(ALE/Kaboom-ram-v5), EnvSpec(ALE/Skiing-v5), EnvSpec(ALE/Skiing-ram-v5), EnvSpec(ALE/Centipede-v5), EnvSpec(ALE/Centipede-ram-v5), EnvSpec(ALE/KingKong-v5), EnvSpec(ALE/KingKong-ram-v5), EnvSpec(ALE/MrDo-v5), EnvSpec(ALE/MrDo-ram-v5), EnvSpec(ALE/Defender-v5), EnvSpec(ALE/Defender-ram-v5), EnvSpec(ALE/Solaris-v5), EnvSpec(ALE/Solaris-ram-v5), EnvSpec(Adventure-v0), EnvSpec(AdventureDeterministic-v0), EnvSpec(AdventureNoFrameskip-v0), EnvSpec(Adventure-v4), EnvSpec(AdventureDeterministic-v4), EnvSpec(AdventureNoFrameskip-v4), EnvSpec(Adventure-ram-v0), EnvSpec(Adventure-ramDeterministic-v0), EnvSpec(Adventure-ramNoFrameskip-v0), EnvSpec(Adventure-ram-v4), EnvSpec(Adventure-ramDeterministic-v4), EnvSpec(Adventure-ramNoFrameskip-v4), EnvSpec(AirRaid-v0), EnvSpec(AirRaidDeterministic-v0), EnvSpec(AirRaidNoFrameskip-v0), EnvSpec(AirRaid-v4), EnvSpec(AirRaidDeterministic-v4), EnvSpec(AirRaidNoFrameskip-v4), EnvSpec(AirRaid-ram-v0), EnvSpec(AirRaid-ramDeterministic-v0), EnvSpec(AirRaid-ramNoFrameskip-v0), EnvSpec(AirRaid-ram-v4), EnvSpec(AirRaid-ramDeterministic-v4), EnvSpec(AirRaid-ramNoFrameskip-v4), EnvSpec(Alien-v0), EnvSpec(AlienDeterministic-v0), EnvSpec(AlienNoFrameskip-v0), EnvSpec(Alien-v4), EnvSpec(AlienDeterministic-v4), EnvSpec(AlienNoFrameskip-v4), EnvSpec(Alien-ram-v0), EnvSpec(Alien-ramDeterministic-v0), EnvSpec(Alien-ramNoFrameskip-v0), EnvSpec(Alien-ram-v4), EnvSpec(Alien-ramDeterministic-v4), EnvSpec(Alien-ramNoFrameskip-v4), EnvSpec(Amidar-v0), EnvSpec(AmidarDeterministic-v0), EnvSpec(AmidarNoFrameskip-v0), EnvSpec(Amidar-v4), EnvSpec(AmidarDeterministic-v4), EnvSpec(AmidarNoFrameskip-v4), EnvSpec(Amidar-ram-v0), EnvSpec(Amidar-ramDeterministic-v0), EnvSpec(Amidar-ramNoFrameskip-v0), EnvSpec(Amidar-ram-v4), EnvSpec(Amidar-ramDeterministic-v4), EnvSpec(Amidar-ramNoFrameskip-v4), EnvSpec(Assault-v0), EnvSpec(AssaultDeterministic-v0), EnvSpec(AssaultNoFrameskip-v0), EnvSpec(Assault-v4), EnvSpec(AssaultDeterministic-v4), EnvSpec(AssaultNoFrameskip-v4), EnvSpec(Assault-ram-v0), EnvSpec(Assault-ramDeterministic-v0), EnvSpec(Assault-ramNoFrameskip-v0), EnvSpec(Assault-ram-v4), EnvSpec(Assault-ramDeterministic-v4), EnvSpec(Assault-ramNoFrameskip-v4), EnvSpec(Asterix-v0), EnvSpec(AsterixDeterministic-v0), EnvSpec(AsterixNoFrameskip-v0), EnvSpec(Asterix-v4), EnvSpec(AsterixDeterministic-v4), EnvSpec(AsterixNoFrameskip-v4), EnvSpec(Asterix-ram-v0), EnvSpec(Asterix-ramDeterministic-v0), EnvSpec(Asterix-ramNoFrameskip-v0), EnvSpec(Asterix-ram-v4), EnvSpec(Asterix-ramDeterministic-v4), EnvSpec(Asterix-ramNoFrameskip-v4), EnvSpec(Asteroids-v0), EnvSpec(AsteroidsDeterministic-v0), EnvSpec(AsteroidsNoFrameskip-v0), EnvSpec(Asteroids-v4), EnvSpec(AsteroidsDeterministic-v4), EnvSpec(AsteroidsNoFrameskip-v4), EnvSpec(Asteroids-ram-v0), EnvSpec(Asteroids-ramDeterministic-v0), EnvSpec(Asteroids-ramNoFrameskip-v0), EnvSpec(Asteroids-ram-v4), EnvSpec(Asteroids-ramDeterministic-v4), EnvSpec(Asteroids-ramNoFrameskip-v4), EnvSpec(Atlantis-v0), EnvSpec(AtlantisDeterministic-v0), EnvSpec(AtlantisNoFrameskip-v0), EnvSpec(Atlantis-v4), EnvSpec(AtlantisDeterministic-v4), EnvSpec(AtlantisNoFrameskip-v4), EnvSpec(Atlantis-ram-v0), EnvSpec(Atlantis-ramDeterministic-v0), EnvSpec(Atlantis-ramNoFrameskip-v0), EnvSpec(Atlantis-ram-v4), EnvSpec(Atlantis-ramDeterministic-v4), EnvSpec(Atlantis-ramNoFrameskip-v4), EnvSpec(BankHeist-v0), EnvSpec(BankHeistDeterministic-v0), EnvSpec(BankHeistNoFrameskip-v0), EnvSpec(BankHeist-v4), EnvSpec(BankHeistDeterministic-v4), EnvSpec(BankHeistNoFrameskip-v4), EnvSpec(BankHeist-ram-v0), EnvSpec(BankHeist-ramDeterministic-v0), EnvSpec(BankHeist-ramNoFrameskip-v0), EnvSpec(BankHeist-ram-v4), EnvSpec(BankHeist-ramDeterministic-v4), EnvSpec(BankHeist-ramNoFrameskip-v4), EnvSpec(BattleZone-v0), EnvSpec(BattleZoneDeterministic-v0), EnvSpec(BattleZoneNoFrameskip-v0), EnvSpec(BattleZone-v4), EnvSpec(BattleZoneDeterministic-v4), EnvSpec(BattleZoneNoFrameskip-v4), EnvSpec(BattleZone-ram-v0), EnvSpec(BattleZone-ramDeterministic-v0), EnvSpec(BattleZone-ramNoFrameskip-v0), EnvSpec(BattleZone-ram-v4), EnvSpec(BattleZone-ramDeterministic-v4), EnvSpec(BattleZone-ramNoFrameskip-v4), EnvSpec(BeamRider-v0), EnvSpec(BeamRiderDeterministic-v0), EnvSpec(BeamRiderNoFrameskip-v0), EnvSpec(BeamRider-v4), EnvSpec(BeamRiderDeterministic-v4), EnvSpec(BeamRiderNoFrameskip-v4), EnvSpec(BeamRider-ram-v0), EnvSpec(BeamRider-ramDeterministic-v0), EnvSpec(BeamRider-ramNoFrameskip-v0), EnvSpec(BeamRider-ram-v4), EnvSpec(BeamRider-ramDeterministic-v4), EnvSpec(BeamRider-ramNoFrameskip-v4), EnvSpec(Berzerk-v0), EnvSpec(BerzerkDeterministic-v0), EnvSpec(BerzerkNoFrameskip-v0), EnvSpec(Berzerk-v4), EnvSpec(BerzerkDeterministic-v4), EnvSpec(BerzerkNoFrameskip-v4), EnvSpec(Berzerk-ram-v0), EnvSpec(Berzerk-ramDeterministic-v0), EnvSpec(Berzerk-ramNoFrameskip-v0), EnvSpec(Berzerk-ram-v4), EnvSpec(Berzerk-ramDeterministic-v4), EnvSpec(Berzerk-ramNoFrameskip-v4), EnvSpec(Bowling-v0), EnvSpec(BowlingDeterministic-v0), EnvSpec(BowlingNoFrameskip-v0), EnvSpec(Bowling-v4), EnvSpec(BowlingDeterministic-v4), EnvSpec(BowlingNoFrameskip-v4), EnvSpec(Bowling-ram-v0), EnvSpec(Bowling-ramDeterministic-v0), EnvSpec(Bowling-ramNoFrameskip-v0), EnvSpec(Bowling-ram-v4), EnvSpec(Bowling-ramDeterministic-v4), EnvSpec(Bowling-ramNoFrameskip-v4), EnvSpec(Boxing-v0), EnvSpec(BoxingDeterministic-v0), EnvSpec(BoxingNoFrameskip-v0), EnvSpec(Boxing-v4), EnvSpec(BoxingDeterministic-v4), EnvSpec(BoxingNoFrameskip-v4), EnvSpec(Boxing-ram-v0), EnvSpec(Boxing-ramDeterministic-v0), EnvSpec(Boxing-ramNoFrameskip-v0), EnvSpec(Boxing-ram-v4), EnvSpec(Boxing-ramDeterministic-v4), EnvSpec(Boxing-ramNoFrameskip-v4), EnvSpec(Breakout-v0), EnvSpec(BreakoutDeterministic-v0), EnvSpec(BreakoutNoFrameskip-v0), EnvSpec(Breakout-v4), EnvSpec(BreakoutDeterministic-v4), EnvSpec(BreakoutNoFrameskip-v4), EnvSpec(Breakout-ram-v0), EnvSpec(Breakout-ramDeterministic-v0), EnvSpec(Breakout-ramNoFrameskip-v0), EnvSpec(Breakout-ram-v4), EnvSpec(Breakout-ramDeterministic-v4), EnvSpec(Breakout-ramNoFrameskip-v4), EnvSpec(Carnival-v0), EnvSpec(CarnivalDeterministic-v0), EnvSpec(CarnivalNoFrameskip-v0), EnvSpec(Carnival-v4), EnvSpec(CarnivalDeterministic-v4), EnvSpec(CarnivalNoFrameskip-v4), EnvSpec(Carnival-ram-v0), EnvSpec(Carnival-ramDeterministic-v0), EnvSpec(Carnival-ramNoFrameskip-v0), EnvSpec(Carnival-ram-v4), EnvSpec(Carnival-ramDeterministic-v4), EnvSpec(Carnival-ramNoFrameskip-v4), EnvSpec(Centipede-v0), EnvSpec(CentipedeDeterministic-v0), EnvSpec(CentipedeNoFrameskip-v0), EnvSpec(Centipede-v4), EnvSpec(CentipedeDeterministic-v4), EnvSpec(CentipedeNoFrameskip-v4), EnvSpec(Centipede-ram-v0), EnvSpec(Centipede-ramDeterministic-v0), EnvSpec(Centipede-ramNoFrameskip-v0), EnvSpec(Centipede-ram-v4), EnvSpec(Centipede-ramDeterministic-v4), EnvSpec(Centipede-ramNoFrameskip-v4), EnvSpec(ChopperCommand-v0), EnvSpec(ChopperCommandDeterministic-v0), EnvSpec(ChopperCommandNoFrameskip-v0), EnvSpec(ChopperCommand-v4), EnvSpec(ChopperCommandDeterministic-v4), EnvSpec(ChopperCommandNoFrameskip-v4), EnvSpec(ChopperCommand-ram-v0), EnvSpec(ChopperCommand-ramDeterministic-v0), EnvSpec(ChopperCommand-ramNoFrameskip-v0), EnvSpec(ChopperCommand-ram-v4), EnvSpec(ChopperCommand-ramDeterministic-v4), EnvSpec(ChopperCommand-ramNoFrameskip-v4), EnvSpec(CrazyClimber-v0), EnvSpec(CrazyClimberDeterministic-v0), EnvSpec(CrazyClimberNoFrameskip-v0), EnvSpec(CrazyClimber-v4), EnvSpec(CrazyClimberDeterministic-v4), EnvSpec(CrazyClimberNoFrameskip-v4), EnvSpec(CrazyClimber-ram-v0), EnvSpec(CrazyClimber-ramDeterministic-v0), EnvSpec(CrazyClimber-ramNoFrameskip-v0), EnvSpec(CrazyClimber-ram-v4), EnvSpec(CrazyClimber-ramDeterministic-v4), EnvSpec(CrazyClimber-ramNoFrameskip-v4), EnvSpec(Defender-v0), EnvSpec(DefenderDeterministic-v0), EnvSpec(DefenderNoFrameskip-v0), EnvSpec(Defender-v4), EnvSpec(DefenderDeterministic-v4), EnvSpec(DefenderNoFrameskip-v4), EnvSpec(Defender-ram-v0), EnvSpec(Defender-ramDeterministic-v0), EnvSpec(Defender-ramNoFrameskip-v0), EnvSpec(Defender-ram-v4), EnvSpec(Defender-ramDeterministic-v4), EnvSpec(Defender-ramNoFrameskip-v4), EnvSpec(DemonAttack-v0), EnvSpec(DemonAttackDeterministic-v0), EnvSpec(DemonAttackNoFrameskip-v0), EnvSpec(DemonAttack-v4), EnvSpec(DemonAttackDeterministic-v4), EnvSpec(DemonAttackNoFrameskip-v4), EnvSpec(DemonAttack-ram-v0), EnvSpec(DemonAttack-ramDeterministic-v0), EnvSpec(DemonAttack-ramNoFrameskip-v0), EnvSpec(DemonAttack-ram-v4), EnvSpec(DemonAttack-ramDeterministic-v4), EnvSpec(DemonAttack-ramNoFrameskip-v4), EnvSpec(DoubleDunk-v0), EnvSpec(DoubleDunkDeterministic-v0), EnvSpec(DoubleDunkNoFrameskip-v0), EnvSpec(DoubleDunk-v4), EnvSpec(DoubleDunkDeterministic-v4), EnvSpec(DoubleDunkNoFrameskip-v4), EnvSpec(DoubleDunk-ram-v0), EnvSpec(DoubleDunk-ramDeterministic-v0), EnvSpec(DoubleDunk-ramNoFrameskip-v0), EnvSpec(DoubleDunk-ram-v4), EnvSpec(DoubleDunk-ramDeterministic-v4), EnvSpec(DoubleDunk-ramNoFrameskip-v4), EnvSpec(ElevatorAction-v0), EnvSpec(ElevatorActionDeterministic-v0), EnvSpec(ElevatorActionNoFrameskip-v0), EnvSpec(ElevatorAction-v4), EnvSpec(ElevatorActionDeterministic-v4), EnvSpec(ElevatorActionNoFrameskip-v4), EnvSpec(ElevatorAction-ram-v0), EnvSpec(ElevatorAction-ramDeterministic-v0), EnvSpec(ElevatorAction-ramNoFrameskip-v0), EnvSpec(ElevatorAction-ram-v4), EnvSpec(ElevatorAction-ramDeterministic-v4), EnvSpec(ElevatorAction-ramNoFrameskip-v4), EnvSpec(Enduro-v0), EnvSpec(EnduroDeterministic-v0), EnvSpec(EnduroNoFrameskip-v0), EnvSpec(Enduro-v4), EnvSpec(EnduroDeterministic-v4), EnvSpec(EnduroNoFrameskip-v4), EnvSpec(Enduro-ram-v0), EnvSpec(Enduro-ramDeterministic-v0), EnvSpec(Enduro-ramNoFrameskip-v0), EnvSpec(Enduro-ram-v4), EnvSpec(Enduro-ramDeterministic-v4), EnvSpec(Enduro-ramNoFrameskip-v4), EnvSpec(FishingDerby-v0), EnvSpec(FishingDerbyDeterministic-v0), EnvSpec(FishingDerbyNoFrameskip-v0), EnvSpec(FishingDerby-v4), EnvSpec(FishingDerbyDeterministic-v4), EnvSpec(FishingDerbyNoFrameskip-v4), EnvSpec(FishingDerby-ram-v0), EnvSpec(FishingDerby-ramDeterministic-v0), EnvSpec(FishingDerby-ramNoFrameskip-v0), EnvSpec(FishingDerby-ram-v4), EnvSpec(FishingDerby-ramDeterministic-v4), EnvSpec(FishingDerby-ramNoFrameskip-v4), EnvSpec(Freeway-v0), EnvSpec(FreewayDeterministic-v0), EnvSpec(FreewayNoFrameskip-v0), EnvSpec(Freeway-v4), EnvSpec(FreewayDeterministic-v4), EnvSpec(FreewayNoFrameskip-v4), EnvSpec(Freeway-ram-v0), EnvSpec(Freeway-ramDeterministic-v0), EnvSpec(Freeway-ramNoFrameskip-v0), EnvSpec(Freeway-ram-v4), EnvSpec(Freeway-ramDeterministic-v4), EnvSpec(Freeway-ramNoFrameskip-v4), EnvSpec(Frostbite-v0), EnvSpec(FrostbiteDeterministic-v0), EnvSpec(FrostbiteNoFrameskip-v0), EnvSpec(Frostbite-v4), EnvSpec(FrostbiteDeterministic-v4), EnvSpec(FrostbiteNoFrameskip-v4), EnvSpec(Frostbite-ram-v0), EnvSpec(Frostbite-ramDeterministic-v0), EnvSpec(Frostbite-ramNoFrameskip-v0), EnvSpec(Frostbite-ram-v4), EnvSpec(Frostbite-ramDeterministic-v4), EnvSpec(Frostbite-ramNoFrameskip-v4), EnvSpec(Gopher-v0), EnvSpec(GopherDeterministic-v0), EnvSpec(GopherNoFrameskip-v0), EnvSpec(Gopher-v4), EnvSpec(GopherDeterministic-v4), EnvSpec(GopherNoFrameskip-v4), EnvSpec(Gopher-ram-v0), EnvSpec(Gopher-ramDeterministic-v0), EnvSpec(Gopher-ramNoFrameskip-v0), EnvSpec(Gopher-ram-v4), EnvSpec(Gopher-ramDeterministic-v4), EnvSpec(Gopher-ramNoFrameskip-v4), EnvSpec(Gravitar-v0), EnvSpec(GravitarDeterministic-v0), EnvSpec(GravitarNoFrameskip-v0), EnvSpec(Gravitar-v4), EnvSpec(GravitarDeterministic-v4), EnvSpec(GravitarNoFrameskip-v4), EnvSpec(Gravitar-ram-v0), EnvSpec(Gravitar-ramDeterministic-v0), EnvSpec(Gravitar-ramNoFrameskip-v0), EnvSpec(Gravitar-ram-v4), EnvSpec(Gravitar-ramDeterministic-v4), EnvSpec(Gravitar-ramNoFrameskip-v4), EnvSpec(Hero-v0), EnvSpec(HeroDeterministic-v0), EnvSpec(HeroNoFrameskip-v0), EnvSpec(Hero-v4), EnvSpec(HeroDeterministic-v4), EnvSpec(HeroNoFrameskip-v4), EnvSpec(Hero-ram-v0), EnvSpec(Hero-ramDeterministic-v0), EnvSpec(Hero-ramNoFrameskip-v0), EnvSpec(Hero-ram-v4), EnvSpec(Hero-ramDeterministic-v4), EnvSpec(Hero-ramNoFrameskip-v4), EnvSpec(IceHockey-v0), EnvSpec(IceHockeyDeterministic-v0), EnvSpec(IceHockeyNoFrameskip-v0), EnvSpec(IceHockey-v4), EnvSpec(IceHockeyDeterministic-v4), EnvSpec(IceHockeyNoFrameskip-v4), EnvSpec(IceHockey-ram-v0), EnvSpec(IceHockey-ramDeterministic-v0), EnvSpec(IceHockey-ramNoFrameskip-v0), EnvSpec(IceHockey-ram-v4), EnvSpec(IceHockey-ramDeterministic-v4), EnvSpec(IceHockey-ramNoFrameskip-v4), EnvSpec(Jamesbond-v0), EnvSpec(JamesbondDeterministic-v0), EnvSpec(JamesbondNoFrameskip-v0), EnvSpec(Jamesbond-v4), EnvSpec(JamesbondDeterministic-v4), EnvSpec(JamesbondNoFrameskip-v4), EnvSpec(Jamesbond-ram-v0), EnvSpec(Jamesbond-ramDeterministic-v0), EnvSpec(Jamesbond-ramNoFrameskip-v0), EnvSpec(Jamesbond-ram-v4), EnvSpec(Jamesbond-ramDeterministic-v4), EnvSpec(Jamesbond-ramNoFrameskip-v4), EnvSpec(JourneyEscape-v0), EnvSpec(JourneyEscapeDeterministic-v0), EnvSpec(JourneyEscapeNoFrameskip-v0), EnvSpec(JourneyEscape-v4), EnvSpec(JourneyEscapeDeterministic-v4), EnvSpec(JourneyEscapeNoFrameskip-v4), EnvSpec(JourneyEscape-ram-v0), EnvSpec(JourneyEscape-ramDeterministic-v0), EnvSpec(JourneyEscape-ramNoFrameskip-v0), EnvSpec(JourneyEscape-ram-v4), EnvSpec(JourneyEscape-ramDeterministic-v4), EnvSpec(JourneyEscape-ramNoFrameskip-v4), EnvSpec(Kangaroo-v0), EnvSpec(KangarooDeterministic-v0), EnvSpec(KangarooNoFrameskip-v0), EnvSpec(Kangaroo-v4), EnvSpec(KangarooDeterministic-v4), EnvSpec(KangarooNoFrameskip-v4), EnvSpec(Kangaroo-ram-v0), EnvSpec(Kangaroo-ramDeterministic-v0), EnvSpec(Kangaroo-ramNoFrameskip-v0), EnvSpec(Kangaroo-ram-v4), EnvSpec(Kangaroo-ramDeterministic-v4), EnvSpec(Kangaroo-ramNoFrameskip-v4), EnvSpec(Krull-v0), EnvSpec(KrullDeterministic-v0), EnvSpec(KrullNoFrameskip-v0), EnvSpec(Krull-v4), EnvSpec(KrullDeterministic-v4), EnvSpec(KrullNoFrameskip-v4), EnvSpec(Krull-ram-v0), EnvSpec(Krull-ramDeterministic-v0), EnvSpec(Krull-ramNoFrameskip-v0), EnvSpec(Krull-ram-v4), EnvSpec(Krull-ramDeterministic-v4), EnvSpec(Krull-ramNoFrameskip-v4), EnvSpec(KungFuMaster-v0), EnvSpec(KungFuMasterDeterministic-v0), EnvSpec(KungFuMasterNoFrameskip-v0), EnvSpec(KungFuMaster-v4), EnvSpec(KungFuMasterDeterministic-v4), EnvSpec(KungFuMasterNoFrameskip-v4), EnvSpec(KungFuMaster-ram-v0), EnvSpec(KungFuMaster-ramDeterministic-v0), EnvSpec(KungFuMaster-ramNoFrameskip-v0), EnvSpec(KungFuMaster-ram-v4), EnvSpec(KungFuMaster-ramDeterministic-v4), EnvSpec(KungFuMaster-ramNoFrameskip-v4), EnvSpec(MontezumaRevenge-v0), EnvSpec(MontezumaRevengeDeterministic-v0), EnvSpec(MontezumaRevengeNoFrameskip-v0), EnvSpec(MontezumaRevenge-v4), EnvSpec(MontezumaRevengeDeterministic-v4), EnvSpec(MontezumaRevengeNoFrameskip-v4), EnvSpec(MontezumaRevenge-ram-v0), EnvSpec(MontezumaRevenge-ramDeterministic-v0), EnvSpec(MontezumaRevenge-ramNoFrameskip-v0), EnvSpec(MontezumaRevenge-ram-v4), EnvSpec(MontezumaRevenge-ramDeterministic-v4), EnvSpec(MontezumaRevenge-ramNoFrameskip-v4), EnvSpec(MsPacman-v0), EnvSpec(MsPacmanDeterministic-v0), EnvSpec(MsPacmanNoFrameskip-v0), EnvSpec(MsPacman-v4), EnvSpec(MsPacmanDeterministic-v4), EnvSpec(MsPacmanNoFrameskip-v4), EnvSpec(MsPacman-ram-v0), EnvSpec(MsPacman-ramDeterministic-v0), EnvSpec(MsPacman-ramNoFrameskip-v0), EnvSpec(MsPacman-ram-v4), EnvSpec(MsPacman-ramDeterministic-v4), EnvSpec(MsPacman-ramNoFrameskip-v4), EnvSpec(NameThisGame-v0), EnvSpec(NameThisGameDeterministic-v0), EnvSpec(NameThisGameNoFrameskip-v0), EnvSpec(NameThisGame-v4), EnvSpec(NameThisGameDeterministic-v4), EnvSpec(NameThisGameNoFrameskip-v4), EnvSpec(NameThisGame-ram-v0), EnvSpec(NameThisGame-ramDeterministic-v0), EnvSpec(NameThisGame-ramNoFrameskip-v0), EnvSpec(NameThisGame-ram-v4), EnvSpec(NameThisGame-ramDeterministic-v4), EnvSpec(NameThisGame-ramNoFrameskip-v4), EnvSpec(Phoenix-v0), EnvSpec(PhoenixDeterministic-v0), EnvSpec(PhoenixNoFrameskip-v0), EnvSpec(Phoenix-v4), EnvSpec(PhoenixDeterministic-v4), EnvSpec(PhoenixNoFrameskip-v4), EnvSpec(Phoenix-ram-v0), EnvSpec(Phoenix-ramDeterministic-v0), EnvSpec(Phoenix-ramNoFrameskip-v0), EnvSpec(Phoenix-ram-v4), EnvSpec(Phoenix-ramDeterministic-v4), EnvSpec(Phoenix-ramNoFrameskip-v4), EnvSpec(Pitfall-v0), EnvSpec(PitfallDeterministic-v0), EnvSpec(PitfallNoFrameskip-v0), EnvSpec(Pitfall-v4), EnvSpec(PitfallDeterministic-v4), EnvSpec(PitfallNoFrameskip-v4), EnvSpec(Pitfall-ram-v0), EnvSpec(Pitfall-ramDeterministic-v0), EnvSpec(Pitfall-ramNoFrameskip-v0), EnvSpec(Pitfall-ram-v4), EnvSpec(Pitfall-ramDeterministic-v4), EnvSpec(Pitfall-ramNoFrameskip-v4), EnvSpec(Pong-v0), EnvSpec(PongDeterministic-v0), EnvSpec(PongNoFrameskip-v0), EnvSpec(Pong-v4), EnvSpec(PongDeterministic-v4), EnvSpec(PongNoFrameskip-v4), EnvSpec(Pong-ram-v0), EnvSpec(Pong-ramDeterministic-v0), EnvSpec(Pong-ramNoFrameskip-v0), EnvSpec(Pong-ram-v4), EnvSpec(Pong-ramDeterministic-v4), EnvSpec(Pong-ramNoFrameskip-v4), EnvSpec(Pooyan-v0), EnvSpec(PooyanDeterministic-v0), EnvSpec(PooyanNoFrameskip-v0), EnvSpec(Pooyan-v4), EnvSpec(PooyanDeterministic-v4), EnvSpec(PooyanNoFrameskip-v4), EnvSpec(Pooyan-ram-v0), EnvSpec(Pooyan-ramDeterministic-v0), EnvSpec(Pooyan-ramNoFrameskip-v0), EnvSpec(Pooyan-ram-v4), EnvSpec(Pooyan-ramDeterministic-v4), EnvSpec(Pooyan-ramNoFrameskip-v4), EnvSpec(PrivateEye-v0), EnvSpec(PrivateEyeDeterministic-v0), EnvSpec(PrivateEyeNoFrameskip-v0), EnvSpec(PrivateEye-v4), EnvSpec(PrivateEyeDeterministic-v4), EnvSpec(PrivateEyeNoFrameskip-v4), EnvSpec(PrivateEye-ram-v0), EnvSpec(PrivateEye-ramDeterministic-v0), EnvSpec(PrivateEye-ramNoFrameskip-v0), EnvSpec(PrivateEye-ram-v4), EnvSpec(PrivateEye-ramDeterministic-v4), EnvSpec(PrivateEye-ramNoFrameskip-v4), EnvSpec(Qbert-v0), EnvSpec(QbertDeterministic-v0), EnvSpec(QbertNoFrameskip-v0), EnvSpec(Qbert-v4), EnvSpec(QbertDeterministic-v4), EnvSpec(QbertNoFrameskip-v4), EnvSpec(Qbert-ram-v0), EnvSpec(Qbert-ramDeterministic-v0), EnvSpec(Qbert-ramNoFrameskip-v0), EnvSpec(Qbert-ram-v4), EnvSpec(Qbert-ramDeterministic-v4), EnvSpec(Qbert-ramNoFrameskip-v4), EnvSpec(Riverraid-v0), EnvSpec(RiverraidDeterministic-v0), EnvSpec(RiverraidNoFrameskip-v0), EnvSpec(Riverraid-v4), EnvSpec(RiverraidDeterministic-v4), EnvSpec(RiverraidNoFrameskip-v4), EnvSpec(Riverraid-ram-v0), EnvSpec(Riverraid-ramDeterministic-v0), EnvSpec(Riverraid-ramNoFrameskip-v0), EnvSpec(Riverraid-ram-v4), EnvSpec(Riverraid-ramDeterministic-v4), EnvSpec(Riverraid-ramNoFrameskip-v4), EnvSpec(RoadRunner-v0), EnvSpec(RoadRunnerDeterministic-v0), EnvSpec(RoadRunnerNoFrameskip-v0), EnvSpec(RoadRunner-v4), EnvSpec(RoadRunnerDeterministic-v4), EnvSpec(RoadRunnerNoFrameskip-v4), EnvSpec(RoadRunner-ram-v0), EnvSpec(RoadRunner-ramDeterministic-v0), EnvSpec(RoadRunner-ramNoFrameskip-v0), EnvSpec(RoadRunner-ram-v4), EnvSpec(RoadRunner-ramDeterministic-v4), EnvSpec(RoadRunner-ramNoFrameskip-v4), EnvSpec(Robotank-v0), EnvSpec(RobotankDeterministic-v0), EnvSpec(RobotankNoFrameskip-v0), EnvSpec(Robotank-v4), EnvSpec(RobotankDeterministic-v4), EnvSpec(RobotankNoFrameskip-v4), EnvSpec(Robotank-ram-v0), EnvSpec(Robotank-ramDeterministic-v0), EnvSpec(Robotank-ramNoFrameskip-v0), EnvSpec(Robotank-ram-v4), EnvSpec(Robotank-ramDeterministic-v4), EnvSpec(Robotank-ramNoFrameskip-v4), EnvSpec(Seaquest-v0), EnvSpec(SeaquestDeterministic-v0), EnvSpec(SeaquestNoFrameskip-v0), EnvSpec(Seaquest-v4), EnvSpec(SeaquestDeterministic-v4), EnvSpec(SeaquestNoFrameskip-v4), EnvSpec(Seaquest-ram-v0), EnvSpec(Seaquest-ramDeterministic-v0), EnvSpec(Seaquest-ramNoFrameskip-v0), EnvSpec(Seaquest-ram-v4), EnvSpec(Seaquest-ramDeterministic-v4), EnvSpec(Seaquest-ramNoFrameskip-v4), EnvSpec(Skiing-v0), EnvSpec(SkiingDeterministic-v0), EnvSpec(SkiingNoFrameskip-v0), EnvSpec(Skiing-v4), EnvSpec(SkiingDeterministic-v4), EnvSpec(SkiingNoFrameskip-v4), EnvSpec(Skiing-ram-v0), EnvSpec(Skiing-ramDeterministic-v0), EnvSpec(Skiing-ramNoFrameskip-v0), EnvSpec(Skiing-ram-v4), EnvSpec(Skiing-ramDeterministic-v4), EnvSpec(Skiing-ramNoFrameskip-v4), EnvSpec(Solaris-v0), EnvSpec(SolarisDeterministic-v0), EnvSpec(SolarisNoFrameskip-v0), EnvSpec(Solaris-v4), EnvSpec(SolarisDeterministic-v4), EnvSpec(SolarisNoFrameskip-v4), EnvSpec(Solaris-ram-v0), EnvSpec(Solaris-ramDeterministic-v0), EnvSpec(Solaris-ramNoFrameskip-v0), EnvSpec(Solaris-ram-v4), EnvSpec(Solaris-ramDeterministic-v4), EnvSpec(Solaris-ramNoFrameskip-v4), EnvSpec(SpaceInvaders-v0), EnvSpec(SpaceInvadersDeterministic-v0), EnvSpec(SpaceInvadersNoFrameskip-v0), EnvSpec(SpaceInvaders-v4), EnvSpec(SpaceInvadersDeterministic-v4), EnvSpec(SpaceInvadersNoFrameskip-v4), EnvSpec(SpaceInvaders-ram-v0), EnvSpec(SpaceInvaders-ramDeterministic-v0), EnvSpec(SpaceInvaders-ramNoFrameskip-v0), EnvSpec(SpaceInvaders-ram-v4), EnvSpec(SpaceInvaders-ramDeterministic-v4), EnvSpec(SpaceInvaders-ramNoFrameskip-v4), EnvSpec(StarGunner-v0), EnvSpec(StarGunnerDeterministic-v0), EnvSpec(StarGunnerNoFrameskip-v0), EnvSpec(StarGunner-v4), EnvSpec(StarGunnerDeterministic-v4), EnvSpec(StarGunnerNoFrameskip-v4), EnvSpec(StarGunner-ram-v0), EnvSpec(StarGunner-ramDeterministic-v0), EnvSpec(StarGunner-ramNoFrameskip-v0), EnvSpec(StarGunner-ram-v4), EnvSpec(StarGunner-ramDeterministic-v4), EnvSpec(StarGunner-ramNoFrameskip-v4), EnvSpec(Tennis-v0), EnvSpec(TennisDeterministic-v0), EnvSpec(TennisNoFrameskip-v0), EnvSpec(Tennis-v4), EnvSpec(TennisDeterministic-v4), EnvSpec(TennisNoFrameskip-v4), EnvSpec(Tennis-ram-v0), EnvSpec(Tennis-ramDeterministic-v0), EnvSpec(Tennis-ramNoFrameskip-v0), EnvSpec(Tennis-ram-v4), EnvSpec(Tennis-ramDeterministic-v4), EnvSpec(Tennis-ramNoFrameskip-v4), EnvSpec(TimePilot-v0), EnvSpec(TimePilotDeterministic-v0), EnvSpec(TimePilotNoFrameskip-v0), EnvSpec(TimePilot-v4), EnvSpec(TimePilotDeterministic-v4), EnvSpec(TimePilotNoFrameskip-v4), EnvSpec(TimePilot-ram-v0), EnvSpec(TimePilot-ramDeterministic-v0), EnvSpec(TimePilot-ramNoFrameskip-v0), EnvSpec(TimePilot-ram-v4), EnvSpec(TimePilot-ramDeterministic-v4), EnvSpec(TimePilot-ramNoFrameskip-v4), EnvSpec(Tutankham-v0), EnvSpec(TutankhamDeterministic-v0), EnvSpec(TutankhamNoFrameskip-v0), EnvSpec(Tutankham-v4), EnvSpec(TutankhamDeterministic-v4), EnvSpec(TutankhamNoFrameskip-v4), EnvSpec(Tutankham-ram-v0), EnvSpec(Tutankham-ramDeterministic-v0), EnvSpec(Tutankham-ramNoFrameskip-v0), EnvSpec(Tutankham-ram-v4), EnvSpec(Tutankham-ramDeterministic-v4), EnvSpec(Tutankham-ramNoFrameskip-v4), EnvSpec(UpNDown-v0), EnvSpec(UpNDownDeterministic-v0), EnvSpec(UpNDownNoFrameskip-v0), EnvSpec(UpNDown-v4), EnvSpec(UpNDownDeterministic-v4), EnvSpec(UpNDownNoFrameskip-v4), EnvSpec(UpNDown-ram-v0), EnvSpec(UpNDown-ramDeterministic-v0), EnvSpec(UpNDown-ramNoFrameskip-v0), EnvSpec(UpNDown-ram-v4), EnvSpec(UpNDown-ramDeterministic-v4), EnvSpec(UpNDown-ramNoFrameskip-v4), EnvSpec(Venture-v0), EnvSpec(VentureDeterministic-v0), EnvSpec(VentureNoFrameskip-v0), EnvSpec(Venture-v4), EnvSpec(VentureDeterministic-v4), EnvSpec(VentureNoFrameskip-v4), EnvSpec(Venture-ram-v0), EnvSpec(Venture-ramDeterministic-v0), EnvSpec(Venture-ramNoFrameskip-v0), EnvSpec(Venture-ram-v4), EnvSpec(Venture-ramDeterministic-v4), EnvSpec(Venture-ramNoFrameskip-v4), EnvSpec(VideoPinball-v0), EnvSpec(VideoPinballDeterministic-v0), EnvSpec(VideoPinballNoFrameskip-v0), EnvSpec(VideoPinball-v4), EnvSpec(VideoPinballDeterministic-v4), EnvSpec(VideoPinballNoFrameskip-v4), EnvSpec(VideoPinball-ram-v0), EnvSpec(VideoPinball-ramDeterministic-v0), EnvSpec(VideoPinball-ramNoFrameskip-v0), EnvSpec(VideoPinball-ram-v4), EnvSpec(VideoPinball-ramDeterministic-v4), EnvSpec(VideoPinball-ramNoFrameskip-v4), EnvSpec(WizardOfWor-v0), EnvSpec(WizardOfWorDeterministic-v0), EnvSpec(WizardOfWorNoFrameskip-v0), EnvSpec(WizardOfWor-v4), EnvSpec(WizardOfWorDeterministic-v4), EnvSpec(WizardOfWorNoFrameskip-v4), EnvSpec(WizardOfWor-ram-v0), EnvSpec(WizardOfWor-ramDeterministic-v0), EnvSpec(WizardOfWor-ramNoFrameskip-v0), EnvSpec(WizardOfWor-ram-v4), EnvSpec(WizardOfWor-ramDeterministic-v4), EnvSpec(WizardOfWor-ramNoFrameskip-v4), EnvSpec(YarsRevenge-v0), EnvSpec(YarsRevengeDeterministic-v0), EnvSpec(YarsRevengeNoFrameskip-v0), EnvSpec(YarsRevenge-v4), EnvSpec(YarsRevengeDeterministic-v4), EnvSpec(YarsRevengeNoFrameskip-v4), EnvSpec(YarsRevenge-ram-v0), EnvSpec(YarsRevenge-ramDeterministic-v0), EnvSpec(YarsRevenge-ramNoFrameskip-v0), EnvSpec(YarsRevenge-ram-v4), EnvSpec(YarsRevenge-ramDeterministic-v4), EnvSpec(YarsRevenge-ramNoFrameskip-v4), EnvSpec(Zaxxon-v0), EnvSpec(ZaxxonDeterministic-v0), EnvSpec(ZaxxonNoFrameskip-v0), EnvSpec(Zaxxon-v4), EnvSpec(ZaxxonDeterministic-v4), EnvSpec(ZaxxonNoFrameskip-v4), EnvSpec(Zaxxon-ram-v0), EnvSpec(Zaxxon-ramDeterministic-v0), EnvSpec(Zaxxon-ramNoFrameskip-v0), EnvSpec(Zaxxon-ram-v4), EnvSpec(Zaxxon-ramDeterministic-v4), EnvSpec(Zaxxon-ramNoFrameskip-v4), EnvSpec(CartPole-v0), EnvSpec(CartPole-v1), EnvSpec(MountainCar-v0), EnvSpec(MountainCarContinuous-v0), EnvSpec(Pendulum-v1), EnvSpec(Acrobot-v1), EnvSpec(LunarLander-v2), EnvSpec(LunarLanderContinuous-v2), EnvSpec(BipedalWalker-v3), EnvSpec(BipedalWalkerHardcore-v3), EnvSpec(CarRacing-v0), EnvSpec(Blackjack-v1), EnvSpec(FrozenLake-v1), EnvSpec(FrozenLake8x8-v1), EnvSpec(CliffWalking-v0), EnvSpec(Taxi-v3), EnvSpec(Reacher-v2), EnvSpec(Pusher-v2), EnvSpec(Thrower-v2), EnvSpec(Striker-v2), EnvSpec(InvertedPendulum-v2), EnvSpec(InvertedDoublePendulum-v2), EnvSpec(HalfCheetah-v2), EnvSpec(HalfCheetah-v3), EnvSpec(Hopper-v2), EnvSpec(Hopper-v3), EnvSpec(Swimmer-v2), EnvSpec(Swimmer-v3), EnvSpec(Walker2d-v2), EnvSpec(Walker2d-v3), EnvSpec(Ant-v2), EnvSpec(Ant-v3), EnvSpec(Humanoid-v2), EnvSpec(Humanoid-v3), EnvSpec(HumanoidStandup-v2), EnvSpec(FetchSlide-v1), EnvSpec(FetchPickAndPlace-v1), EnvSpec(FetchReach-v1), EnvSpec(FetchPush-v1), EnvSpec(HandReach-v0), EnvSpec(HandManipulateBlockRotateZ-v0), EnvSpec(HandManipulateBlockRotateZTouchSensors-v0), EnvSpec(HandManipulateBlockRotateZTouchSensors-v1), EnvSpec(HandManipulateBlockRotateParallel-v0), EnvSpec(HandManipulateBlockRotateParallelTouchSensors-v0), EnvSpec(HandManipulateBlockRotateParallelTouchSensors-v1), EnvSpec(HandManipulateBlockRotateXYZ-v0), EnvSpec(HandManipulateBlockRotateXYZTouchSensors-v0), EnvSpec(HandManipulateBlockRotateXYZTouchSensors-v1), EnvSpec(HandManipulateBlockFull-v0), EnvSpec(HandManipulateBlock-v0), EnvSpec(HandManipulateBlockTouchSensors-v0), EnvSpec(HandManipulateBlockTouchSensors-v1), EnvSpec(HandManipulateEggRotate-v0), EnvSpec(HandManipulateEggRotateTouchSensors-v0), EnvSpec(HandManipulateEggRotateTouchSensors-v1), EnvSpec(HandManipulateEggFull-v0), EnvSpec(HandManipulateEgg-v0), EnvSpec(HandManipulateEggTouchSensors-v0), EnvSpec(HandManipulateEggTouchSensors-v1), EnvSpec(HandManipulatePenRotate-v0), EnvSpec(HandManipulatePenRotateTouchSensors-v0), EnvSpec(HandManipulatePenRotateTouchSensors-v1), EnvSpec(HandManipulatePenFull-v0), EnvSpec(HandManipulatePen-v0), EnvSpec(HandManipulatePenTouchSensors-v0), EnvSpec(HandManipulatePenTouchSensors-v1), EnvSpec(FetchSlideDense-v1), EnvSpec(FetchPickAndPlaceDense-v1), EnvSpec(FetchReachDense-v1), EnvSpec(FetchPushDense-v1), EnvSpec(HandReachDense-v0), EnvSpec(HandManipulateBlockRotateZDense-v0), EnvSpec(HandManipulateBlockRotateZTouchSensorsDense-v0), EnvSpec(HandManipulateBlockRotateZTouchSensorsDense-v1), EnvSpec(HandManipulateBlockRotateParallelDense-v0), EnvSpec(HandManipulateBlockRotateParallelTouchSensorsDense-v0), EnvSpec(HandManipulateBlockRotateParallelTouchSensorsDense-v1), EnvSpec(HandManipulateBlockRotateXYZDense-v0), EnvSpec(HandManipulateBlockRotateXYZTouchSensorsDense-v0), EnvSpec(HandManipulateBlockRotateXYZTouchSensorsDense-v1), EnvSpec(HandManipulateBlockFullDense-v0), EnvSpec(HandManipulateBlockDense-v0), EnvSpec(HandManipulateBlockTouchSensorsDense-v0), EnvSpec(HandManipulateBlockTouchSensorsDense-v1), EnvSpec(HandManipulateEggRotateDense-v0), EnvSpec(HandManipulateEggRotateTouchSensorsDense-v0), EnvSpec(HandManipulateEggRotateTouchSensorsDense-v1), EnvSpec(HandManipulateEggFullDense-v0), EnvSpec(HandManipulateEggDense-v0), EnvSpec(HandManipulateEggTouchSensorsDense-v0), EnvSpec(HandManipulateEggTouchSensorsDense-v1), EnvSpec(HandManipulatePenRotateDense-v0), EnvSpec(HandManipulatePenRotateTouchSensorsDense-v0), EnvSpec(HandManipulatePenRotateTouchSensorsDense-v1), EnvSpec(HandManipulatePenFullDense-v0), EnvSpec(HandManipulatePenDense-v0), EnvSpec(HandManipulatePenTouchSensorsDense-v0), EnvSpec(HandManipulatePenTouchSensorsDense-v1), EnvSpec(CubeCrash-v0), EnvSpec(CubeCrashSparse-v0), EnvSpec(CubeCrashScreenBecomesBlack-v0), EnvSpec(MemorizeDigits-v0)])\n"
          ]
        }
      ]
    },
    {
      "cell_type": "markdown",
      "metadata": {
        "id": "WIbEdOfRJRqc"
      },
      "source": [
        "Setup virtual display and helper class"
      ]
    },
    {
      "cell_type": "code",
      "metadata": {
        "id": "5bka8E1LJW4Z"
      },
      "source": [
        "# Set up a virtual display for rendering OpenAI gym environments.\n",
        "display = pyvirtualdisplay.Display(visible=0, size=(1400, 900)).start()"
      ],
      "execution_count": 11,
      "outputs": []
    },
    {
      "cell_type": "code",
      "metadata": {
        "id": "P463hJTKJSP3"
      },
      "source": [
        "def embed_mp4(filename):\n",
        "  \"\"\"Embeds an mp4 file in the notebook.\"\"\"\n",
        "  video = open(filename,'rb').read()\n",
        "  b64 = base64.b64encode(video)\n",
        "  tag = '''\n",
        "  <video width=\"640\" height=\"480\" controls>\n",
        "    <source src=\"data:video/mp4;base64,{0}\" type=\"video/mp4\">\n",
        "  Your browser does not support the video tag.\n",
        "  </video>'''.format(b64.decode())\n",
        "\n",
        "  return IPython.display.HTML(tag)\n",
        "\n",
        "def create_policy_eval_video(policy, filename, num_episodes=5, fps=30, max_steps=-1):\n",
        "  filename = filename + \".mp4\"\n",
        "  with imageio.get_writer(filename, fps=fps) as video:\n",
        "    for _ in range(num_episodes):\n",
        "      time_step = eval_env.reset()\n",
        "      video.append_data(eval_py_env.render())\n",
        "      n_step = 0\n",
        "      while not time_step.is_last():\n",
        "        action_step = policy.action(time_step)\n",
        "        time_step = eval_env.step(action_step.action)\n",
        "        video.append_data(eval_py_env.render())\n",
        "        n_step += 1\n",
        "        if (n_step > max_steps) & (max_steps > 0):\n",
        "          break\n",
        "  return embed_mp4(filename)"
      ],
      "execution_count": 12,
      "outputs": []
    },
    {
      "cell_type": "markdown",
      "metadata": {
        "id": "77AIHJeBJIfQ"
      },
      "source": [
        "## Environment\n",
        "\n",
        "Load Atari Environment"
      ]
    },
    {
      "cell_type": "code",
      "metadata": {
        "id": "mKZdbUONYR_m"
      },
      "source": [
        "#env_name = 'BreakoutNoFrameskip-v4'\n",
        "env_name = 'SpaceInvaders-v0'\n",
        "env = suite_gym.load(env_name)"
      ],
      "execution_count": 13,
      "outputs": []
    },
    {
      "cell_type": "markdown",
      "metadata": {
        "id": "Knvd7UvHl7DH"
      },
      "source": [
        "This is how the game looks like."
      ]
    },
    {
      "cell_type": "code",
      "metadata": {
        "colab": {
          "base_uri": "https://localhost:8080/",
          "height": 227
        },
        "id": "ihuyn_MfR4QN",
        "outputId": "23d0ed60-9fa2-4215-f2e0-ac662e0ff7e1"
      },
      "source": [
        "env.reset()\n",
        "PIL.Image.fromarray(env.render())"
      ],
      "execution_count": 14,
      "outputs": [
        {
          "output_type": "execute_result",
          "data": {
            "image/png": "[encoded data removed]",
            "text/plain": [
              "<PIL.Image.Image image mode=RGB size=160x210 at 0x7F465E882510>"
            ]
          },
          "metadata": {},
          "execution_count": 14
        }
      ]
    },
    {
      "cell_type": "code",
      "metadata": {
        "colab": {
          "base_uri": "https://localhost:8080/"
        },
        "id": "yQ16RNKvT7ne",
        "outputId": "aa29e0a8-4406-413a-f689-78a631354db3"
      },
      "source": [
        "print('Observation Spec:')\n",
        "print(env.time_step_spec().observation)"
      ],
      "execution_count": 15,
      "outputs": [
        {
          "output_type": "stream",
          "name": "stdout",
          "text": [
            "Observation Spec:\n",
            "BoundedArraySpec(shape=(210, 160, 3), dtype=dtype('uint8'), name='observation', minimum=0, maximum=255)\n"
          ]
        }
      ]
    },
    {
      "cell_type": "code",
      "metadata": {
        "colab": {
          "base_uri": "https://localhost:8080/"
        },
        "id": "4B4wMn0lUnYM",
        "outputId": "0762085e-8a35-41ca-b20c-82f87e76c188"
      },
      "source": [
        "print('Reward Spec:')\n",
        "print(env.time_step_spec().reward)"
      ],
      "execution_count": 16,
      "outputs": [
        {
          "output_type": "stream",
          "name": "stdout",
          "text": [
            "Reward Spec:\n",
            "ArraySpec(shape=(), dtype=dtype('float32'), name='reward')\n"
          ]
        }
      ]
    },
    {
      "cell_type": "code",
      "metadata": {
        "colab": {
          "base_uri": "https://localhost:8080/"
        },
        "id": "nUP3hP8RX-9F",
        "outputId": "d3987ded-5fac-468b-8abe-0f694dbc07b8"
      },
      "source": [
        "print('Action Spec:')\n",
        "print(env.action_spec())"
      ],
      "execution_count": 17,
      "outputs": [
        {
          "output_type": "stream",
          "name": "stdout",
          "text": [
            "Action Spec:\n",
            "BoundedArraySpec(shape=(), dtype=dtype('int64'), name='action', minimum=0, maximum=5)\n"
          ]
        }
      ]
    },
    {
      "cell_type": "code",
      "metadata": {
        "colab": {
          "base_uri": "https://localhost:8080/"
        },
        "id": "-tzG7H7vYO7S",
        "outputId": "521173df-d8df-4a7a-b135-7dfd997ff19b"
      },
      "source": [
        "env.unwrapped.get_action_meanings()"
      ],
      "execution_count": 18,
      "outputs": [
        {
          "output_type": "execute_result",
          "data": {
            "text/plain": [
              "['NOOP', 'FIRE', 'RIGHT', 'LEFT', 'RIGHTFIRE', 'LEFTFIRE']"
            ]
          },
          "metadata": {},
          "execution_count": 18
        }
      ]
    },
    {
      "cell_type": "markdown",
      "metadata": {
        "id": "W4pl3rdmOEgC"
      },
      "source": [
        "In the Atari Breakout environment, the agent learns to control the board by moving left and right, returning the ball to remove all the blocks at the top. The goal is to remove all blocks without missing the ball.\n",
        "\n",
        "* Observation has a shape of (210, 160, 3), which stands for 210 pixels long, 160 pixels wide, and RGB color chanels. Each chanel is an integer value from 0 to 255. For example, a black pixel is (0,0,0), a white pixel is (255, 255, 255).\n",
        "* Reward is a scalar float value. Total rewards is the game score. No discount.\n",
        "* Action is a scalar integer with four possible values:\n",
        "  * 0 — Stand still\n",
        "  * 1 — Fire\n",
        "  * 2 -- Move Right\n",
        "  * 3 -- Move Left\n",
        "\n",
        "After we take an action, the environment moves to the next time step."
      ]
    },
    {
      "cell_type": "code",
      "metadata": {
        "colab": {
          "base_uri": "https://localhost:8080/"
        },
        "id": "04DW9TH4O1FT",
        "outputId": "d497714a-e0ce-4cc9-9057-1b2c4c79e53e"
      },
      "source": [
        "time_step = env.reset()\n",
        "print('Time step:')\n",
        "print(time_step.observation.shape)\n",
        "\n",
        "action = np.array(1, dtype=np.int32)\n",
        "\n",
        "next_time_step = env.step(action)\n",
        "print('Next time step:')\n",
        "print(next_time_step.observation.shape)"
      ],
      "execution_count": 19,
      "outputs": [
        {
          "output_type": "stream",
          "name": "stdout",
          "text": [
            "Time step:\n",
            "(210, 160, 3)\n",
            "Next time step:\n",
            "(210, 160, 3)\n"
          ]
        }
      ]
    },
    {
      "cell_type": "markdown",
      "metadata": {
        "id": "EzfkAfAcvpu7"
      },
      "source": [
        "The first thing is to pre-process or downsample the game screen. TF-Agents offers standard image preprocessing as\n",
        "* Frame skipping (defaults to 4).\n",
        "* Terminal signal when a life is lost (off by default).\n",
        "* Grayscale and max-pooling of the last two frames.\n",
        "* Downsample the screen to a square image (defaults to 84x84).\n",
        "* Frame stacking to tell the direction and speed of the ball."
      ]
    },
    {
      "cell_type": "code",
      "metadata": {
        "id": "RRBYI6hzKGsA"
      },
      "source": [
        "ATARI_FRAME_SKIP = 4\n",
        "max_episode_frames = ATARI_FRAME_SKIP * 50_000\n",
        "\n",
        "train_py_env = suite_atari.load(\n",
        "    env_name,\n",
        "    max_episode_steps=max_episode_frames / ATARI_FRAME_SKIP,\n",
        "    gym_env_wrappers=suite_atari.DEFAULT_ATARI_GYM_WRAPPERS_WITH_STACKING)\n",
        "eval_py_env = suite_atari.load(\n",
        "    env_name,\n",
        "    max_episode_steps=max_episode_frames / ATARI_FRAME_SKIP,\n",
        "    gym_env_wrappers=suite_atari.DEFAULT_ATARI_GYM_WRAPPERS_WITH_STACKING)\n",
        "\n",
        "train_env = tf_py_environment.TFPyEnvironment(train_py_env)\n",
        "eval_env = tf_py_environment.TFPyEnvironment(eval_py_env)"
      ],
      "execution_count": 20,
      "outputs": []
    },
    {
      "cell_type": "markdown",
      "metadata": {
        "id": "wWON8a09KMg5"
      },
      "source": [
        "Taste the game environment with a random policy. It does not play well.\n",
        "\n",
        "The random policy is like an infant, who plays with the joystick and does meaningless moves. The remainder of the notebook is to train her how to play the game. Come back and compare with this moment to see how she grows."
      ]
    },
    {
      "cell_type": "code",
      "metadata": {
        "id": "5T0K4bIGKPrI"
      },
      "source": [
        "random_policy = random_tf_policy.RandomTFPolicy(train_env.time_step_spec(), train_env.action_spec())"
      ],
      "execution_count": 21,
      "outputs": []
    },
    {
      "cell_type": "code",
      "metadata": {
        "colab": {
          "base_uri": "https://localhost:8080/",
          "height": 538
        },
        "id": "fjCpyU1XKVJ9",
        "outputId": "ce3cf701-eff6-4c19-ecc6-6d3df2b2cc37"
      },
      "source": [
        "create_policy_eval_video(random_policy, \"random-agent\", num_episodes=1)"
      ],
      "execution_count": 22,
      "outputs": [
        {
          "output_type": "stream",
          "name": "stderr",
          "text": [
            "WARNING:root:IMAGEIO FFMPEG_WRITER WARNING: input image is not divisible by macro_block_size=16, resizing from (210, 160) to (224, 160) to ensure video compatibility with most codecs and players. To prevent resizing, make your input image divisible by the macro_block_size or set the macro_block_size to None (risking incompatibility). You may also see a FFMPEG warning concerning speedloss due to data not being aligned.\n"
          ]
        },
        {
          "output_type": "execute_result",
          "data": {
            "text/html": [
              "\n",
              "  <video width=\"640\" height=\"480\" controls>\n",
              "    <source src=\"data:video/mp4;base64,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\" type=\"video/mp4\">\n",
              "  Your browser does not support the video tag.\n",
              "  </video>"
            ],
            "text/plain": [
              "<IPython.core.display.HTML object>"
            ]
          },
          "metadata": {},
          "execution_count": 22
        }
      ]
    },
    {
      "cell_type": "markdown",
      "metadata": {
        "id": "WzkKtk3XKeTw"
      },
      "source": [
        "## Agent\n",
        "\n",
        "It defines the DQN agent to be trained.\n",
        "\n",
        "At the heart of a DQN Agent is a `QNetwork`, a neural network model that can learn to predict `QValues` (expected returns) for all actions, given an observation from the environment.\n",
        "\n",
        "The QNet is a convolutional neural network (CNN) illustrated as below.\n",
        "\n",
        "![DQN](https://leonardoaraujosantos.gitbook.io/~/files/v0/b/gitbook-28427.appspot.com/o/assets%2F-LvMRntv-nKvtl7WOpCz%2F-LvMRp9FltcwEeVxPYFs%2F-LvMRsnabIKrofQLFbYP%2FDQNBreakoutBlocks.png?generation=1575572714769936&alt=media)\n",
        "\n",
        "[Figure source](https://leonardoaraujosantos.gitbook.io/artificial-inteligence/)\n",
        "\n"
      ]
    },
    {
      "cell_type": "markdown",
      "metadata": {
        "id": "S7W1VfUHqjgz"
      },
      "source": [
        "CNN is widely used in image recognition. Here the game screen has a shape of (210, 160, 3), which stands for 210 pixels long, 160 pixels wide, and RGB color chanels. DQN downsamples the pixel to 84 x 84 and convert the RGB colors to grayscale. Then it stacks 4 frames together in order to tell the direction and velocity of moving objects. Therefore the input is 84x84x4."
      ]
    },
    {
      "cell_type": "code",
      "metadata": {
        "colab": {
          "base_uri": "https://localhost:8080/"
        },
        "id": "_8foWje8q7er",
        "outputId": "e4509090-367f-4987-f41b-af7392ecaa6e"
      },
      "source": [
        "train_py_env.observation_spec().shape        # (84x84) x 4 frames"
      ],
      "execution_count": 23,
      "outputs": [
        {
          "output_type": "execute_result",
          "data": {
            "text/plain": [
              "(84, 84, 4)"
            ]
          },
          "metadata": {},
          "execution_count": 23
        }
      ]
    },
    {
      "cell_type": "code",
      "metadata": {
        "id": "TrtqdpljKqSQ"
      },
      "source": [
        "# https://keras.io/examples/rl/deep_q_network_breakout/\n",
        "# Define a Q network with three convolutional layers and a fully connected layer\n",
        "action_tensor_spec = tensor_spec.from_spec(train_env.action_spec())\n",
        "num_actions = action_tensor_spec.maximum - action_tensor_spec.minimum + 1\n",
        "observation_spec = tensor_spec.from_spec(train_env.observation_spec())    # (84, 84, 4) four gray frames stacking       \n",
        "\n",
        "# proprocessing from uint8 color code between 0 and 255 to a float32 between 0 and 1.\n",
        "layer0 = tf.keras.layers.Lambda(lambda obs: tf.cast(obs, np.float32) / 255.)\n",
        "layer1 = tf.keras.layers.Conv2D(filters=32, kernel_size=(8, 8), strides = (4, 4), activation='relu')\n",
        "layer2 = tf.keras.layers.Conv2D(filters=64, kernel_size=(4, 4), strides = (2, 2), activation='relu')\n",
        "layer3 = tf.keras.layers.Conv2D(filters=64, kernel_size=(3, 3), strides = (1, 1), activation='relu')\n",
        "layer4 = tf.keras.layers.Flatten()\n",
        "layer5 = tf.keras.layers.Dense(512, activation='relu')\n",
        "layer6 = tf.keras.layers.Dense(num_actions, activation='linear') # action layer\n",
        "\n",
        "q_net = sequential.Sequential([layer0, layer1, layer2, layer3, layer4, layer5, layer6])"
      ],
      "execution_count": 24,
      "outputs": []
    },
    {
      "cell_type": "code",
      "metadata": {
        "colab": {
          "base_uri": "https://localhost:8080/"
        },
        "id": "JEs_VA2ZKuO3",
        "outputId": "bbdc8c69-0f46-4c2a-ee79-a2de9a3900e9"
      },
      "source": [
        "q_net.build(input_shape=observation_spec.shape)\n",
        "q_net.summary()"
      ],
      "execution_count": 25,
      "outputs": [
        {
          "output_type": "stream",
          "name": "stdout",
          "text": [
            "Model: \"sequential\"\n",
            "_________________________________________________________________\n",
            "Layer (type)                 Output Shape              Param #   \n",
            "=================================================================\n",
            "lambda (Lambda)              multiple                  0 (unused)\n",
            "_________________________________________________________________\n",
            "conv2d (Conv2D)              multiple                  0 (unused)\n",
            "_________________________________________________________________\n",
            "conv2d_1 (Conv2D)            multiple                  0 (unused)\n",
            "_________________________________________________________________\n",
            "conv2d_2 (Conv2D)            multiple                  0 (unused)\n",
            "_________________________________________________________________\n",
            "flatten (Flatten)            multiple                  0 (unused)\n",
            "_________________________________________________________________\n",
            "dense (Dense)                multiple                  0 (unused)\n",
            "_________________________________________________________________\n",
            "dense_1 (Dense)              multiple                  0 (unused)\n",
            "=================================================================\n",
            "Total params: 0\n",
            "Trainable params: 0\n",
            "Non-trainable params: 0\n",
            "_________________________________________________________________\n"
          ]
        }
      ]
    },
    {
      "cell_type": "markdown",
      "metadata": {
        "id": "jNDz796RyfGp"
      },
      "source": [
        "Now use `tf_agents.agents.dqn.dqn_agent` to instantiate a `DqnAgent`. In addition to the `time_step_spec`, `action_spec` and the QNetwork, the agent constructor also requires an optimizer, a loss function, and an integer step counter.\n",
        "\n",
        "The hyper-parameters follow [Hands-on Machine Learning by Aurélien Géron 2019](https://www.oreilly.com/library/view/hands-on-machine-learning/9781492032632/)."
      ]
    },
    {
      "cell_type": "code",
      "metadata": {
        "id": "O3fjg3_HyilK"
      },
      "source": [
        "global_step = tf.compat.v1.train.get_or_create_global_step()\n",
        "#train_step = tf.Variable(0)\n",
        "update_period = 4 # train the model every 4 steps\n",
        "optimizer = tf.keras.optimizers.RMSprop(lr=2.5e-4, rho=0.95, momentum=0.0,\n",
        "                                     epsilon=0.00001, centered=True)\n",
        "epsilon_fn = tf.keras.optimizers.schedules.PolynomialDecay(\n",
        "    initial_learning_rate=1.0, # initial ε\n",
        "    decay_steps=250000 // update_period, # <=> 1,000,000 ALE frames\n",
        "    end_learning_rate=0.01) # final ε\n",
        "agent = dqn_agent.DqnAgent(train_env.time_step_spec(),\n",
        "                           train_env.action_spec(),\n",
        "                           q_network=q_net,\n",
        "                           optimizer=optimizer,\n",
        "                           target_update_period=2000, # <=> 32,000 ALE frames\n",
        "                           td_errors_loss_fn=tf.keras.losses.Huber(reduction=\"none\"),\n",
        "                           gamma=0.99, # discount factor\n",
        "                           train_step_counter=global_step,\n",
        "                           epsilon_greedy=lambda: epsilon_fn(global_step))\n",
        "agent.initialize()"
      ],
      "execution_count": 26,
      "outputs": []
    },
    {
      "cell_type": "markdown",
      "metadata": {
        "id": "1h2kWfJ5xyxA"
      },
      "source": [
        "Agents contain two policies:\n",
        "\n",
        "* agent.policy — The main policy that is used for evaluation and deployment.\n",
        "* agent.collect_policy — A second policy that is used for data collection."
      ]
    },
    {
      "cell_type": "markdown",
      "metadata": {
        "id": "vSt0sdQS4ss8"
      },
      "source": [
        "## Metrics\n",
        "\n",
        "The most common metric used to evaluate a policy is the average return. The return is the sum of rewards obtained while running a policy in an environment for an episode. Several episodes are run, creating an average return.\n",
        "\n",
        "The following function computes the average return of a policy, given the policy, environment, and a number of episodes."
      ]
    },
    {
      "cell_type": "code",
      "metadata": {
        "id": "fATYgTyA4uAL"
      },
      "source": [
        "def compute_avg_return(environment, policy, num_episodes=10, max_steps=-1):\n",
        "\n",
        "  total_return = 0.0\n",
        "  for _ in range(num_episodes):\n",
        "\n",
        "    time_step = environment.reset()\n",
        "    episode_return = 0.0\n",
        "    n_step = 0\n",
        "\n",
        "    while not time_step.is_last():\n",
        "      action_step = policy.action(time_step)\n",
        "      time_step = environment.step(action_step.action)\n",
        "      episode_return += time_step.reward\n",
        "      n_step += 1\n",
        "      if (n_step > max_steps) & (max_steps > 0):\n",
        "        break\n",
        "    \n",
        "    total_return += episode_return\n",
        "\n",
        "  avg_return = total_return / num_episodes\n",
        "  return avg_return.numpy()[0]"
      ],
      "execution_count": 27,
      "outputs": []
    },
    {
      "cell_type": "markdown",
      "metadata": {
        "id": "1Eq9mv-w44ab"
      },
      "source": [
        "Running this computation on the `random_policy` shows a baseline performance in the environment."
      ]
    },
    {
      "cell_type": "code",
      "metadata": {
        "colab": {
          "base_uri": "https://localhost:8080/"
        },
        "id": "4VziiEh6489E",
        "outputId": "d6ad5acd-2568-4564-e820-30f0720552fa"
      },
      "source": [
        "num_eval_episodes = 5\n",
        "compute_avg_return(eval_env, random_policy, num_eval_episodes)"
      ],
      "execution_count": 28,
      "outputs": [
        {
          "output_type": "execute_result",
          "data": {
            "text/plain": [
              "171.0"
            ]
          },
          "metadata": {},
          "execution_count": 28
        }
      ]
    },
    {
      "cell_type": "markdown",
      "metadata": {
        "id": "zk5zCZSe5JHv"
      },
      "source": [
        "## Replay Buffer\n",
        "\n",
        "One original design of DQN is replay buffer. It collects the experience or transition tuple $(s, a, s', r)$ from not only current policy but also other policies. It then takes random mini-batches from the buffer.\n",
        "\n",
        "Replay buffer in TF-Agents consists of below components.\n",
        "1. driver -- explores the environment using a collect policy\n",
        "2. collect policy -- used by driver to interact with the environment\n",
        "3. observer -- receives trajectories or experiences from driver and save to replay buffer\n",
        "4. agent -- randomly pull experience from replay buffer and use the exprience to train\n",
        "\n"
      ]
    },
    {
      "cell_type": "code",
      "metadata": {
        "id": "lBoLbXVp8WYK"
      },
      "source": [
        "replay_buffer = TFUniformReplayBuffer(\n",
        "    data_spec=agent.collect_data_spec,\n",
        "    batch_size=train_env.batch_size,\n",
        "    max_length=100_000)"
      ],
      "execution_count": 29,
      "outputs": []
    },
    {
      "cell_type": "code",
      "metadata": {
        "id": "pyG9-FF4_moS"
      },
      "source": [
        "replay_buffer_observer = replay_buffer.add_batch"
      ],
      "execution_count": 30,
      "outputs": []
    },
    {
      "cell_type": "markdown",
      "metadata": {
        "id": "BlgCyCODAPk0"
      },
      "source": [
        "To start, initialize the replay buffer with some random experiences. The replay buffer is FIFO. As new experiences arrive, they will overwrite old experiences.\n",
        "\n",
        "It takes a couple of minutes to fill 20,000 steps."
      ]
    },
    {
      "cell_type": "code",
      "metadata": {
        "id": "5Blt19yw_8L7"
      },
      "source": [
        "train_env.reset()\n",
        "\n",
        "init_driver = DynamicStepDriver(\n",
        "    train_env,\n",
        "    random_policy,\n",
        "    observers=[replay_buffer.add_batch],\n",
        "    num_steps=20_000) # <=> 80,000 ALE frames\n",
        "final_time_step, final_policy_state = init_driver.run()"
      ],
      "execution_count": 31,
      "outputs": []
    },
    {
      "cell_type": "markdown",
      "metadata": {
        "id": "2iY2lGo3EaSr"
      },
      "source": [
        "For information purpusoe, sample a batch of trajectories from the replay buffer and examine how they look like.\n",
        "\n",
        "Below it samples 2 trajectories; each has three steps; each step contains a 84x84x4 observation."
      ]
    },
    {
      "cell_type": "code",
      "metadata": {
        "id": "CiWwEQjKDyrh"
      },
      "source": [
        "trajectories, buffer_info = replay_buffer.get_next(sample_batch_size=2, num_steps=3)"
      ],
      "execution_count": 33,
      "outputs": []
    },
    {
      "cell_type": "code",
      "metadata": {
        "colab": {
          "base_uri": "https://localhost:8080/"
        },
        "id": "95mfW2iXD375",
        "outputId": "004e5152-24fe-4057-f783-8d6b1c1137e7"
      },
      "source": [
        "trajectories.observation.shape"
      ],
      "execution_count": 34,
      "outputs": [
        {
          "output_type": "execute_result",
          "data": {
            "text/plain": [
              "TensorShape([2, 3, 84, 84, 4])"
            ]
          },
          "metadata": {},
          "execution_count": 34
        }
      ]
    },
    {
      "cell_type": "code",
      "metadata": {
        "colab": {
          "base_uri": "https://localhost:8080/"
        },
        "id": "zmOO8T7CIcwx",
        "outputId": "5a1b050a-b961-402b-c344-bd31eb454168"
      },
      "source": [
        "from tf_agents.trajectories.trajectory import to_transition\n",
        "time_steps, action_steps, next_time_steps = to_transition(trajectories)\n",
        "time_steps.observation.shape"
      ],
      "execution_count": 35,
      "outputs": [
        {
          "output_type": "execute_result",
          "data": {
            "text/plain": [
              "TensorShape([2, 2, 84, 84, 4])"
            ]
          },
          "metadata": {},
          "execution_count": 35
        }
      ]
    },
    {
      "cell_type": "markdown",
      "metadata": {
        "id": "iQfR3sReF0V7"
      },
      "source": [
        "The agent needs access to the replay buffer. This is provided by creating an iterable tf.data.Dataset pipeline which will feed data to the agent.\n",
        "\n",
        "Each row of the replay buffer only stores a single observation step. But since the DQN Agent needs both the current and next observation to compute the loss, the dataset pipeline will sample two adjacent rows for each item in the batch (`num_steps=2`)."
      ]
    },
    {
      "cell_type": "code",
      "metadata": {
        "id": "GTqenYqT9qvT"
      },
      "source": [
        "dataset = replay_buffer.as_dataset(\n",
        "    num_parallel_calls=3,\n",
        "    sample_batch_size=32,\n",
        "    num_steps=2).prefetch(3)"
      ],
      "execution_count": 36,
      "outputs": []
    },
    {
      "cell_type": "code",
      "metadata": {
        "id": "MOfe0JwoINaR"
      },
      "source": [
        "iterator = iter(dataset)"
      ],
      "execution_count": 37,
      "outputs": []
    },
    {
      "cell_type": "markdown",
      "metadata": {
        "id": "g7X9Ihu7Th6n"
      },
      "source": [
        "## Training the agent\n",
        "\n",
        "Now it is ready to train the agent. \n",
        "\n",
        "Set num_iterations to 5_000 for testing. 1_000_000 takes days.\n",
        "\n",
        "[Save Model](https://www.tensorflow.org/agents/tutorials/10_checkpointer_policysaver_tutorial)\n",
        "\n",
        "[Colab timeout](https://research.google.com/colaboratory/faq.html#idle-timeouts)\n",
        "\n",
        "It needs to periodically save the model in order to continue the training process after Colab disconnection. To save and reload agent status, including replay buffer, use Checkpointer.\n",
        "\n",
        "In the end, we can just save the policy using PolicySaver."
      ]
    },
    {
      "cell_type": "code",
      "metadata": {
        "id": "I06T5RXIHS0L"
      },
      "source": [
        "num_iterations = 100_000   # less intelligence, more persistance; 24x7 player\n",
        "save_interval = 100_000\n",
        "eval_interval = 50_000\n",
        "log_interval = 5_000"
      ],
      "execution_count": 38,
      "outputs": []
    },
    {
      "cell_type": "code",
      "metadata": {
        "id": "3nHDKUI7ImqB"
      },
      "source": [
        "# Create a driver to collect experience.\n",
        "collect_driver = DynamicStepDriver(\n",
        "    train_env,\n",
        "    agent.collect_policy,\n",
        "    observers=[replay_buffer_observer],\n",
        "    num_steps=update_period) # collect 4 steps for each training iteration"
      ],
      "execution_count": 39,
      "outputs": []
    },
    {
      "cell_type": "code",
      "metadata": {
        "id": "g7J8ITpXFp-U"
      },
      "source": [
        "#from tf_agents.policies import PolicySaver\n",
        "import os\n",
        "import io\n",
        "import tempfile\n",
        "import shutil\n",
        "import zipfile\n",
        "import numpy as np\n",
        "from google.colab import files\n",
        "\n",
        "tempdir = os.getenv(\"TEST_TMPDIR\", tempfile.gettempdir())"
      ],
      "execution_count": 40,
      "outputs": []
    },
    {
      "cell_type": "code",
      "metadata": {
        "id": "n0VbctgGFtUz"
      },
      "source": [
        "def create_zip_file(dirname, base_filename):\n",
        "  return shutil.make_archive(base_filename, 'zip', dirname)\n",
        "\n",
        "def save_checkpoint_to_local():\n",
        "  train_checkpointer.save(global_step)\n",
        "  # add returns to checkpoint_dir\n",
        "  np.savetxt(os.path.join(checkpoint_dir, 'returns.txt'), returns, delimiter=',')\n",
        "  checkpoint_zip_filename = create_zip_file(checkpoint_dir, os.path.join(tempdir, 'exported_cp'))\n",
        "  # Privacy and security -> Site Settings -> Automatic downloads\n",
        "  files.download(checkpoint_zip_filename) # try again if this fails: https://github.com/googlecolab/colabtools/issues/469\n",
        "\n",
        "def upload_and_unzip_file_to(dirname):\n",
        "  if files is None:\n",
        "    return\n",
        "  uploaded = files.upload()\n",
        "  for fn in uploaded.keys():\n",
        "    print('User uploaded file \"{name}\" with length {length} bytes'.format(\n",
        "        name=fn, length=len(uploaded[fn])))\n",
        "    shutil.rmtree(dirname)\n",
        "    zip_files = zipfile.ZipFile(io.BytesIO(uploaded[fn]), 'r')\n",
        "    zip_files.extractall(dirname)\n",
        "    zip_files.close()"
      ],
      "execution_count": 41,
      "outputs": []
    },
    {
      "cell_type": "code",
      "metadata": {
        "id": "ps0HVyvgFzGh"
      },
      "source": [
        "checkpoint_dir = os.path.join(tempdir, 'checkpoint')\n",
        "train_checkpointer = common.Checkpointer(\n",
        "    ckpt_dir=checkpoint_dir,\n",
        "    max_to_keep=1,\n",
        "    agent=agent,\n",
        "    policy=agent.policy,\n",
        "    replay_buffer=replay_buffer,\n",
        "    global_step=global_step\n",
        ")"
      ],
      "execution_count": 42,
      "outputs": []
    },
    {
      "cell_type": "markdown",
      "metadata": {
        "id": "EG7Xl2UHJxOs"
      },
      "source": [
        "To [keep Colab running](https://stackoverflow.com/questions/57113226/how-to-prevent-google-colab-from-disconnecting).\n",
        "\n",
        "function ConnectButton(){\n",
        "    console.log(\"Connect pushed\"); \n",
        "    document.querySelector(\"#top-toolbar > colab-connect-button\").shadowRoot.querySelector(\"#connect\").click() \n",
        "}\n",
        "\n",
        "var colab = setInterval(ConnectButton,60000);\n",
        "clearInterval(colab)"
      ]
    },
    {
      "cell_type": "code",
      "metadata": {
        "colab": {
          "base_uri": "https://localhost:8080/"
        },
        "id": "sz6bpOunG4CL",
        "outputId": "baf73e04-c65a-4929-cf24-b65160ff3fb5"
      },
      "source": [
        "# (Optional) Optimize by wrapping some of the code in a graph using TF function.\n",
        "collect_driver.run = common.function(collect_driver.run)\n",
        "agent.train = common.function(agent.train)\n",
        "\n",
        "# Reset the train step.\n",
        "agent.train_step_counter.assign(0)\n",
        "\n",
        "# Evaluate the agent's policy once before training.\n",
        "avg_return = compute_avg_return(eval_env, agent.policy, num_eval_episodes)\n",
        "returns = np.array([avg_return])\n",
        "\n",
        "# Reset the environment.\n",
        "time_step = None\n",
        "policy_state = agent.collect_policy.get_initial_state(train_env.batch_size)\n",
        "\n",
        "step = 0\n",
        "while True:\n",
        "    # Collect a few steps using collect_policy and save to the replay buffer.\n",
        "    time_step, policy_state = collect_driver.run(time_step, policy_state)\n",
        "\n",
        "    # Sample a batch of data from the buffer and update the agent's network.\n",
        "    experience, unused_info = next(iterator)\n",
        "    train_loss = agent.train(experience).loss\n",
        "\n",
        "    step = agent.train_step_counter.numpy()\n",
        "    print(f'\\r step {step}', end='')\n",
        "\n",
        "    if step % log_interval == 0:\n",
        "        print('step = {0}: loss = {1}'.format(step, train_loss))\n",
        "\n",
        "    if step % eval_interval == 0:\n",
        "        avg_return = compute_avg_return(eval_env, agent.policy, num_eval_episodes)\n",
        "        print('step = {0}: Average Return = {1}'.format(step, avg_return))\n",
        "        returns = np.append(returns, avg_return)\n",
        "\n",
        "    # if step % save_interval == 0:\n",
        "    #     save_checkpoint_to_local()\n",
        "\n",
        "    if step > num_iterations:\n",
        "        break"
      ],
      "execution_count": 43,
      "outputs": [
        {
          "metadata": {
            "tags": null
          },
          "name": "stdout",
          "output_type": "stream",
          "text": [
            "WARNING:tensorflow:From /usr/local/lib/python3.7/dist-packages/tensorflow/python/util/dispatch.py:1096: calling foldr_v2 (from tensorflow.python.ops.functional_ops) with back_prop=False is deprecated and will be removed in a future version.\n",
            "Instructions for updating:\n",
            "back_prop=False is deprecated. Consider using tf.stop_gradient instead.\n",
            "Instead of:\n",
            "results = tf.foldr(fn, elems, back_prop=False)\n",
            "Use:\n",
            "results = tf.nest.map_structure(tf.stop_gradient, tf.foldr(fn, elems))\n"
          ]
        },
        {
          "metadata": {
            "tags": null
          },
          "name": "stderr",
          "output_type": "stream",
          "text": [
            "WARNING:tensorflow:From /usr/local/lib/python3.7/dist-packages/tensorflow/python/util/dispatch.py:1096: calling foldr_v2 (from tensorflow.python.ops.functional_ops) with back_prop=False is deprecated and will be removed in a future version.\n",
            "Instructions for updating:\n",
            "back_prop=False is deprecated. Consider using tf.stop_gradient instead.\n",
            "Instead of:\n",
            "results = tf.foldr(fn, elems, back_prop=False)\n",
            "Use:\n",
            "results = tf.nest.map_structure(tf.stop_gradient, tf.foldr(fn, elems))\n"
          ]
        },
        {
          "output_type": "stream",
          "name": "stdout",
          "text": [
            " step 5000step = 5000: loss = 0.608530580997467\n",
            " step 10000step = 10000: loss = 1.491654396057129\n",
            " step 15000step = 15000: loss = 1.0811423063278198\n",
            " step 20000step = 20000: loss = 0.04874517768621445\n",
            " step 25000step = 25000: loss = 1.1065270900726318\n",
            " step 30000step = 30000: loss = 0.08628454804420471\n",
            " step 35000step = 35000: loss = 0.7659016847610474\n",
            " step 40000step = 40000: loss = 1.0400705337524414\n",
            " step 45000step = 45000: loss = 2.0612244606018066\n",
            " step 50000step = 50000: loss = 0.8223446607589722\n",
            "step = 50000: Average Return = 245.0\n",
            " step 55000step = 55000: loss = 1.7679486274719238\n",
            " step 60000step = 60000: loss = 1.2738096714019775\n",
            " step 65000step = 65000: loss = 2.466463565826416\n",
            " step 70000step = 70000: loss = 0.8637232780456543\n",
            " step 75000step = 75000: loss = 2.239035129547119\n",
            " step 80000step = 80000: loss = 0.8663248419761658\n",
            " step 85000step = 85000: loss = 1.6288963556289673\n",
            " step 90000step = 90000: loss = 3.173646926879883\n",
            " step 95000step = 95000: loss = 1.4633464813232422\n",
            " step 100000step = 100000: loss = 2.337794065475464\n",
            "step = 100000: Average Return = 365.0\n",
            " step 100001"
          ]
        }
      ]
    },
    {
      "cell_type": "code",
      "metadata": {
        "id": "08YwMwPgSWMN",
        "colab": {
          "base_uri": "https://localhost:8080/",
          "height": 34
        },
        "outputId": "fcac1cce-bb76-4820-e025-357b9700ec20"
      },
      "source": [
        "save_checkpoint_to_local()"
      ],
      "execution_count": 44,
      "outputs": [
        {
          "output_type": "display_data",
          "data": {
            "application/javascript": [
              "\n",
              "    async function download(id, filename, size) {\n",
              "      if (!google.colab.kernel.accessAllowed) {\n",
              "        return;\n",
              "      }\n",
              "      const div = document.createElement('div');\n",
              "      const label = document.createElement('label');\n",
              "      label.textContent = `Downloading \"${filename}\": `;\n",
              "      div.appendChild(label);\n",
              "      const progress = document.createElement('progress');\n",
              "      progress.max = size;\n",
              "      div.appendChild(progress);\n",
              "      document.body.appendChild(div);\n",
              "\n",
              "      const buffers = [];\n",
              "      let downloaded = 0;\n",
              "\n",
              "      const channel = await google.colab.kernel.comms.open(id);\n",
              "      // Send a message to notify the kernel that we're ready.\n",
              "      channel.send({})\n",
              "\n",
              "      for await (const message of channel.messages) {\n",
              "        // Send a message to notify the kernel that we're ready.\n",
              "        channel.send({})\n",
              "        if (message.buffers) {\n",
              "          for (const buffer of message.buffers) {\n",
              "            buffers.push(buffer);\n",
              "            downloaded += buffer.byteLength;\n",
              "            progress.value = downloaded;\n",
              "          }\n",
              "        }\n",
              "      }\n",
              "      const blob = new Blob(buffers, {type: 'application/binary'});\n",
              "      const a = document.createElement('a');\n",
              "      a.href = window.URL.createObjectURL(blob);\n",
              "      a.download = filename;\n",
              "      div.appendChild(a);\n",
              "      a.click();\n",
              "      div.remove();\n",
              "    }\n",
              "  "
            ],
            "text/plain": [
              "<IPython.core.display.Javascript object>"
            ]
          },
          "metadata": {}
        },
        {
          "output_type": "display_data",
          "data": {
            "application/javascript": [
              "download(\"download_677f0cef-1d57-44e2-8ff7-64c20ce91535\", \"exported_cp.zip\", 191031536)"
            ],
            "text/plain": [
              "<IPython.core.display.Javascript object>"
            ]
          },
          "metadata": {}
        }
      ]
    },
    {
      "cell_type": "markdown",
      "metadata": {
        "id": "LWph3mD8qPEt"
      },
      "source": [
        "Upload and continue after Colab is disconnected."
      ]
    },
    {
      "cell_type": "code",
      "metadata": {
        "id": "xjj6WBqOzQXs"
      },
      "source": [
        "!mkdir -p $checkpoint_dir"
      ],
      "execution_count": null,
      "outputs": []
    },
    {
      "cell_type": "code",
      "metadata": {
        "id": "mhlQiYxYuIpk"
      },
      "source": [
        "upload_and_unzip_file_to(checkpoint_dir)\n",
        "train_checkpointer.initialize_or_restore()\n",
        "global_step = tf.compat.v1.train.get_global_step()\n",
        "returns = np.loadtxt(os.path.join(checkpoint_dir, 'returns.txt'), delimiter=',', dtype=np.float32)"
      ],
      "execution_count": 45,
      "outputs": []
    },
    {
      "cell_type": "markdown",
      "metadata": {
        "id": "oW-Gbt4Zci_E"
      },
      "source": [
        "remove uploaded file"
      ]
    },
    {
      "cell_type": "code",
      "metadata": {
        "id": "8mm_yXRMVOtS"
      },
      "source": [
        "!rm exported_cp.zip"
      ],
      "execution_count": null,
      "outputs": []
    },
    {
      "cell_type": "markdown",
      "metadata": {
        "id": "pSySLtejsWo6"
      },
      "source": [
        "Continue the training. "
      ]
    },
    {
      "cell_type": "code",
      "metadata": {
        "id": "cCKjC-nlRvW7"
      },
      "source": [
        "num_iterations = 200_000          # increase 100_000 each time, to 1_000_0000"
      ],
      "execution_count": 46,
      "outputs": []
    },
    {
      "cell_type": "code",
      "metadata": {
        "colab": {
          "base_uri": "https://localhost:8080/"
        },
        "id": "KybMgrdfQT7T",
        "outputId": "ac173de6-70e4-4e71-96af-611c182274af"
      },
      "source": [
        "while True:\n",
        "    # Collect a few steps using collect_policy and save to the replay buffer.\n",
        "    time_step, policy_state = collect_driver.run(time_step, policy_state)\n",
        "\n",
        "    # Sample a batch of data from the buffer and update the agent's network.\n",
        "    experience, unused_info = next(iterator)\n",
        "    train_loss = agent.train(experience).loss\n",
        "\n",
        "    step = agent.train_step_counter.numpy()\n",
        "    print(f'\\r step {step}', end='')\n",
        "\n",
        "    if step % log_interval == 0:\n",
        "        print('step = {0}: loss = {1}'.format(step, train_loss))\n",
        "\n",
        "    if step % eval_interval == 0:\n",
        "        avg_return = compute_avg_return(eval_env, agent.policy, num_eval_episodes)\n",
        "        print('step = {0}: Average Return = {1}'.format(step, avg_return))\n",
        "        returns = np.append(returns, avg_return)\n",
        "\n",
        "    # if step % save_interval == 0:\n",
        "    #     save_checkpoint_to_local()\n",
        "\n",
        "    if step > num_iterations:\n",
        "        break"
      ],
      "execution_count": 47,
      "outputs": [
        {
          "output_type": "stream",
          "name": "stdout",
          "text": [
            " step 105000step = 105000: loss = 1.713509440422058\n",
            " step 110000step = 110000: loss = 4.5312604904174805\n",
            " step 115000step = 115000: loss = 2.102066993713379\n",
            " step 120000step = 120000: loss = 3.047064781188965\n",
            " step 125000step = 125000: loss = 2.2205536365509033\n",
            " step 130000step = 130000: loss = 3.136992931365967\n",
            " step 135000step = 135000: loss = 8.079166412353516\n",
            " step 140000step = 140000: loss = 1.7076475620269775\n",
            " step 145000step = 145000: loss = 1.7515592575073242\n",
            " step 150000step = 150000: loss = 2.315495252609253\n",
            "step = 150000: Average Return = 493.0\n",
            " step 155000step = 155000: loss = 2.5497970581054688\n",
            " step 160000step = 160000: loss = 3.640261173248291\n",
            " step 165000step = 165000: loss = 2.2458770275115967\n",
            " step 170000step = 170000: loss = 3.233553409576416\n",
            " step 175000step = 175000: loss = 5.8226704597473145\n",
            " step 180000step = 180000: loss = 3.067084789276123\n",
            " step 185000step = 185000: loss = 2.470966339111328\n",
            " step 190000step = 190000: loss = 3.1095316410064697\n",
            " step 195000step = 195000: loss = 2.8291192054748535\n",
            " step 200000step = 200000: loss = 3.8037238121032715\n",
            "step = 200000: Average Return = 408.0\n",
            " step 200001"
          ]
        }
      ]
    },
    {
      "cell_type": "code",
      "metadata": {
        "colab": {
          "base_uri": "https://localhost:8080/",
          "height": 17
        },
        "id": "3ttQla_ESbpz",
        "outputId": "b716716e-92f8-49f7-8644-6bbe5392b90a"
      },
      "source": [
        "save_checkpoint_to_local()"
      ],
      "execution_count": null,
      "outputs": [
        {
          "output_type": "display_data",
          "data": {
            "application/javascript": [
              "\n",
              "    async function download(id, filename, size) {\n",
              "      if (!google.colab.kernel.accessAllowed) {\n",
              "        return;\n",
              "      }\n",
              "      const div = document.createElement('div');\n",
              "      const label = document.createElement('label');\n",
              "      label.textContent = `Downloading \"${filename}\": `;\n",
              "      div.appendChild(label);\n",
              "      const progress = document.createElement('progress');\n",
              "      progress.max = size;\n",
              "      div.appendChild(progress);\n",
              "      document.body.appendChild(div);\n",
              "\n",
              "      const buffers = [];\n",
              "      let downloaded = 0;\n",
              "\n",
              "      const channel = await google.colab.kernel.comms.open(id);\n",
              "      // Send a message to notify the kernel that we're ready.\n",
              "      channel.send({})\n",
              "\n",
              "      for await (const message of channel.messages) {\n",
              "        // Send a message to notify the kernel that we're ready.\n",
              "        channel.send({})\n",
              "        if (message.buffers) {\n",
              "          for (const buffer of message.buffers) {\n",
              "            buffers.push(buffer);\n",
              "            downloaded += buffer.byteLength;\n",
              "            progress.value = downloaded;\n",
              "          }\n",
              "        }\n",
              "      }\n",
              "      const blob = new Blob(buffers, {type: 'application/binary'});\n",
              "      const a = document.createElement('a');\n",
              "      a.href = window.URL.createObjectURL(blob);\n",
              "      a.download = filename;\n",
              "      div.appendChild(a);\n",
              "      a.click();\n",
              "      div.remove();\n",
              "    }\n",
              "  "
            ],
            "text/plain": [
              "<IPython.core.display.Javascript object>"
            ]
          },
          "metadata": {}
        },
        {
          "output_type": "display_data",
          "data": {
            "application/javascript": [
              "download(\"download_9ac480bc-a07c-4c6f-960a-68c0d23ebf5a\", \"exported_cp.zip\", 188040447)"
            ],
            "text/plain": [
              "<IPython.core.display.Javascript object>"
            ]
          },
          "metadata": {}
        }
      ]
    },
    {
      "cell_type": "markdown",
      "metadata": {
        "id": "fG85FIpkT-PI"
      },
      "source": [
        "In the end, save the lightweighted policy to play the game."
      ]
    },
    {
      "cell_type": "code",
      "metadata": {
        "colab": {
          "base_uri": "https://localhost:8080/"
        },
        "id": "jnuXzfm4UEDQ",
        "outputId": "1059d61a-e6be-4e96-b423-6f270019d214"
      },
      "source": [
        "from tf_agents.policies import policy_saver\n",
        "\n",
        "policy_dir = os.path.join(tempdir, 'policy')\n",
        "tf_policy_saver = policy_saver.PolicySaver(agent.policy)\n",
        "\n",
        "tf_policy_saver.save(policy_dir)\n",
        "policy_zip_filename = create_zip_file(policy_dir, os.path.join(tempdir, 'exported_policy'))"
      ],
      "execution_count": 48,
      "outputs": [
        {
          "output_type": "stream",
          "name": "stderr",
          "text": [
            "WARNING:absl:Function `function_with_signature` contains input name(s) 0/step_type, 0/reward, 0/discount, 0/observation with unsupported characters which will be renamed to step_type, reward, discount, observation in the SavedModel.\n",
            "WARNING:absl:Found untraced functions such as sequential_layer_call_fn, sequential_layer_call_and_return_conditional_losses, sequential_layer_call_fn, sequential_layer_call_and_return_conditional_losses, sequential_layer_call_and_return_conditional_losses while saving (showing 5 of 40). These functions will not be directly callable after loading.\n"
          ]
        },
        {
          "output_type": "stream",
          "name": "stdout",
          "text": [
            "INFO:tensorflow:Assets written to: /tmp/policy/assets\n"
          ]
        },
        {
          "output_type": "stream",
          "name": "stderr",
          "text": [
            "INFO:tensorflow:Assets written to: /tmp/policy/assets\n"
          ]
        }
      ]
    },
    {
      "cell_type": "code",
      "metadata": {
        "colab": {
          "base_uri": "https://localhost:8080/",
          "height": 34
        },
        "id": "WPm0iLE133ei",
        "outputId": "8d8f8f16-3346-4678-9f30-02e0392e7f13"
      },
      "source": [
        "files.download(policy_zip_filename)"
      ],
      "execution_count": 52,
      "outputs": [
        {
          "output_type": "display_data",
          "data": {
            "application/javascript": [
              "\n",
              "    async function download(id, filename, size) {\n",
              "      if (!google.colab.kernel.accessAllowed) {\n",
              "        return;\n",
              "      }\n",
              "      const div = document.createElement('div');\n",
              "      const label = document.createElement('label');\n",
              "      label.textContent = `Downloading \"${filename}\": `;\n",
              "      div.appendChild(label);\n",
              "      const progress = document.createElement('progress');\n",
              "      progress.max = size;\n",
              "      div.appendChild(progress);\n",
              "      document.body.appendChild(div);\n",
              "\n",
              "      const buffers = [];\n",
              "      let downloaded = 0;\n",
              "\n",
              "      const channel = await google.colab.kernel.comms.open(id);\n",
              "      // Send a message to notify the kernel that we're ready.\n",
              "      channel.send({})\n",
              "\n",
              "      for await (const message of channel.messages) {\n",
              "        // Send a message to notify the kernel that we're ready.\n",
              "        channel.send({})\n",
              "        if (message.buffers) {\n",
              "          for (const buffer of message.buffers) {\n",
              "            buffers.push(buffer);\n",
              "            downloaded += buffer.byteLength;\n",
              "            progress.value = downloaded;\n",
              "          }\n",
              "        }\n",
              "      }\n",
              "      const blob = new Blob(buffers, {type: 'application/binary'});\n",
              "      const a = document.createElement('a');\n",
              "      a.href = window.URL.createObjectURL(blob);\n",
              "      a.download = filename;\n",
              "      div.appendChild(a);\n",
              "      a.click();\n",
              "      div.remove();\n",
              "    }\n",
              "  "
            ],
            "text/plain": [
              "<IPython.core.display.Javascript object>"
            ]
          },
          "metadata": {}
        },
        {
          "output_type": "display_data",
          "data": {
            "application/javascript": [
              "download(\"download_8cf17be3-b8e2-45b9-9bd4-ae4ed44e7c1a\", \"exported_policy.zip\", 6290197)"
            ],
            "text/plain": [
              "<IPython.core.display.Javascript object>"
            ]
          },
          "metadata": {}
        }
      ]
    },
    {
      "cell_type": "markdown",
      "metadata": {
        "id": "UIfM8hyPVVcT"
      },
      "source": [
        "## Evaluation\n",
        "\n",
        "Load the trained policy and saved average return."
      ]
    },
    {
      "cell_type": "code",
      "metadata": {
        "id": "QXDaNLqtVG_0"
      },
      "source": [
        "# upload_and_unzip_file_to(policy_dir)       # wget and unzip\n",
        "# saved_policy = tf.saved_model.load(policy_dir)"
      ],
      "execution_count": null,
      "outputs": []
    },
    {
      "cell_type": "markdown",
      "metadata": {
        "id": "8bC8WbugVfkp"
      },
      "source": [
        "The average return is expected to increase over training iterations.\n",
        "\n",
        "Here num_iterations = 200_000; eval_interval = 50_000."
      ]
    },
    {
      "cell_type": "code",
      "metadata": {
        "id": "j1ic_ZD6_1LP",
        "colab": {
          "base_uri": "https://localhost:8080/",
          "height": 300
        },
        "outputId": "4fcd3eda-59bb-471e-9221-504012a83bcd"
      },
      "source": [
        "iterations = range(0, num_iterations + 1, eval_interval)\n",
        "plt.plot(iterations, returns)\n",
        "plt.ylabel('Average Return')\n",
        "plt.xlabel('Iterations')\n",
        "plt.ylim(top=550)"
      ],
      "execution_count": 57,
      "outputs": [
        {
          "output_type": "execute_result",
          "data": {
            "text/plain": [
              "(232.6, 550.0)"
            ]
          },
          "metadata": {},
          "execution_count": 57
        },
        {
          "output_type": "display_data",
          "data": {
            "image/png": "[encoded data removed]",
            "text/plain": [
              "<Figure size 432x288 with 1 Axes>"
            ]
          },
          "metadata": {
            "needs_background": "light"
          }
        }
      ]
    },
    {
      "cell_type": "markdown",
      "metadata": {
        "id": "fFLynDBlV4SB"
      },
      "source": [
        "See how the trained agent plays."
      ]
    },
    {
      "cell_type": "code",
      "metadata": {
        "id": "5K9eFPrRVxtn",
        "colab": {
          "base_uri": "https://localhost:8080/",
          "height": 538
        },
        "outputId": "cd002f5d-7da4-4033-8aed-d9891c2667d3"
      },
      "source": [
        "create_policy_eval_video(agent.policy, \"trained-agent\", num_episodes=1)"
      ],
      "execution_count": 58,
      "outputs": [
        {
          "output_type": "stream",
          "name": "stderr",
          "text": [
            "WARNING:root:IMAGEIO FFMPEG_WRITER WARNING: input image is not divisible by macro_block_size=16, resizing from (210, 160) to (224, 160) to ensure video compatibility with most codecs and players. To prevent resizing, make your input image divisible by the macro_block_size or set the macro_block_size to None (risking incompatibility). You may also see a FFMPEG warning concerning speedloss due to data not being aligned.\n"
          ]
        },
        {
          "output_type": "execute_result",
          "data": {
            "text/html": [
              "\n",
              "  <video width=\"640\" height=\"480\" controls>\n",
              "    <source src=\"data:video/mp4;base64,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\" type=\"video/mp4\">\n",
              "  Your browser does not support the video tag.\n",
              "  </video>"
            ],
            "text/plain": [
              "<IPython.core.display.HTML object>"
            ]
          },
          "metadata": {},
          "execution_count": 58
        }
      ]
    },
    {
      "cell_type": "code",
      "metadata": {
        "id": "C6vz9Xiq2Jff"
      },
      "source": [
        ""
      ],
      "execution_count": null,
      "outputs": []
    }
  ]
}